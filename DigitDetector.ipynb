{
 "cells": [
  {
   "cell_type": "code",
   "execution_count": 1,
   "id": "cf6d228a-308a-4e03-93ca-e809229ca25e",
   "metadata": {},
   "outputs": [
    {
     "name": "stdout",
     "output_type": "stream",
     "text": [
      "Path to dataset files: C:\\Users\\ma\\.cache\\kagglehub\\datasets\\oddrationale\\mnist-in-csv\\versions\\2\n"
     ]
    }
   ],
   "source": [
    "import kagglehub\n",
    "\n",
    "# Download latest version\n",
    "path = kagglehub.dataset_download(\"oddrationale/mnist-in-csv\")\n",
    "\n",
    "print(\"Path to dataset files:\", path)"
   ]
  },
  {
   "cell_type": "code",
   "execution_count": 2,
   "id": "7dab8c01-5335-4a5c-8d70-64e23c5e912c",
   "metadata": {},
   "outputs": [
    {
     "name": "stdin",
     "output_type": "stream",
     "text": [
      "Enter image index (0 to 9999):  5\n"
     ]
    },
    {
     "data": {
      "image/jpeg": "[encoded data removed]",
      "image/png": "[encoded data removed]",
      "text/plain": [
       "<PIL.Image.Image image mode=L size=28x28>"
      ]
     },
     "metadata": {},
     "output_type": "display_data"
    },
    {
     "name": "stdout",
     "output_type": "stream",
     "text": [
      "Label: 1\n"
     ]
    }
   ],
   "source": [
    "\n",
    "\n",
    "import os\n",
    "import numpy as np\n",
    "from PIL import Image\n",
    "from IPython.display import display\n",
    "\n",
    "# 1. Identify the CSV file in the downloaded dataset folder\n",
    "csv_files = [f for f in os.listdir(path) if f.endswith('.csv')]\n",
    "if not csv_files:\n",
    "    raise FileNotFoundError(f\"No CSV files found in {path}\")\n",
    "csv_path = os.path.join(path, csv_files[0])\n",
    "\n",
    "# 2. Load the CSV (skip header row)\n",
    "data = np.genfromtxt(csv_path, delimiter=',', skip_header=1)\n",
    "labels = data[:, 0].astype(int)\n",
    "pixels = data[:, 1:].astype(np.uint8)\n",
    "\n",
    "# 3. Ask user for an index and validate\n",
    "max_idx = len(labels) - 1\n",
    "idx = int(input(f\"Enter image index (0 to {max_idx}): \"))\n",
    "if not (0 <= idx <= max_idx):\n",
    "    raise ValueError(f\"Index out of range. Must be between 0 and {max_idx}.\")\n",
    "\n",
    "# 4. Reshape pixel data and display\n",
    "img_arr = pixels[idx].reshape(28, 28)\n",
    "img = Image.fromarray(img_arr, mode='L')\n",
    "display(img)\n",
    "\n",
    "\n",
    "print(\"Label:\", labels[idx])"
   ]
  },
  {
   "cell_type": "code",
   "execution_count": 60,
   "id": "7b14cfe8-ddef-41de-8872-e2fb69f69bf9",
   "metadata": {},
   "outputs": [],
   "source": [
    "# layer1 = np.array(np.empty((1,784)),dtype=np.float32)\n",
    "layer1 = scaledpixel\n",
    "layer2 = np.array(np.empty((1,107),dtype=np.float32))\n",
    "layer3 = np.array(np.empty((1,26)),dtype=np.float32)\n",
    "layer4 =  np.array(np.empty((1,10)),dtype=np.float32)\n"
   ]
  },
  {
   "cell_type": "code",
   "execution_count": 44,
   "id": "1c6e79d3-165b-4bd9-aea2-388d2304408d",
   "metadata": {},
   "outputs": [],
   "source": [
    "w_l1_l2 = np.array(np.random.rand(784,107) ,dtype=np.float32)\n",
    "w_l2_l3 = np.array(np.random.rand(107,26), dtype=np.float32) \n",
    "w_l3_l4 = np.array(np.random.rand(26,10),dtype=np.float32)"
   ]
  },
  {
   "cell_type": "code",
   "execution_count": 45,
   "id": "513ac072-3d8d-4a18-8df7-dd5503037ad5",
   "metadata": {},
   "outputs": [],
   "source": [
    "b_l2 = np.array(np.random.rand(1,107) ,dtype=np.float32)\n",
    "b_l3 =np.array(np.random.rand(1,26) ,dtype=np.float32)\n",
    "b_l4 = np.array(np.random.rand(1,10) ,dtype=np.float32)"
   ]
  },
  {
   "cell_type": "code",
   "execution_count": 17,
   "id": "35b25b3c-81ff-4e5f-bcbe-4271759078e5",
   "metadata": {},
   "outputs": [],
   "source": [
    "# print(b_l2)\n",
    "\n"
   ]
  },
  {
   "cell_type": "code",
   "execution_count": 59,
   "id": "b3cdbc28-34b3-4a4a-bca8-1a3a6d4be326",
   "metadata": {},
   "outputs": [],
   "source": [
    "scaledpixel = pixels / 255.0"
   ]
  },
  {
   "cell_type": "code",
   "execution_count": 36,
   "id": "d73c8770-1039-43e7-bc71-f2a060ffde3f",
   "metadata": {},
   "outputs": [],
   "source": [
    "def sigmoid(x):\n",
    "    return 1 / (1 + np.exp(-x))"
   ]
  },
  {
   "cell_type": "code",
   "execution_count": 37,
   "id": "6547ad28-f5c3-45f2-9ca0-99044e99f4a9",
   "metadata": {},
   "outputs": [],
   "source": [
    "# passing_to_sigmoid = sigmoid(scaledpixel)"
   ]
  },
  {
   "cell_type": "code",
   "execution_count": 62,
   "id": "cbeb2826-4a03-4798-8ad7-f88fec9e5ba7",
   "metadata": {},
   "outputs": [],
   "source": [
    "array1 = np.dot(layer1,w_l1_l2) + b_l2\n",
    "\n",
    "array2 = np.dot(layer2,w_l2_l3) + b_l3\n",
    "\n",
    "array3 = np.dot(layer3,w_l3_l4) + b_l4"
   ]
  },
  {
   "cell_type": "code",
   "execution_count": 65,
   "id": "df20d1de-2b4f-4cc7-9538-f12be014b1d4",
   "metadata": {},
   "outputs": [],
   "source": [
    "sigmoid1 = sigmoid(array1)\n",
    "sigmoid2= sigmoid(array2)\n",
    "sigmoid3 = sigmoid(array3)"
   ]
  },
  {
   "cell_type": "code",
   "execution_count": 68,
   "id": "7c038b4e-bcfc-4d77-9f90-84ad0ee1769c",
   "metadata": {},
   "outputs": [],
   "source": [
    "ans =np.argmax(sigmoid3)"
   ]
  },
  {
   "cell_type": "code",
   "execution_count": 69,
   "id": "774fb07d-b716-4d23-b07d-3a92f6303a55",
   "metadata": {},
   "outputs": [
    {
     "name": "stdout",
     "output_type": "stream",
     "text": [
      "answer is 4\n"
     ]
    }
   ],
   "source": [
    "print(\"answer is\", ans)"
   ]
  }
 ],
 "metadata": {
  "kernelspec": {
   "display_name": "Python 3 (ipykernel)",
   "language": "python",
   "name": "python3"
  },
  "language_info": {
   "codemirror_mode": {
    "name": "ipython",
    "version": 3
   },
   "file_extension": ".py",
   "mimetype": "text/x-python",
   "name": "python",
   "nbconvert_exporter": "python",
   "pygments_lexer": "ipython3",
   "version": "3.13.4"
  }
 },
 "nbformat": 4,
 "nbformat_minor": 5
}
