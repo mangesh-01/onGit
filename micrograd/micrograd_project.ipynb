{
 "cells": [
  {
   "cell_type": "markdown",
   "id": "19766c51",
   "metadata": {},
   "source": [
    "y = 3 * x + 2 (linear regressin)"
   ]
  },
  {
   "cell_type": "code",
   "execution_count": 14,
   "id": "e38a238b",
   "metadata": {},
   "outputs": [
    {
     "name": "stdout",
     "output_type": "stream",
     "text": [
      "Generated 100 points\n"
     ]
    }
   ],
   "source": [
    "import random\n",
    "\n",
    "\n",
    "xs = [random.uniform(-50, 50) for _ in range(100)]\n",
    "ys = [3 * x + 2 + random.uniform(-1, 1) for x in xs]\n",
    "print(\"Generated 100 points\")"
   ]
  },
  {
   "cell_type": "code",
   "execution_count": 15,
   "id": "72544b26",
   "metadata": {},
   "outputs": [],
   "source": [
    "class Value:\n",
    "    def __init__(self, data, _children=(), _op=''):\n",
    "        self.data = data\n",
    "        self._prev = set(_children)\n",
    "        self._op = _op\n",
    "        self.grad = 0.0\n",
    "        self._backward = lambda: None\n",
    "\n",
    "    def __add__(self, other):\n",
    "        other = other if isinstance(other, Value) else Value(other)\n",
    "        out = Value(self.data + other.data, (self, other), '+')\n",
    "        def _backward():\n",
    "            self.grad += out.grad\n",
    "            other.grad += out.grad\n",
    "        out._backward = _backward\n",
    "        return out\n",
    "\n",
    "    def __mul__(self, other):\n",
    "        other = other if isinstance(other, Value) else Value(other)\n",
    "        out = Value(self.data * other.data, (self, other), '*')\n",
    "        def _backward():\n",
    "            self.grad += other.data * out.grad\n",
    "            other.grad += self.data * out.grad\n",
    "        out._backward = _backward\n",
    "        return out\n",
    "    def __radd__(self, other):\n",
    "        return self + other\n",
    "\n",
    "\n",
    "    def __neg__(self): return self * -1\n",
    "    def __sub__(self, other): return self + (-other)\n",
    "    def __truediv__(self, other): return self * other**-1\n",
    "    def __pow__(self, power): \n",
    "        assert isinstance(power, (int, float)), \"Only supports int/float powers\"\n",
    "        out = Value(self.data**power, (self,), f'**{power}')\n",
    "        def _backward():\n",
    "            self.grad += power * self.data**(power - 1) * out.grad\n",
    "        out._backward = _backward\n",
    "        return out\n",
    "\n",
    "    def backward(self):\n",
    "        topo = []\n",
    "        visited = set()\n",
    "        def build(v):\n",
    "            if v not in visited:\n",
    "                visited.add(v)\n",
    "                for child in v._prev:\n",
    "                    build(child)\n",
    "                topo.append(v)\n",
    "        build(self)\n",
    "        self.grad = 1.0\n",
    "        for node in reversed(topo):\n",
    "            node._backward()\n"
   ]
  },
  {
   "cell_type": "code",
   "execution_count": 16,
   "id": "5253c4db",
   "metadata": {},
   "outputs": [],
   "source": [
    "# Initialize weight and bias\n",
    "w = Value(random.uniform(-1, 1))\n",
    "b = Value(random.uniform(-1, 1))\n"
   ]
  },
  {
   "cell_type": "code",
   "execution_count": 17,
   "id": "e8a59b46",
   "metadata": {},
   "outputs": [
    {
     "name": "stdout",
     "output_type": "stream",
     "text": [
      "Epoch 0 | Loss: 8318.6684 | w: 49.6436, b: -0.2967\n"
     ]
    },
    {
     "name": "stdout",
     "output_type": "stream",
     "text": [
      "Epoch 10 | Loss: 716997456918721694711939072.0000 | w: 13699520090640.9941, b: -40019084537.5564\n",
      "Epoch 20 | Loss: 61835976311937695779082586173477076968073341173760.0000 | w: 4023158632114498490597376.0000, b: -11752464636883199066112.0000\n",
      "Epoch 30 | Loss: 5332917055079550267610744515986740126922608740204039488276681918081138688.0000 | w: 1181487035463270853473499007978307584.0000, b: -3451363933894930558874222579417088.0000\n",
      "Epoch 40 | Loss: 459926502541011967286951489637881311461232137448510335084279028486816449445828252019963142864896.0000 | w: 346969071471617403947818599642187792269126402048.0000, b: -1013567228001445073556078306456735502414381056.0000\n",
      "Epoch 50 | Loss: 39665418673280397866977140629549442850357182464732565640632938513326051204779582850334128997396737107654742881559642112.0000 | w: 101894928123922481802423172468803702635139050947609389694976.0000, b: -297655809516206827332263531221361460237357253373661806592.0000\n",
      "Epoch 60 | Loss: 3420862746186967394690722825480732972874704390551509506076929045085264291032421808918777562538352980178498094665806922276486757212456642150400.0000 | w: 29923636517062393038119274064761079655911044206021550763144065323106304.0000, b: -87413028451450251062622510555686191356447827873989206360289108295680.0000\n",
      "Epoch 70 | Loss: 295025297089145662344681259662378460193768043164072557598263285627883220800738077590685459109381218911587335715327441822030752237044673857344088300674574452902592512.0000 | w: 8787719260337232833132642084994491604278143739764211771492452780485003950711373824.0000, b: -25670715298563808800398276723024803696022318277432049951135656733976664255496192.0000\n",
      "Epoch 80 | Loss: 25443852145063902412649993212636122817026345256887534682022362793930489569237506674754624305379978816849641504006805847451875713871497354588200146616457010437856023103237676926690245214208.0000 | w: 2580702708190860512852897930938163054809947702453750417453370947717209107870504925821900161024.0000, b: -7538757501187845750877862972617269293492968872705049943255868527644700160340135953706254336.0000\n",
      "Epoch 90 | Loss: 2194352885556981372959381357765519838370432058313375621381888458313937087227354353804084380362725940662809748666353447208007719157717664971799302856783241006715586201533470349970068897702955357697648222439211008.0000 | w: 757878838724765952420555304955202542735302741902709433153728177296515598617781597721231897871655486095360.0000, b: -2213918233314501885490943145311756539037577114325985035493881548358799430972980459049734067893364064256.0000\n"
     ]
    }
   ],
   "source": [
    "for epoch in range(100):\n",
    "    # Forward pass\n",
    "    ypred = [(w * x + b) for x in xs]\n",
    "    loss = sum((yp - ygt)**2 for yp, ygt in zip(ypred, ys)) / len(xs)\n",
    "\n",
    "    # Backward pass\n",
    "    for param in [w, b]:\n",
    "        param.grad = 0\n",
    "    loss.backward()\n",
    "\n",
    "    # Gradient descent\n",
    "    lr = 0.01\n",
    "    for param in [w, b]:\n",
    "        param.data -= lr * param.grad\n",
    "\n",
    "    if epoch % 10 == 0 :\n",
    "        print(f\"Epoch {epoch} | Loss: {loss.data:.4f} | w: {w.data:.4f}, b: {b.data:.4f}\")\n"
   ]
  },
  {
   "cell_type": "code",
   "execution_count": 8,
   "id": "8b82a804",
   "metadata": {},
   "outputs": [
    {
     "name": "stdout",
     "output_type": "stream",
     "text": [
      "Final Model: y = 3.00 * x + 1.70\n"
     ]
    }
   ],
   "source": [
    "print(f\"Final Model: y = {w.data:.2f} * x + {b.data:.2f}\")\n"
   ]
  }
 ],
 "metadata": {
  "kernelspec": {
   "display_name": "Python 3",
   "language": "python",
   "name": "python3"
  },
  "language_info": {
   "codemirror_mode": {
    "name": "ipython",
    "version": 3
   },
   "file_extension": ".py",
   "mimetype": "text/x-python",
   "name": "python",
   "nbconvert_exporter": "python",
   "pygments_lexer": "ipython3",
   "version": "3.10.9"
  }
 },
 "nbformat": 4,
 "nbformat_minor": 5
}
