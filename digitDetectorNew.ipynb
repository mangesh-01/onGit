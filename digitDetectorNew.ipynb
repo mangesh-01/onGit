{
 "cells": [
  {
   "cell_type": "code",
   "execution_count": 1,
   "id": "d170fa27",
   "metadata": {},
   "outputs": [],
   "source": [
    "import numpy as np"
   ]
  },
  {
   "cell_type": "code",
   "execution_count": 4,
   "id": "9ba12d2a",
   "metadata": {},
   "outputs": [],
   "source": [
    "import kagglehub\n",
    "import os\n",
    "import numpy as np\n",
    "from PIL import Image\n",
    "from IPython.display import display\n",
    "import matplotlib.pyplot as plt"
   ]
  },
  {
   "cell_type": "code",
   "execution_count": 3,
   "id": "9c50998d",
   "metadata": {},
   "outputs": [
    {
     "name": "stdout",
     "output_type": "stream",
     "text": [
      "Path to dataset files: C:\\Users\\ma\\.cache\\kagglehub\\datasets\\oddrationale\\mnist-in-csv\\versions\\2\n"
     ]
    }
   ],
   "source": [
    "#Downloading MNIST csv dataset\n",
    "path = kagglehub.dataset_download(\"oddrationale/mnist-in-csv\")\n",
    "print(\"Path to dataset files:\", path)\n"
   ]
  },
  {
   "cell_type": "code",
   "execution_count": 5,
   "id": "ad5d619b",
   "metadata": {},
   "outputs": [],
   "source": [
    "\n",
    "# Identify csv files\n",
    "csv_files = [f for f in os.listdir(path) if f.endswith('.csv')]\n",
    "if not csv_files:\n",
    "    raise FileNotFoundError(f\"No CSV files found in {path}\")\n",
    "\n",
    "csv_path = os.path.join(path, csv_files[0])\n",
    "\n",
    "#Load DAta\n",
    "data = np.genfromtxt(csv_path, delimiter=',', skip_header=1)\n",
    "labels = data[:, 0].astype(int)\n",
    "pixels = data[:, 1:].astype(np.uint8)\n",
    "scaled_pixels = pixels/255.0\n"
   ]
  },
  {
   "cell_type": "code",
   "execution_count": 10,
   "id": "814aa16b",
   "metadata": {},
   "outputs": [],
   "source": [
    "def sigmoid(x):\n",
    "    return 1 / (1 + np.exp(-x))"
   ]
  },
  {
   "cell_type": "code",
   "execution_count": 48,
   "id": "ef7b17a4",
   "metadata": {},
   "outputs": [],
   "source": [
    "class Layer:\n",
    "    def __init__(self, number, size):\n",
    "        self.number = number\n",
    "        self.size = size\n",
    "        self.data = np.array(np.random.randn(1,size), dtype = np.float32)\n",
    "\n",
    "\n",
    "class Weight:\n",
    "    def __init__(self, prev, next):\n",
    "        self.value = np.array(np.random.randn(prev.size , next.size), dtype = np.float32)\n",
    "\n",
    "\n",
    "class Bias:\n",
    "     def __init__(self, next):\n",
    "         self.value = np.array(np.random.randn(1, next.size), dtype = np.float32)\n",
    "\n",
    "\n",
    "\n",
    "class Neural:\n",
    "    def __init__(self, activation):\n",
    "        self.activation = activation\n",
    "        self.layers = []\n",
    "        self.weights = []\n",
    "        self.biases = []\n",
    "    \n",
    "    def add_layer(self, layer):\n",
    "        self.layers.append(layer)\n",
    "        if (len(self.layers) > 1):\n",
    "            self.weights.append(Weight(self.layers[-2], self.layers[-1]))\n",
    "\n",
    "    def forward(self):\n",
    "        for i in range(1,len(self.layers)):\n",
    "            prev_data = self.layers[i-1].data\n",
    "            w= self.weights[i-1].value\n",
    "            b= self.biases[i-1].value\n",
    "\n",
    "            z = np.dot(prev_data, w) + b\n",
    "\n",
    "            activated = self.activation(z)\n",
    "            self.layers[i].data = activated\n",
    "\n",
    "    @property\n",
    "    def output(self):\n",
    "        return self.layers[-1].data\n",
    "\n",
    "    "
   ]
  },
  {
   "cell_type": "code",
   "execution_count": 63,
   "id": "efbc5f11",
   "metadata": {},
   "outputs": [],
   "source": [
    "def costFunction(predicted , actual):\n",
    "    return np.mean((predicted - actual) ** 2)"
   ]
  },
  {
   "cell_type": "code",
   "execution_count": 57,
   "id": "d2f38f77",
   "metadata": {},
   "outputs": [
    {
     "data": {
      "image/jpeg": "[encoded data removed]",
      "image/png": "[encoded data removed]",
      "text/plain": [
       "<PIL.Image.Image image mode=L size=28x28>"
      ]
     },
     "metadata": {},
     "output_type": "display_data"
    },
    {
     "name": "stdout",
     "output_type": "stream",
     "text": [
      "Label: 7\n"
     ]
    },
    {
     "data": {
      "image/jpeg": "[encoded data removed]",
      "image/png": "[encoded data removed]",
      "text/plain": [
       "<PIL.Image.Image image mode=L size=28x28>"
      ]
     },
     "metadata": {},
     "output_type": "display_data"
    },
    {
     "name": "stdout",
     "output_type": "stream",
     "text": [
      "Label: 2\n"
     ]
    },
    {
     "data": {
      "image/jpeg": "[encoded data removed]",
      "image/png": "[encoded data removed]",
      "text/plain": [
       "<PIL.Image.Image image mode=L size=28x28>"
      ]
     },
     "metadata": {},
     "output_type": "display_data"
    },
    {
     "name": "stdout",
     "output_type": "stream",
     "text": [
      "Label: 1\n"
     ]
    },
    {
     "data": {
      "image/jpeg": "[encoded data removed]",
      "image/png": "[encoded data removed]",
      "text/plain": [
       "<PIL.Image.Image image mode=L size=28x28>"
      ]
     },
     "metadata": {},
     "output_type": "display_data"
    },
    {
     "name": "stdout",
     "output_type": "stream",
     "text": [
      "Label: 0\n"
     ]
    },
    {
     "data": {
      "image/jpeg": "[encoded data removed]",
      "image/png": "[encoded data removed]",
      "text/plain": [
       "<PIL.Image.Image image mode=L size=28x28>"
      ]
     },
     "metadata": {},
     "output_type": "display_data"
    },
    {
     "name": "stdout",
     "output_type": "stream",
     "text": [
      "Label: 4\n"
     ]
    }
   ],
   "source": [
    "maximumAllowed = len(labels) -1\n",
    "printed = 5\n",
    "imgs = list(range(printed))\n",
    "\n",
    "targets = np.zeros((printed, 10), dtype=np.float32)    \n",
    "for i in range(printed):\n",
    "    targets[i, labels[imgs[i]]] = 1\n",
    "\n",
    "\n",
    "for i in imgs:\n",
    "    display(Image.fromarray(pixels[i].reshape(28, 28), mode='L'))\n",
    "    print(f\"Label: {labels[i]}\")\n"
   ]
  },
  {
   "cell_type": "code",
   "execution_count": 61,
   "id": "7e151bc1",
   "metadata": {},
   "outputs": [
    {
     "data": {
      "text/plain": [
       "<bound method Neural.forward of <__main__.Neural object at 0x00000224228AA420>>"
      ]
     },
     "execution_count": 61,
     "metadata": {},
     "output_type": "execute_result"
    }
   ],
   "source": [
    "# initialization\n",
    "model = Neural(sigmoid(inputLayer.data))\n",
    "inputLayer = Layer(1, 784)\n",
    "inputLayer.data = scaled_pixels\n",
    "model.add_layer(Layer(2, 107))\n",
    "model.add_layer(Layer(3,26))\n",
    "model.add_layer(Layer(4,10))\n",
    "\n",
    "model.forward"
   ]
  },
  {
   "cell_type": "code",
   "execution_count": 67,
   "id": "a689cfb1",
   "metadata": {},
   "outputs": [
    {
     "name": "stdout",
     "output_type": "stream",
     "text": [
      "RESULT :  [2]\n",
      "Labels    : [7 2 1 0 4]\n",
      "Cost:  0.5868964\n"
     ]
    }
   ],
   "source": [
    "result  = np.argmax(model.output, axis=1)\n",
    "\n",
    "print(\"RESULT : \", result)\n",
    "print(\"Labels    :\", labels[imgs])\n",
    "\n",
    "cost = costFunction(model.output, targets)\n",
    "\n",
    "print(\"Cost: \", cost)"
   ]
  }
 ],
 "metadata": {
  "kernelspec": {
   "display_name": "base",
   "language": "python",
   "name": "python3"
  },
  "language_info": {
   "codemirror_mode": {
    "name": "ipython",
    "version": 3
   },
   "file_extension": ".py",
   "mimetype": "text/x-python",
   "name": "python",
   "nbconvert_exporter": "python",
   "pygments_lexer": "ipython3",
   "version": "3.12.7"
  }
 },
 "nbformat": 4,
 "nbformat_minor": 5
}
