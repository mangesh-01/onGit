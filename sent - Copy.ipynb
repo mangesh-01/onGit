{
 "cells": [
  {
   "cell_type": "code",
   "execution_count": 2,
   "id": "115d088e",
   "metadata": {},
   "outputs": [],
   "source": [
    "import numpy as np\n",
    "import pandas as pd\n",
    "import re"
   ]
  },
  {
   "cell_type": "code",
   "execution_count": 3,
   "id": "1b02ad3d",
   "metadata": {},
   "outputs": [],
   "source": [
    "class Layer:\n",
    "    def __init__(self, number, size, inputs=1):\n",
    "        self.number = number\n",
    "        self.size = size\n",
    "        self.data = np.zeros((inputs, size), dtype=np.float64)\n",
    "\n",
    "class Weight:\n",
    "    def __init__(self, prev, next):\n",
    "        self.value = (np.random.randn(prev.size, next.size).astype(np.float64))\n",
    "\n",
    "class Bias:\n",
    "    def __init__(self, next):\n",
    "        self.value = np.random.randn(1, next.size).astype(np.float64)\n",
    "\n",
    "class Neural:\n",
    "    def __init__(self, activation):\n",
    "        self.activation = activation\n",
    "        self.layers = []\n",
    "        self.weights = []\n",
    "        self.biases = []\n",
    "\n",
    "    def add_layer(self, layer):\n",
    "        self.layers.append(layer)\n",
    "        if len(self.layers) > 1:\n",
    "            self.weights.append(Weight(self.layers[-2], self.layers[-1]))\n",
    "            self.biases.append(Bias(self.layers[-1]))\n",
    "\n",
    "    def forward(self):\n",
    "        self.z_values = []\n",
    "        self.a_values = []\n",
    "        for i in range(1, len(self.layers)):\n",
    "            prev_data = self.layers[i - 1].data\n",
    "            w = self.weights[i - 1].value\n",
    "            b = self.biases[i - 1].value\n",
    "            z = np.dot(prev_data, w) + b\n",
    "            self.z_values.append(z)\n",
    "            a = self.activation(z)\n",
    "            self.a_values.append(a)\n",
    "            self.layers[i].data = a\n",
    "\n",
    "    @property\n",
    "    def output(self):\n",
    "        return self.layers[-1].data\n"
   ]
  },
  {
   "cell_type": "code",
   "execution_count": 16,
   "id": "8b907bda",
   "metadata": {},
   "outputs": [],
   "source": [
    "def sigmoid(x):\n",
    "    x = np.clip(x, -500, 500)\n",
    "    return 1 / (1 + np.exp(-x))\n",
    "\n",
    "def sigmoid_prime(x):\n",
    "    s = sigmoid(x)\n",
    "    return s * (1 - s)\n",
    "\n",
    "def costFunction(predicted, real):\n",
    "    return np.mean((predicted - real) ** 2)\n"
   ]
  },
  {
   "cell_type": "code",
   "execution_count": 17,
   "id": "ce2b8847",
   "metadata": {},
   "outputs": [],
   "source": [
    "# ---------------------- Text Processor ---------------------- #\n",
    "class TextProcessor:\n",
    "    def __init__(self):\n",
    "        self.vocab = {}\n",
    "\n",
    "    def clean_text(self, text):\n",
    "        text = text.lower()\n",
    "        text = re.sub(r\"<.*?>\", \"\", text)\n",
    "        text = re.sub(r\"[^a-zA-Z']\", \" \", text)\n",
    "        return text\n",
    "\n",
    "    def build_vocab(self, texts):\n",
    "        words = set()\n",
    "        for sentence in texts:\n",
    "            words.update(sentence.split())\n",
    "        self.vocab = {word: i for i, word in enumerate(words)}\n",
    "\n",
    "    def vectorize(self, sentence):\n",
    "        vec = np.zeros(len(self.vocab))\n",
    "        for word in sentence.split():\n",
    "            if word in self.vocab:\n",
    "                vec[self.vocab[word]] += 1\n",
    "        return vec\n",
    "\n",
    "    def process(self, df, text_column):\n",
    "        df[text_column] = df[text_column].apply(self.clean_text)\n",
    "        self.build_vocab(df[text_column])\n",
    "        vectors = np.array([self.vectorize(text) for text in df[text_column]])\n",
    "        norms = np.max(vectors, axis=1, keepdims=True)\n",
    "        norms[norms == 0] = 1  # Avoid divide-by-zero\n",
    "        return vectors / norms\n"
   ]
  },
  {
   "cell_type": "code",
   "execution_count": 18,
   "id": "d66080cc",
   "metadata": {},
   "outputs": [],
   "source": [
    "def delta_lastlayer(real, predicted, z):\n",
    "    return (predicted - real) * sigmoid_prime(z)\n",
    "\n",
    "def delta_calc(model, current_layer_idx, next_delta=None, next_weight=None):\n",
    "    z = model.z_values[current_layer_idx]\n",
    "    if next_delta is None:\n",
    "        return delta_lastlayer(y, model.output, z)\n",
    "    else:\n",
    "        return np.dot(next_delta, next_weight.T) * sigmoid_prime(z)\n",
    "\n",
    "def dJdW(model, layer_idx, delta):\n",
    "    a_prev = model.layers[layer_idx].data\n",
    "    return np.dot(a_prev.T, delta)\n",
    "\n",
    "def dJdB(delta):\n",
    "    return np.sum(delta, axis=0, keepdims=True)\n",
    "\n"
   ]
  },
  {
   "cell_type": "code",
   "execution_count": 19,
   "id": "4dafc47b",
   "metadata": {},
   "outputs": [],
   "source": [
    "file = pd.read_csv(\"IMDB Dataset.csv\")\n",
    "file = file[2000:4000:1]\n",
    "file['sentiment'] = file['sentiment'].map({'positive': 1, 'negative': 0})\n",
    "\n",
    "processor = TextProcessor()\n",
    "X = processor.process(file, 'review')\n",
    "labels = file['sentiment'].values\n",
    "y = np.zeros((len(labels), 2))\n",
    "for i, label in enumerate(labels):\n",
    "    y[i][label] = 1  # label 0 → [1,0] (negative), label 1 → [0,1] (positive)\n",
    "\n"
   ]
  },
  {
   "cell_type": "code",
   "execution_count": 20,
   "id": "7b0fd5be",
   "metadata": {},
   "outputs": [],
   "source": [
    "model = Neural(sigmoid)\n",
    "model.add_layer(Layer(0, X.shape[1], inputs = X.shape[0]))\n",
    "model.layers[0].data = X\n",
    "model.add_layer(Layer(1, 116, inputs = X.shape[0]))\n",
    "model.add_layer(Layer(2, 16, inputs = X.shape[0]))\n",
    "model.add_layer(Layer(3, 2, inputs = X.shape[0]))\n",
    "\n",
    "\n",
    "\n",
    "\n",
    "\n",
    "\n"
   ]
  },
  {
   "cell_type": "code",
   "execution_count": 21,
   "id": "2e1ff9d3",
   "metadata": {},
   "outputs": [],
   "source": [
    "numberoflayers = 3"
   ]
  },
  {
   "cell_type": "code",
   "execution_count": 22,
   "id": "94028f8e",
   "metadata": {},
   "outputs": [
    {
     "name": "stdout",
     "output_type": "stream",
     "text": [
      "Epoch :  0 Loss:  0.48166846112856276 Accuracy :  47.15 %\n",
      "Epoch :  10 Loss:  0.3608609219685936 Accuracy :  48.3 %\n",
      "Epoch :  20 Loss:  0.3426134297912149 Accuracy :  52.55 %\n",
      "Epoch :  30 Loss:  0.4281071779890542 Accuracy :  52.449999999999996 %\n",
      "Epoch :  40 Loss:  0.28897682421368054 Accuracy :  53.15 %\n",
      "Epoch :  50 Loss:  0.2615089629508278 Accuracy :  61.75000000000001 %\n",
      "Epoch :  60 Loss:  0.3067199954276589 Accuracy :  51.9 %\n",
      "Epoch :  70 Loss:  0.3341389713974339 Accuracy :  51.65 %\n",
      "Epoch :  80 Loss:  0.3760150597703877 Accuracy :  51.65 %\n",
      "Epoch :  90 Loss:  0.3761209453386007 Accuracy :  51.6 %\n",
      "Epoch :  100 Loss:  0.3782474255021181 Accuracy :  51.6 %\n",
      "Epoch :  110 Loss:  0.3605579003204364 Accuracy :  51.65 %\n",
      "Epoch :  120 Loss:  0.37718770043553634 Accuracy :  51.6 %\n",
      "Epoch :  130 Loss:  0.3707761152928765 Accuracy :  51.7 %\n",
      "Epoch :  140 Loss:  0.3203754120218149 Accuracy :  52.05 %\n",
      "Epoch :  150 Loss:  0.33017322064284405 Accuracy :  52.05 %\n",
      "Epoch :  160 Loss:  0.31811627574532636 Accuracy :  52.2 %\n",
      "Epoch :  170 Loss:  0.3228994601886067 Accuracy :  52.300000000000004 %\n",
      "Epoch :  180 Loss:  0.30886806487234914 Accuracy :  52.6 %\n",
      "Epoch :  190 Loss:  0.311087057746753 Accuracy :  52.75 %\n",
      "Epoch :  200 Loss:  0.3032223882710381 Accuracy :  53.400000000000006 %\n",
      "Epoch :  210 Loss:  0.30569084708681293 Accuracy :  53.800000000000004 %\n",
      "Epoch :  220 Loss:  0.2997926174116906 Accuracy :  54.449999999999996 %\n"
     ]
    },
    {
     "ename": "KeyboardInterrupt",
     "evalue": "",
     "output_type": "error",
     "traceback": [
      "\u001b[31m---------------------------------------------------------------------------\u001b[39m",
      "\u001b[31mKeyboardInterrupt\u001b[39m                         Traceback (most recent call last)",
      "\u001b[36mCell\u001b[39m\u001b[36m \u001b[39m\u001b[32mIn[22]\u001b[39m\u001b[32m, line 27\u001b[39m\n\u001b[32m     24\u001b[39m     delta_list[i] = delta_calc(model, i, next_delta, next_weight)\n\u001b[32m     26\u001b[39m \u001b[38;5;28;01mfor\u001b[39;00m i \u001b[38;5;129;01min\u001b[39;00m \u001b[38;5;28mrange\u001b[39m(\u001b[38;5;28mlen\u001b[39m(model.weights)):\n\u001b[32m---> \u001b[39m\u001b[32m27\u001b[39m     dw = \u001b[43mdJdW\u001b[49m\u001b[43m(\u001b[49m\u001b[43mmodel\u001b[49m\u001b[43m,\u001b[49m\u001b[43m \u001b[49m\u001b[43mi\u001b[49m\u001b[43m,\u001b[49m\u001b[43m \u001b[49m\u001b[43mdelta_list\u001b[49m\u001b[43m[\u001b[49m\u001b[43mi\u001b[49m\u001b[43m]\u001b[49m\u001b[43m)\u001b[49m\n\u001b[32m     28\u001b[39m     db = dJdB(delta_list[i])\n\u001b[32m     29\u001b[39m     model.weights[i].value -= learningRate * dw\n",
      "\u001b[36mCell\u001b[39m\u001b[36m \u001b[39m\u001b[32mIn[18]\u001b[39m\u001b[32m, line 13\u001b[39m, in \u001b[36mdJdW\u001b[39m\u001b[34m(model, layer_idx, delta)\u001b[39m\n\u001b[32m     11\u001b[39m \u001b[38;5;28;01mdef\u001b[39;00m\u001b[38;5;250m \u001b[39m\u001b[34mdJdW\u001b[39m(model, layer_idx, delta):\n\u001b[32m     12\u001b[39m     a_prev = model.layers[layer_idx].data\n\u001b[32m---> \u001b[39m\u001b[32m13\u001b[39m     \u001b[38;5;28;01mreturn\u001b[39;00m \u001b[43mnp\u001b[49m\u001b[43m.\u001b[49m\u001b[43mdot\u001b[49m\u001b[43m(\u001b[49m\u001b[43ma_prev\u001b[49m\u001b[43m.\u001b[49m\u001b[43mT\u001b[49m\u001b[43m,\u001b[49m\u001b[43m \u001b[49m\u001b[43mdelta\u001b[49m\u001b[43m)\u001b[49m\n",
      "\u001b[31mKeyboardInterrupt\u001b[39m: "
     ]
    }
   ],
   "source": [
    "#Trainig\n",
    "\n",
    "epochs = 1000\n",
    "learningRate = 0.01\n",
    "\n",
    "lossList =[]\n",
    "\n",
    "for epoch in range(epochs):\n",
    "    model.layers[0].data = X\n",
    "    model.forward()\n",
    "    predicted = model.output\n",
    "    loss = costFunction(predicted, y)\n",
    "    lossList.append(loss)\n",
    "    \n",
    "    delta_list = [None] * numberoflayers\n",
    "    delta_output = delta_calc(model, -1)\n",
    "    delta_list[-1] = delta_output\n",
    "    \n",
    "    \n",
    "    \n",
    "    for i in reversed(range(len(model.weights) - 1)):\n",
    "        next_delta = delta_list[i + 1]\n",
    "        next_weight = model.weights[i + 1].value\n",
    "        delta_list[i] = delta_calc(model, i, next_delta, next_weight)\n",
    "\n",
    "    for i in range(len(model.weights)):\n",
    "        dw = dJdW(model, i, delta_list[i])\n",
    "        db = dJdB(delta_list[i])\n",
    "        model.weights[i].value -= learningRate * dw\n",
    "        model.biases[i].value -= learningRate * db\n",
    "    predicted_labels = np.argmax(predicted, axis=1)\n",
    "    actual_labels = np.argmax(y, axis=1)\n",
    "    accuracy = np.mean(predicted_labels == actual_labels) * 100\n",
    "\n",
    "\n",
    "    if (epoch % 10 == 0 or epoch == epochs -1):\n",
    "        print(\"Epoch : \", epoch, \"Loss: \", loss, \"Accuracy : \", accuracy,\"%\")\n",
    "\n",
    "print(\"Final loss: \", loss)"
   ]
  },
  {
   "cell_type": "code",
   "execution_count": 23,
   "id": "17ec2ba9",
   "metadata": {},
   "outputs": [
    {
     "name": "stdout",
     "output_type": "stream",
     "text": [
      "0.29549095865218056\n"
     ]
    }
   ],
   "source": [
    "print(loss)"
   ]
  },
  {
   "cell_type": "code",
   "execution_count": 24,
   "id": "f1351c31",
   "metadata": {},
   "outputs": [],
   "source": [
    "import matplotlib.pyplot as plt"
   ]
  },
  {
   "cell_type": "code",
   "execution_count": 25,
   "id": "da299b5a",
   "metadata": {},
   "outputs": [
    {
     "data": {
      "image/png": "[encoded data removed]",
      "text/plain": [
       "<Figure size 640x480 with 1 Axes>"
      ]
     },
     "metadata": {},
     "output_type": "display_data"
    }
   ],
   "source": [
    "plt.plot(lossList)\n",
    "plt.xlabel(\"Epoch\")\n",
    "plt.ylabel(\"Loss\")\n",
    "\n",
    "plt.show()"
   ]
  },
  {
   "cell_type": "code",
   "execution_count": null,
   "id": "72f3b700",
   "metadata": {},
   "outputs": [
    {
     "name": "stdout",
     "output_type": "stream",
     "text": [
      "Layer 0 a_prev shape: (1, 26664) delta shape: (2000, 32)\n"
     ]
    }
   ],
   "source": [
    "# print(\"Layer\", i, \"a_prev shape:\", model.layers[i].data.shape, \"delta shape:\", delta_list[i].shape)\n"
   ]
  },
  {
   "cell_type": "code",
   "execution_count": null,
   "id": "770bfda3",
   "metadata": {},
   "outputs": [
    {
     "name": "stdout",
     "output_type": "stream",
     "text": [
      "I thought this was a wonderful way to spend time on a too hot summer weekend, sitting in the air conditioned theater and watching a light-hearted comedy. The plot is simplistic, but the dialogue is witty and the characters are likable (even the well bread suspected serial killer). While some may be disappointed when they realize this is not Match Point 2: Risk Addiction, I thought it was proof that Woody Allen is still fully in control of the style many of us have grown to love.<br /><br />This was the most I'd laughed at one of Woody's comedies in years (dare I say a decade?). While I've never been impressed with Scarlet Johanson, in this she managed to tone down her \"\"sexy\"\" image and jumped right into a average, but spirited young woman.<br /><br />This may not be the crown jewel of his career, but it was wittier than \"\"Devil Wears Prada\"\" and more interesting than \"\"Superman\"\" a great comedy to go see with friends. \n",
      "\n",
      "Positive\n"
     ]
    }
   ],
   "source": [
    "text = input(\"Enter a text: \")\n",
    "cleaned = processor.clean_text(text)\n",
    "vec = processor.vectorize(cleaned).reshape(1, -1)\n",
    "vec = vec / np.max(vec)\n",
    "model.layers[0].data = vec\n",
    "model.forward()\n",
    "output = model.output[0]\n",
    "label = np.argmax(output)\n",
    "print(text, \"\\n\")\n",
    "if (label == 0):\n",
    "    print(\"Negative\")\n",
    "else:\n",
    "    print(\"Positive\")"
   ]
  },
  {
   "cell_type": "code",
   "execution_count": null,
   "id": "fc22ef72",
   "metadata": {},
   "outputs": [
    {
     "name": "stdout",
     "output_type": "stream",
     "text": [
      "                                              review  sentiment\n",
      "0  one of the other reviewers has mentioned that ...          1\n",
      "2  i thought this was a wonderful way to spend ti...          1\n",
      "4  petter mattei's  love in the time of money  is...          1\n"
     ]
    }
   ],
   "source": [
    "print(file[0:5:2])"
   ]
  },
  {
   "cell_type": "code",
   "execution_count": null,
   "id": "58311712",
   "metadata": {},
   "outputs": [],
   "source": [
    "import pickle"
   ]
  },
  {
   "cell_type": "code",
   "execution_count": null,
   "id": "d7b8f80b",
   "metadata": {},
   "outputs": [],
   "source": [
    "import pickle\n",
    "\n",
    "def save_model(model, filename=\"model.pkl\"):\n",
    "    data = {\n",
    "        \"weights\": [w.value for w in model.weights],\n",
    "        \"biases\": [b.value for b in model.biases]\n",
    "    }\n",
    "    with open(filename, \"wb\") as f:\n",
    "        pickle.dump(data, f)\n",
    "\n",
    "    print(\"File saved\")\n",
    "    \n"
   ]
  },
  {
   "cell_type": "code",
   "execution_count": null,
   "id": "dbee3d2b",
   "metadata": {},
   "outputs": [
    {
     "name": "stdout",
     "output_type": "stream",
     "text": [
      "File saved\n"
     ]
    }
   ],
   "source": [
    "save_model(model)\n"
   ]
  },
  {
   "cell_type": "code",
   "execution_count": null,
   "id": "07913d73",
   "metadata": {},
   "outputs": [],
   "source": [
    "def load_model(model, filename=\"model.pkl\"):\n",
    "    with open(filename, \"rb\") as f:\n",
    "        data = pickle.load(f)\n",
    "    for i in range(len(model.weights)):\n",
    "        model.weights[i].value = data[\"weights\"][i]\n",
    "        model.biases[i].value = data[\"biases\"][i]\n",
    "    \n",
    "    print(\"File loaded \")"
   ]
  },
  {
   "cell_type": "code",
   "execution_count": null,
   "id": "3fc4b323",
   "metadata": {},
   "outputs": [
    {
     "name": "stdout",
     "output_type": "stream",
     "text": [
      "File loaded \n"
     ]
    }
   ],
   "source": [
    "# load_model(model)\n"
   ]
  },
  {
   "cell_type": "code",
   "execution_count": null,
   "id": "2dca094d",
   "metadata": {},
   "outputs": [],
   "source": []
  }
 ],
 "metadata": {
  "kernelspec": {
   "display_name": "Python 3",
   "language": "python",
   "name": "python3"
  },
  "language_info": {
   "codemirror_mode": {
    "name": "ipython",
    "version": 3
   },
   "file_extension": ".py",
   "mimetype": "text/x-python",
   "name": "python",
   "nbconvert_exporter": "python",
   "pygments_lexer": "ipython3",
   "version": "3.13.4"
  }
 },
 "nbformat": 4,
 "nbformat_minor": 5
}
