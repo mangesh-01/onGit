{
 "cells": [
  {
   "cell_type": "code",
   "execution_count": 250,
   "id": "2f2d743e",
   "metadata": {},
   "outputs": [
    {
     "name": "stdout",
     "output_type": "stream",
     "text": [
      "Path to dataset files: C:\\Users\\ma\\.cache\\kagglehub\\datasets\\oddrationale\\mnist-in-csv\\versions\\2\n"
     ]
    }
   ],
   "source": [
    "import numpy as np\n",
    "import kagglehub\n",
    "import os\n",
    "from PIL import Image\n",
    "from IPython.display import display\n",
    "\n",
    "# Download MNIST CSV dataset\n",
    "path = kagglehub.dataset_download(\"oddrationale/mnist-in-csv\")\n",
    "print(\"Path to dataset files:\", path)\n"
   ]
  },
  {
   "cell_type": "code",
   "execution_count": 251,
   "id": "bffb4faa",
   "metadata": {},
   "outputs": [],
   "source": [
    "\n",
    "# Identify CSV files\n",
    "csv_files = [f for f in os.listdir(path) if f.endswith('.csv')]\n",
    "if not csv_files:\n",
    "    raise FileNotFoundError(f\"No CSV files found in {path}\")\n",
    "\n",
    "csv_path = os.path.join(path, csv_files[0])\n",
    "\n",
    "# Load data\n",
    "data = np.genfromtxt(csv_path, delimiter=',', skip_header=1)\n",
    "labels = data[:, 0].astype(int)\n",
    "pixels = data[:, 1:].astype(np.uint8)\n",
    "scaled_pixels = pixels / 255.0\n",
    "\n",
    "\n",
    "class Layer:\n",
    "    def __init__(self, number, size, inputs=1):\n",
    "        self.number = number\n",
    "        self.size = size\n",
    "        self.data = np.zeros((inputs, size), dtype=np.float32)\n",
    "\n",
    "class Weight:\n",
    "    def __init__(self, prev, next):\n",
    "        self.value = (np.random.randn(prev.size, next.size).astype(np.float32))\n",
    "\n",
    "class Bias:\n",
    "    def __init__(self, next):\n",
    "        self.value = np.random.randn(1, next.size).astype(np.float32)\n",
    "\n",
    "class Neural:\n",
    "    def __init__(self, activation):\n",
    "        self.activation = activation\n",
    "        self.layers = []\n",
    "        self.weights = []\n",
    "        self.biases = []\n",
    "\n",
    "    def add_layer(self, layer):\n",
    "        self.layers.append(layer)\n",
    "        if len(self.layers) > 1:\n",
    "            self.weights.append(Weight(self.layers[len(self.layers)-2], self.layers[len(self.layers)-1]))\n",
    "            self.biases.append(Bias(self.layers[len(self.layers)-1]))\n",
    "\n",
    "    def forward(self):\n",
    "        for i in range(1, len(self.layers)):\n",
    "            prev_data = self.layers[i - 1].data     \n",
    "            w = self.weights[i - 1].value            \n",
    "            b = self.biases[i - 1].value            \n",
    "            z = np.dot(prev_data, w) + b            \n",
    "            self.layers[i].data = self.activation(z)\n",
    "\n",
    "    @property\n",
    "    def output(self):\n",
    "        return self.layers[len(self.layers)-1].data\n",
    "\n",
    "def sigmoid(x):\n",
    "    return 1 / (1 + np.exp(-x))\n",
    "\n",
    "# cost function = (predicted-actual)^2 \n",
    "def costFunction(predicted, actual):\n",
    "    return np.sum((predicted - actual) ** 2)\n",
    "\n"
   ]
  },
  {
   "cell_type": "code",
   "execution_count": 252,
   "id": "f59b6fce",
   "metadata": {},
   "outputs": [
    {
     "data": {
      "image/jpeg": "[encoded data removed]",
      "image/png": "[encoded data removed]",
      "text/plain": [
       "<PIL.Image.Image image mode=L size=28x28>"
      ]
     },
     "metadata": {},
     "output_type": "display_data"
    },
    {
     "data": {
      "image/jpeg": "[encoded data removed]",
      "image/png": "[encoded data removed]",
      "text/plain": [
       "<PIL.Image.Image image mode=L size=28x28>"
      ]
     },
     "metadata": {},
     "output_type": "display_data"
    },
    {
     "data": {
      "image/jpeg": "[encoded data removed]",
      "image/png": "[encoded data removed]",
      "text/plain": [
       "<PIL.Image.Image image mode=L size=28x28>"
      ]
     },
     "metadata": {},
     "output_type": "display_data"
    },
    {
     "data": {
      "image/jpeg": "[encoded data removed]",
      "image/png": "[encoded data removed]",
      "text/plain": [
       "<PIL.Image.Image image mode=L size=28x28>"
      ]
     },
     "metadata": {},
     "output_type": "display_data"
    },
    {
     "data": {
      "image/jpeg": "[encoded data removed]",
      "image/png": "[encoded data removed]",
      "text/plain": [
       "<PIL.Image.Image image mode=L size=28x28>"
      ]
     },
     "metadata": {},
     "output_type": "display_data"
    },
    {
     "name": "stdout",
     "output_type": "stream",
     "text": [
      "[[0. 0. 0. 0. 0. 0. 0. 1. 0. 0.]\n",
      " [0. 0. 1. 0. 0. 0. 0. 0. 0. 0.]\n",
      " [0. 1. 0. 0. 0. 0. 0. 0. 0. 0.]\n",
      " [1. 0. 0. 0. 0. 0. 0. 0. 0. 0.]\n",
      " [0. 0. 0. 0. 1. 0. 0. 0. 0. 0.]]\n"
     ]
    }
   ],
   "source": [
    "input_taken = 5\n",
    "indices = list(range(input_taken))\n",
    "\n",
    "input_data = scaled_pixels[indices] \n",
    "\n",
    "actual = np.zeros((input_taken, 10), dtype=np.float32)\n",
    "for i in range(len(indices)):\n",
    "    idx = indices[i]\n",
    "    label = labels[idx]\n",
    "    actual[i, label] = 1\n",
    "    display(Image.fromarray(pixels[idx].reshape(28,28), mode = 'L'))\n",
    "\n",
    "\n",
    "print(actual)\n"
   ]
  },
  {
   "cell_type": "code",
   "execution_count": 253,
   "id": "c9b5c17d",
   "metadata": {},
   "outputs": [
    {
     "name": "stdout",
     "output_type": "stream",
     "text": [
      "Predicted Labels: [5 5 6 5 5]\n",
      "True Labels     : [7 2 1 0 4]\n",
      "[[0.13165463 0.87791834 0.23534604 0.79529965 0.45443978 0.95472108\n",
      "  0.93066688 0.36202548 0.01535598 0.65906683]\n",
      " [0.25326957 0.94694569 0.26559103 0.85738459 0.92788408 0.97336568\n",
      "  0.90641191 0.74803514 0.0216239  0.23379536]\n",
      " [0.16645115 0.81948302 0.28592992 0.92445558 0.93616324 0.97998047\n",
      "  0.99400808 0.55479239 0.05628186 0.34538388]\n",
      " [0.36193754 0.5191423  0.51570104 0.63206737 0.87832432 0.98006918\n",
      "  0.95387118 0.48102778 0.01162836 0.59911716]\n",
      " [0.03059016 0.3038731  0.78000861 0.89714172 0.9045798  0.98221256\n",
      "  0.96735536 0.20426702 0.12714564 0.76702225]]\n",
      "Cost: 22.67025639268486\n"
     ]
    }
   ],
   "source": [
    "\n",
    "model = Neural(sigmoid)\n",
    "\n",
    "input_layer = Layer(1, 784, inputs=input_taken)\n",
    "input_layer.data = input_data\n",
    "\n",
    "model.add_layer(input_layer)\n",
    "model.add_layer(Layer(2, 107, inputs=input_taken))\n",
    "model.add_layer(Layer(3, 26, inputs=input_taken))\n",
    "model.add_layer(Layer(4, 10, inputs=input_taken))\n",
    "\n",
    "model.forward()\n",
    "\n",
    "result = np.argmax(model.output, axis=1)\n",
    "true_labels = labels[indices]\n",
    "\n",
    "print(\"Predicted Labels:\", result)\n",
    "print(\"True Labels     :\", true_labels)\n",
    "print(model.output)\n",
    "\n",
    "cost = costFunction(model.output,actual)\n",
    "print(\"Cost:\", cost)\n"
   ]
  },
  {
   "cell_type": "code",
   "execution_count": 254,
   "id": "f3bcc23e",
   "metadata": {},
   "outputs": [],
   "source": [
    "def sigmoid_prime(x):\n",
    "    s = sigmoid(x)\n",
    "    return s * (1 - s)"
   ]
  },
  {
   "cell_type": "code",
   "execution_count": 255,
   "id": "84442a50",
   "metadata": {},
   "outputs": [],
   "source": [
    "# print(model.biases[-1].value)\n",
    "\n",
    "# print(model.weights[-1].value)"
   ]
  },
  {
   "cell_type": "code",
   "execution_count": 256,
   "id": "6c9a68b6",
   "metadata": {},
   "outputs": [
    {
     "name": "stdout",
     "output_type": "stream",
     "text": [
      "[7 2 1 0 4]\n",
      "[5 5 6 5 5]\n"
     ]
    }
   ],
   "source": [
    "print(true_labels)\n",
    "print(result)\n",
    "# print(scaled_pixels)\n",
    "# print(model.output)\n"
   ]
  },
  {
   "cell_type": "code",
   "execution_count": 290,
   "id": "37f05c44",
   "metadata": {},
   "outputs": [],
   "source": [
    "arra = np.array(true_labels)"
   ]
  },
  {
   "cell_type": "code",
   "execution_count": 305,
   "id": "91c8e038",
   "metadata": {},
   "outputs": [],
   "source": [
    "# print(result)\n",
    "# print(true_labels)\n",
    "# print(len(model.layers[-1]))\n",
    "# print(model.layers[-1].data)\n",
    "\n",
    "# print(arra.size)        #arra is np array\n",
    "# print(result.size)      #result is np array\n",
    "# print(result.shape)\n",
    "# print(arra.shape)\n",
    "# print(arra - result)\n",
    "# print(model.layers[-1].data.size)\n",
    "# print(model.layers[-1].data.shape)\n",
    "# print(sigmoid_prime(model.layers[-1].data))\n",
    "\n",
    "\n",
    "\n",
    "# sigmoid_deactivatedMAtrix = sigmoid_prime(model.layers[-1].data)\n",
    "# differenc = np.array([arra - result])\n",
    "# print(differenc.shape)\n",
    "# differenc.reshape(-1, 1)\n",
    "# print(differenc.shape)\n",
    "# extended = np.repeat(differenc, 5, axis = 1)\n",
    "# print(difference)\n"
   ]
  },
  {
   "cell_type": "code",
   "execution_count": 304,
   "id": "f18ca0ef",
   "metadata": {},
   "outputs": [],
   "source": [
    "# a = np.array(differenc)   \n",
    "# a = a.reshape(-1, 1)           \n",
    "\n",
    "# repeat = np.repeat(a, 10, axis=1) \n",
    "# print(repeat.shape)  \n",
    "# print(repeat)\n",
    "\n",
    "# print(repeat * sigmoid_deactivatedMAtrix)\n",
    "\n",
    "\n"
   ]
  },
  {
   "cell_type": "code",
   "execution_count": 303,
   "id": "59658a3b",
   "metadata": {},
   "outputs": [],
   "source": [
    "# a = np.array(arra)   \n",
    "# a = a.reshape(-1, 1)           \n",
    "\n",
    "# repeated = np.repeat(a, 10, axis=1) \n",
    "# print(repeated.shape)  \n",
    "# print(repeated)"
   ]
  },
  {
   "cell_type": "code",
   "execution_count": null,
   "id": "f2f08fd1",
   "metadata": {},
   "outputs": [],
   "source": [
    "def delta_lastlayer(actual, predicted, deactivated_matrix):\n",
    "    number = input_taken\n",
    "    difference = actual - predicted\n",
    "    a = np.array(difference)   \n",
    "    a = a.reshape(-1, 1)           \n",
    "    repeated = np.repeat(a, 10, axis=1) \n",
    "\n",
    "    ans = (repeated) * sigmoid_prime(deactivated_matrix)\n",
    "    return ans\n",
    "\n"
   ]
  },
  {
   "cell_type": "code",
   "execution_count": 300,
   "id": "88200f4b",
   "metadata": {},
   "outputs": [],
   "source": [
    "arrrr = delta_lastlayer(arra, result, model.layers[-1].data )\n",
    "# print(arrrr)\n",
    "# print(arrrr.size)\n",
    "# print(arrrr.shape)"
   ]
  },
  {
   "cell_type": "code",
   "execution_count": 301,
   "id": "31f50e0a",
   "metadata": {},
   "outputs": [],
   "source": [
    "def delta_calc(current_layer_number ):   #give current layer in backward terms like -1-2-3 and so on\n",
    "    if (current_layer_number == -1):\n",
    "        return arrrr\n",
    "    else:\n",
    "        answer = np.dot(delta_calc(current_layer_number + 1), np.transpose(model.weights[current_layer_number + 1].value)) * sigmoid_prime(model.layers[current_layer_number].data)\n",
    "        # print(answer)\n",
    "        return answer"
   ]
  },
  {
   "cell_type": "code",
   "execution_count": null,
   "id": "6d80e886",
   "metadata": {},
   "outputs": [
    {
     "data": {
      "text/plain": [
       "784"
      ]
     },
     "execution_count": 320,
     "metadata": {},
     "output_type": "execute_result"
    }
   ],
   "source": [
    "# model.layers[-4].size"
   ]
  },
  {
   "cell_type": "code",
   "execution_count": 340,
   "id": "4bcf9564",
   "metadata": {},
   "outputs": [
    {
     "name": "stdout",
     "output_type": "stream",
     "text": [
      "Shape of delta matrix of Layer -3 (5, 107)\n",
      "Shape of delta matrix of Layer -2 (5, 26)\n",
      "Shape of delta matrix of Layer -1 (5, 10)\n",
      "3\n",
      "[[ 0.49783963  0.41480579  0.49313994  0.42858209  0.47504876  0.40137549\n",
      "   0.40563914  0.48396852  0.49997053  0.44940573]\n",
      " [-0.73810015 -0.60413857 -0.73692796 -0.62744988 -0.60919377 -0.59705684\n",
      "  -0.61483024 -0.65414487 -0.74991233 -0.73984385]\n",
      " [-1.2413817  -1.06157434 -1.22479541 -1.01682995 -1.01167316 -0.99211809\n",
      "  -0.98577854 -1.15854159 -1.24901063 -1.21345068]\n",
      " [-1.20994036 -1.16942206 -1.17044101 -1.13301912 -1.03684066 -0.99207811\n",
      "  -1.0038174  -1.18039116 -1.24995775 -1.14421523]\n",
      " [-0.24994152 -0.24431649 -0.21552221 -0.20574793 -0.20510274 -0.19822236\n",
      "  -0.19955841 -0.24741022 -0.24899234 -0.21655622]]\n"
     ]
    }
   ],
   "source": [
    "numberOfWeightOrBiasMatrices = 3\n",
    "delta_list = []     #deltas will be stored in order -3 , -2, -1 that is (for layer 1, layer 2, layer 3(output layer))\n",
    "for i in (range(numberOfWeightOrBiasMatrices)):\n",
    "    temp = delta_calc(i - numberOfWeightOrBiasMatrices)\n",
    "    delta_list.append(temp)\n",
    "    print(\"Shape of delta matrix of Layer\",i-numberOfWeightOrBiasMatrices,temp.shape)\n",
    "\n",
    "print(len(delta_list))      #no. of delta matrices added\n",
    "print(delta_list[2])"
   ]
  },
  {
   "cell_type": "code",
   "execution_count": 343,
   "id": "2f1abc3b",
   "metadata": {},
   "outputs": [
    {
     "name": "stdout",
     "output_type": "stream",
     "text": [
      "[ 2  4  6  8 10]\n"
     ]
    }
   ],
   "source": [
    "check = [[1,2,3,4,5], [1,2,3,4,5]]\n",
    "sum = np.sum(check, axis = 0)\n",
    "\n",
    "print(sum)"
   ]
  },
  {
   "cell_type": "code",
   "execution_count": 357,
   "id": "bf2b3429",
   "metadata": {},
   "outputs": [],
   "source": [
    "def dJdW(current_layernumber):         #input layer number in negatives\n",
    "    input_of_current_layer = np.transpose(model.layers[current_layernumber-1].data)\n",
    "    ans = np.dot(input_of_current_layer, delta_calc(current_layernumber) )\n",
    "    return ans\n"
   ]
  },
  {
   "cell_type": "code",
   "execution_count": null,
   "id": "cef5e965",
   "metadata": {},
   "outputs": [],
   "source": []
  },
  {
   "cell_type": "code",
   "execution_count": 359,
   "id": "e54aa20f",
   "metadata": {},
   "outputs": [
    {
     "name": "stdout",
     "output_type": "stream",
     "text": [
      "(26, 10)\n"
     ]
    },
    {
     "data": {
      "text/plain": [
       "array([[-1.35807005e+00, -1.17067634e+00, -1.32737372e+00,\n",
       "        -1.10785493e+00, -1.04349005e+00, -1.08593307e+00,\n",
       "        -1.08801470e+00, -1.23250427e+00, -1.37099564e+00,\n",
       "        -1.36228320e+00],\n",
       "       [ 1.05742676e-03,  8.85592940e-04,  1.04473931e-03,\n",
       "         9.15000083e-04,  1.05924678e-03,  8.51684711e-04,\n",
       "         8.55397230e-04,  1.06006723e-03,  1.05757729e-03,\n",
       "         9.16529757e-04],\n",
       "       [-9.39156044e-02, -8.06316604e-02, -9.25656240e-02,\n",
       "        -7.64362965e-02, -7.48596930e-02, -7.49729591e-02,\n",
       "        -7.43350759e-02, -8.72006098e-02, -9.45146385e-02,\n",
       "        -9.26638161e-02],\n",
       "       [-1.86912646e+00, -1.76275596e+00, -1.79078182e+00,\n",
       "        -1.64654506e+00, -1.50371436e+00, -1.51304851e+00,\n",
       "        -1.51823131e+00, -1.78335932e+00, -1.91037184e+00,\n",
       "        -1.80287988e+00],\n",
       "       [-2.93511155e+00, -2.65915512e+00, -2.84817791e+00,\n",
       "        -2.54888761e+00, -2.38298102e+00, -2.37287907e+00,\n",
       "        -2.39293101e+00, -2.75103392e+00, -2.99130112e+00,\n",
       "        -2.85790804e+00],\n",
       "       [ 6.96688330e-05,  9.48049902e-06,  1.12582511e-04,\n",
       "         7.42479486e-05,  1.28952248e-04,  6.03833436e-05,\n",
       "         6.02195059e-05,  7.21058574e-05,  7.12674832e-05,\n",
       "         6.31046146e-05],\n",
       "       [-1.96519168e+00, -1.65986809e+00, -1.94197545e+00,\n",
       "        -1.63186960e+00, -1.60697885e+00, -1.57728577e+00,\n",
       "        -1.58867141e+00, -1.80179702e+00, -1.98407784e+00,\n",
       "        -1.93544434e+00],\n",
       "       [-2.69148279e-03, -2.45598184e-03, -2.63103252e-03,\n",
       "        -2.39841427e-03, -2.26240978e-03, -2.18719774e-03,\n",
       "        -2.20936811e-03, -2.55554021e-03, -2.75373339e-03,\n",
       "        -2.59321987e-03],\n",
       "       [-9.49034064e-01, -8.11464373e-01, -9.36396624e-01,\n",
       "        -7.77560391e-01, -7.73464209e-01, -7.58526721e-01,\n",
       "        -7.53820580e-01, -8.85499220e-01, -9.54926245e-01,\n",
       "        -9.27793850e-01],\n",
       "       [-6.38834488e-05, -6.22318755e-05, -5.57559190e-05,\n",
       "        -5.31405475e-05, -5.25944942e-05, -5.08048417e-05,\n",
       "        -5.11602777e-05, -6.30864364e-05, -6.38349116e-05,\n",
       "        -5.58807307e-05],\n",
       "       [-1.40524054e-01, -1.23888766e-01, -1.36778351e-01,\n",
       "        -1.17512702e-01, -1.15375418e-01, -1.12651996e-01,\n",
       "        -1.12352678e-01, -1.32657659e-01, -1.41816545e-01,\n",
       "        -1.35433729e-01],\n",
       "       [-1.64253126e-02, -1.40310344e-02, -1.62093580e-02,\n",
       "        -1.34729652e-02, -1.33894469e-02, -1.31327409e-02,\n",
       "        -1.30653720e-02, -1.53040645e-02, -1.65321485e-02,\n",
       "        -1.60684338e-02],\n",
       "       [-1.98757488e+00, -1.76789202e+00, -1.95123425e+00,\n",
       "        -1.73442907e+00, -1.63257639e+00, -1.61025414e+00,\n",
       "        -1.63008697e+00, -1.84795528e+00, -2.02827008e+00,\n",
       "        -1.94850843e+00],\n",
       "       [-9.60932163e-02, -8.25446309e-02, -9.49101407e-02,\n",
       "        -8.32510236e-02, -7.97466771e-02, -7.78594906e-02,\n",
       "        -7.95655103e-02, -8.76649993e-02, -9.78965066e-02,\n",
       "        -9.47112155e-02],\n",
       "       [-8.89705989e-03, -7.02220936e-03, -9.03122976e-03,\n",
       "        -7.36045573e-03, -4.79737233e-03, -7.25045617e-03,\n",
       "        -7.76516967e-03, -6.20777690e-03, -9.27303329e-03,\n",
       "        -1.08765476e-02],\n",
       "       [-2.32905996e+00, -2.08717095e+00, -2.26108257e+00,\n",
       "        -2.00013111e+00, -1.87451768e+00, -1.87937154e+00,\n",
       "        -1.89611802e+00, -2.16638374e+00, -2.36929207e+00,\n",
       "        -2.27925525e+00],\n",
       "       [-3.02000524e+00, -2.72958510e+00, -2.93233388e+00,\n",
       "        -2.62179792e+00, -2.46389651e+00, -2.44130261e+00,\n",
       "        -2.46211772e+00, -2.83335788e+00, -3.07652730e+00,\n",
       "        -2.93468064e+00],\n",
       "       [-2.74434494e-03, -2.45522089e-03, -2.69365155e-03,\n",
       "        -2.43113189e-03, -2.29799164e-03, -2.22999577e-03,\n",
       "        -2.26505711e-03, -2.56701363e-03, -2.80632505e-03,\n",
       "        -2.66807795e-03],\n",
       "       [-2.89159984e+00, -2.62367017e+00, -2.80479709e+00,\n",
       "        -2.51204352e+00, -2.34656143e+00, -2.33772673e+00,\n",
       "        -2.35678331e+00, -2.71220144e+00, -2.94719297e+00,\n",
       "        -2.81471232e+00],\n",
       "       [-2.62561475e-01, -2.52750169e-01, -2.31129375e-01,\n",
       "        -2.17391379e-01, -1.99561817e-01, -2.09312526e-01,\n",
       "        -2.13021008e-01, -2.47324807e-01, -2.64071637e-01,\n",
       "        -2.43572518e-01],\n",
       "       [ 7.18788758e-02,  5.96676783e-02,  7.12818037e-02,\n",
       "         6.18038895e-02,  6.87653401e-02,  5.79401405e-02,\n",
       "         5.85559845e-02,  6.98655154e-02,  7.21547583e-02,\n",
       "         6.48468681e-02],\n",
       "       [-1.98620556e-02, -1.62364251e-02, -1.98302182e-02,\n",
       "        -1.68178698e-02, -1.56333849e-02, -1.60777257e-02,\n",
       "        -1.66383510e-02, -1.71400221e-02, -2.02436859e-02,\n",
       "        -2.04472616e-02],\n",
       "       [-2.06248117e+00, -1.87967184e+00, -1.98924843e+00,\n",
       "        -1.77648824e+00, -1.70481514e+00, -1.66207376e+00,\n",
       "        -1.66452876e+00, -1.96817883e+00, -2.09321180e+00,\n",
       "        -1.96945892e+00],\n",
       "       [-5.25549297e-01, -4.35851656e-01, -5.23313573e-01,\n",
       "        -4.47246239e-01, -4.33594670e-01, -4.24886477e-01,\n",
       "        -4.35651609e-01, -4.70301156e-01, -5.33897722e-01,\n",
       "        -5.24325573e-01],\n",
       "       [-2.48064560e+00, -2.26653740e+00, -2.41086226e+00,\n",
       "        -2.16588386e+00, -2.02898309e+00, -2.00657151e+00,\n",
       "        -2.01578692e+00, -2.34749095e+00, -2.52976075e+00,\n",
       "        -2.40423800e+00],\n",
       "       [-2.99954327e+00, -2.71241603e+00, -2.91211688e+00,\n",
       "        -2.60545282e+00, -2.44673669e+00, -2.42504870e+00,\n",
       "        -2.44612357e+00, -2.81395778e+00, -3.05610848e+00,\n",
       "        -2.91507632e+00]])"
      ]
     },
     "execution_count": 359,
     "metadata": {},
     "output_type": "execute_result"
    }
   ],
   "source": [
    "print(dJdW(-1).shape)\n",
    "dJdW(-1)"
   ]
  },
  {
   "cell_type": "code",
   "execution_count": 351,
   "id": "4c505f6e",
   "metadata": {},
   "outputs": [],
   "source": [
    "def dJdB(currentlayernumber):       #input layer number in negatives\n",
    "    ans = np.sum(delta_calc(currentlayernumber), axis = 0)\n",
    "    return ans"
   ]
  },
  {
   "cell_type": "code",
   "execution_count": 356,
   "id": "8e44e2d7",
   "metadata": {},
   "outputs": [
    {
     "name": "stdout",
     "output_type": "stream",
     "text": [
      "[ 0.59652672  0.66214102  0.36173751  1.62630006  1.06536968  1.63841734\n",
      " -1.2415656   1.01320154 -0.91006385 -0.2513158  -2.02395219 -2.55362031\n",
      "  1.12229002 -0.27563072 -3.12038304 -0.27396123 -4.09944757 -2.06745125\n",
      " -1.80373803  1.93663732 -0.34316364 -0.81298095 -2.63691956  0.11253313\n",
      "  1.91787666  1.1654949 ]\n",
      "[-2.94152411 -2.66464567 -2.85454665 -2.55446479 -2.38776157 -2.37809992\n",
      " -2.39834544 -2.75651931 -2.99790253 -2.86466026]\n"
     ]
    }
   ],
   "source": [
    "print(dJdB(-2))\n",
    "print(dJdB(-1))\n",
    "#we can use a loop here"
   ]
  },
  {
   "cell_type": "code",
   "execution_count": null,
   "id": "f0684970",
   "metadata": {},
   "outputs": [],
   "source": []
  }
 ],
 "metadata": {
  "kernelspec": {
   "display_name": "base",
   "language": "python",
   "name": "python3"
  },
  "language_info": {
   "codemirror_mode": {
    "name": "ipython",
    "version": 3
   },
   "file_extension": ".py",
   "mimetype": "text/x-python",
   "name": "python",
   "nbconvert_exporter": "python",
   "pygments_lexer": "ipython3",
   "version": "3.12.7"
  }
 },
 "nbformat": 4,
 "nbformat_minor": 5
}
