{
 "cells": [
  {
   "cell_type": "code",
   "execution_count": 250,
   "id": "2f2d743e",
   "metadata": {},
   "outputs": [
    {
     "name": "stdout",
     "output_type": "stream",
     "text": [
      "Path to dataset files: C:\\Users\\ma\\.cache\\kagglehub\\datasets\\oddrationale\\mnist-in-csv\\versions\\2\n"
     ]
    }
   ],
   "source": [
    "import numpy as np\n",
    "import kagglehub\n",
    "import os\n",
    "from PIL import Image\n",
    "from IPython.display import display\n",
    "\n",
    "# Download MNIST CSV dataset\n",
    "path = kagglehub.dataset_download(\"oddrationale/mnist-in-csv\")\n",
    "print(\"Path to dataset files:\", path)\n"
   ]
  },
  {
   "cell_type": "code",
   "execution_count": 251,
   "id": "bffb4faa",
   "metadata": {},
   "outputs": [],
   "source": [
    "\n",
    "# Identify CSV files\n",
    "csv_files = [f for f in os.listdir(path) if f.endswith('.csv')]\n",
    "if not csv_files:\n",
    "    raise FileNotFoundError(f\"No CSV files found in {path}\")\n",
    "\n",
    "csv_path = os.path.join(path, csv_files[0])\n",
    "\n",
    "# Load data\n",
    "data = np.genfromtxt(csv_path, delimiter=',', skip_header=1)\n",
    "labels = data[:, 0].astype(int)\n",
    "pixels = data[:, 1:].astype(np.uint8)\n",
    "scaled_pixels = pixels / 255.0\n",
    "\n",
    "\n",
    "class Layer:\n",
    "    def __init__(self, number, size, inputs=1):\n",
    "        self.number = number\n",
    "        self.size = size\n",
    "        self.data = np.zeros((inputs, size), dtype=np.float32)\n",
    "\n",
    "class Weight:\n",
    "    def __init__(self, prev, next):\n",
    "        self.value = (np.random.randn(prev.size, next.size).astype(np.float32))\n",
    "\n",
    "class Bias:\n",
    "    def __init__(self, next):\n",
    "        self.value = np.random.randn(1, next.size).astype(np.float32)\n",
    "\n",
    "class Neural:\n",
    "    def __init__(self, activation):\n",
    "        self.activation = activation\n",
    "        self.layers = []\n",
    "        self.weights = []\n",
    "        self.biases = []\n",
    "\n",
    "    def add_layer(self, layer):\n",
    "        self.layers.append(layer)\n",
    "        if len(self.layers) > 1:\n",
    "            self.weights.append(Weight(self.layers[len(self.layers)-2], self.layers[len(self.layers)-1]))\n",
    "            self.biases.append(Bias(self.layers[len(self.layers)-1]))\n",
    "\n",
    "    def forward(self):\n",
    "        for i in range(1, len(self.layers)):\n",
    "            prev_data = self.layers[i - 1].data     \n",
    "            w = self.weights[i - 1].value            \n",
    "            b = self.biases[i - 1].value            \n",
    "            z = np.dot(prev_data, w) + b            \n",
    "            self.layers[i].data = self.activation(z)\n",
    "\n",
    "    @property\n",
    "    def output(self):\n",
    "        return self.layers[len(self.layers)-1].data\n",
    "\n",
    "def sigmoid(x):\n",
    "    return 1 / (1 + np.exp(-x))\n",
    "\n",
    "# cost function = (predicted-actual)^2 \n",
    "def costFunction(predicted, actual):\n",
    "    return np.sum((predicted - actual) ** 2)\n",
    "\n"
   ]
  },
  {
   "cell_type": "code",
   "execution_count": 252,
   "id": "f59b6fce",
   "metadata": {},
   "outputs": [
    {
     "data": {
      "image/jpeg": "[encoded data removed]",
      "image/png": "[encoded data removed]",
      "text/plain": [
       "<PIL.Image.Image image mode=L size=28x28>"
      ]
     },
     "metadata": {},
     "output_type": "display_data"
    },
    {
     "data": {
      "image/jpeg": "[encoded data removed]",
      "image/png": "[encoded data removed]",
      "text/plain": [
       "<PIL.Image.Image image mode=L size=28x28>"
      ]
     },
     "metadata": {},
     "output_type": "display_data"
    },
    {
     "data": {
      "image/jpeg": "[encoded data removed]",
      "image/png": "[encoded data removed]",
      "text/plain": [
       "<PIL.Image.Image image mode=L size=28x28>"
      ]
     },
     "metadata": {},
     "output_type": "display_data"
    },
    {
     "data": {
      "image/jpeg": "[encoded data removed]",
      "image/png": "[encoded data removed]",
      "text/plain": [
       "<PIL.Image.Image image mode=L size=28x28>"
      ]
     },
     "metadata": {},
     "output_type": "display_data"
    },
    {
     "data": {
      "image/jpeg": "[encoded data removed]",
      "image/png": "[encoded data removed]",
      "text/plain": [
       "<PIL.Image.Image image mode=L size=28x28>"
      ]
     },
     "metadata": {},
     "output_type": "display_data"
    },
    {
     "name": "stdout",
     "output_type": "stream",
     "text": [
      "[[0. 0. 0. 0. 0. 0. 0. 1. 0. 0.]\n",
      " [0. 0. 1. 0. 0. 0. 0. 0. 0. 0.]\n",
      " [0. 1. 0. 0. 0. 0. 0. 0. 0. 0.]\n",
      " [1. 0. 0. 0. 0. 0. 0. 0. 0. 0.]\n",
      " [0. 0. 0. 0. 1. 0. 0. 0. 0. 0.]]\n"
     ]
    }
   ],
   "source": [
    "input_taken = 5\n",
    "indices = list(range(input_taken))\n",
    "\n",
    "input_data = scaled_pixels[indices] \n",
    "\n",
    "actual = np.zeros((input_taken, 10), dtype=np.float32)\n",
    "for i in range(len(indices)):\n",
    "    idx = indices[i]\n",
    "    label = labels[idx]\n",
    "    actual[i, label] = 1\n",
    "    display(Image.fromarray(pixels[idx].reshape(28,28), mode = 'L'))\n",
    "\n",
    "\n",
    "print(actual)\n"
   ]
  },
  {
   "cell_type": "code",
   "execution_count": 253,
   "id": "c9b5c17d",
   "metadata": {},
   "outputs": [
    {
     "name": "stdout",
     "output_type": "stream",
     "text": [
      "Predicted Labels: [5 5 6 5 5]\n",
      "True Labels     : [7 2 1 0 4]\n",
      "[[0.13165463 0.87791834 0.23534604 0.79529965 0.45443978 0.95472108\n",
      "  0.93066688 0.36202548 0.01535598 0.65906683]\n",
      " [0.25326957 0.94694569 0.26559103 0.85738459 0.92788408 0.97336568\n",
      "  0.90641191 0.74803514 0.0216239  0.23379536]\n",
      " [0.16645115 0.81948302 0.28592992 0.92445558 0.93616324 0.97998047\n",
      "  0.99400808 0.55479239 0.05628186 0.34538388]\n",
      " [0.36193754 0.5191423  0.51570104 0.63206737 0.87832432 0.98006918\n",
      "  0.95387118 0.48102778 0.01162836 0.59911716]\n",
      " [0.03059016 0.3038731  0.78000861 0.89714172 0.9045798  0.98221256\n",
      "  0.96735536 0.20426702 0.12714564 0.76702225]]\n",
      "Cost: 22.67025639268486\n"
     ]
    }
   ],
   "source": [
    "\n",
    "model = Neural(sigmoid)\n",
    "\n",
    "input_layer = Layer(1, 784, inputs=input_taken)\n",
    "input_layer.data = input_data\n",
    "\n",
    "model.add_layer(input_layer)\n",
    "model.add_layer(Layer(2, 107, inputs=input_taken))\n",
    "model.add_layer(Layer(3, 26, inputs=input_taken))\n",
    "model.add_layer(Layer(4, 10, inputs=input_taken))\n",
    "\n",
    "model.forward()\n",
    "\n",
    "result = np.argmax(model.output, axis=1)\n",
    "true_labels = labels[indices]\n",
    "\n",
    "print(\"Predicted Labels:\", result)\n",
    "print(\"True Labels     :\", true_labels)\n",
    "print(model.output)\n",
    "\n",
    "cost = costFunction(model.output,actual)\n",
    "print(\"Cost:\", cost)\n"
   ]
  },
  {
   "cell_type": "code",
   "execution_count": 254,
   "id": "f3bcc23e",
   "metadata": {},
   "outputs": [],
   "source": [
    "def sigmoid_prime(x):\n",
    "    s = sigmoid(x)\n",
    "    return s * (1 - s)"
   ]
  },
  {
   "cell_type": "code",
   "execution_count": 255,
   "id": "84442a50",
   "metadata": {},
   "outputs": [],
   "source": [
    "# print(model.biases[-1].value)\n",
    "\n",
    "# print(model.weights[-1].value)"
   ]
  },
  {
   "cell_type": "code",
   "execution_count": 256,
   "id": "6c9a68b6",
   "metadata": {},
   "outputs": [
    {
     "name": "stdout",
     "output_type": "stream",
     "text": [
      "[7 2 1 0 4]\n",
      "[5 5 6 5 5]\n"
     ]
    }
   ],
   "source": [
    "print(true_labels)\n",
    "print(result)\n",
    "# print(scaled_pixels)\n",
    "# print(model.output)\n"
   ]
  },
  {
   "cell_type": "code",
   "execution_count": 290,
   "id": "37f05c44",
   "metadata": {},
   "outputs": [],
   "source": [
    "arra = np.array(true_labels)"
   ]
  },
  {
   "cell_type": "code",
   "execution_count": 305,
   "id": "91c8e038",
   "metadata": {},
   "outputs": [],
   "source": [
    "# print(result)\n",
    "# print(true_labels)\n",
    "# print(len(model.layers[-1]))\n",
    "# print(model.layers[-1].data)\n",
    "\n",
    "# print(arra.size)        #arra is np array\n",
    "# print(result.size)      #result is np array\n",
    "# print(result.shape)\n",
    "# print(arra.shape)\n",
    "# print(arra - result)\n",
    "# print(model.layers[-1].data.size)\n",
    "# print(model.layers[-1].data.shape)\n",
    "# print(sigmoid_prime(model.layers[-1].data))\n",
    "\n",
    "\n",
    "\n",
    "# sigmoid_deactivatedMAtrix = sigmoid_prime(model.layers[-1].data)\n",
    "# differenc = np.array([arra - result])\n",
    "# print(differenc.shape)\n",
    "# differenc.reshape(-1, 1)\n",
    "# print(differenc.shape)\n",
    "# extended = np.repeat(differenc, 5, axis = 1)\n",
    "# print(difference)\n"
   ]
  },
  {
   "cell_type": "code",
   "execution_count": 304,
   "id": "f18ca0ef",
   "metadata": {},
   "outputs": [],
   "source": [
    "# a = np.array(differenc)   \n",
    "# a = a.reshape(-1, 1)           \n",
    "\n",
    "# repeat = np.repeat(a, 10, axis=1) \n",
    "# print(repeat.shape)  \n",
    "# print(repeat)\n",
    "\n",
    "# print(repeat * sigmoid_deactivatedMAtrix)\n",
    "\n",
    "\n"
   ]
  },
  {
   "cell_type": "code",
   "execution_count": 303,
   "id": "59658a3b",
   "metadata": {},
   "outputs": [],
   "source": [
    "# a = np.array(arra)   \n",
    "# a = a.reshape(-1, 1)           \n",
    "\n",
    "# repeated = np.repeat(a, 10, axis=1) \n",
    "# print(repeated.shape)  \n",
    "# print(repeated)"
   ]
  },
  {
   "cell_type": "code",
   "execution_count": null,
   "id": "f2f08fd1",
   "metadata": {},
   "outputs": [],
   "source": [
    "def delta_lastlayer(actual, predicted, deactivated_matrix):\n",
    "    number = input_taken\n",
    "    difference = actual - predicted\n",
    "    a = np.array(difference)   \n",
    "    a = a.reshape(-1, 1)           \n",
    "    repeated = np.repeat(a, 10, axis=1) \n",
    "\n",
    "    ans = (repeated) * sigmoid_prime(deactivated_matrix)\n",
    "    return ans\n",
    "\n"
   ]
  },
  {
   "cell_type": "code",
   "execution_count": 300,
   "id": "88200f4b",
   "metadata": {},
   "outputs": [],
   "source": [
    "arrrr = delta_lastlayer(arra, result, model.layers[-1].data )\n",
    "# print(arrrr)\n",
    "# print(arrrr.size)\n",
    "# print(arrrr.shape)"
   ]
  },
  {
   "cell_type": "code",
   "execution_count": 301,
   "id": "31f50e0a",
   "metadata": {},
   "outputs": [],
   "source": [
    "def delta_calc(current_layer_number ):   #give current layer in backward terms like -1-2-3 and so on\n",
    "    if (current_layer_number == -1):\n",
    "        return arrrr\n",
    "    else:\n",
    "        answer = np.dot(delta_calc(current_layer_number + 1), np.transpose(model.weights[current_layer_number + 1].value)) * sigmoid_prime(model.layers[current_layer_number].data)\n",
    "        # print(answer)\n",
    "        return answer"
   ]
  },
  {
   "cell_type": "code",
   "execution_count": null,
   "id": "6d80e886",
   "metadata": {},
   "outputs": [
    {
     "data": {
      "text/plain": [
       "784"
      ]
     },
     "execution_count": 320,
     "metadata": {},
     "output_type": "execute_result"
    }
   ],
   "source": [
    "# model.layers[-4].size"
   ]
  },
  {
   "cell_type": "code",
   "execution_count": 340,
   "id": "4bcf9564",
   "metadata": {},
   "outputs": [
    {
     "name": "stdout",
     "output_type": "stream",
     "text": [
      "Shape of delta matrix of Layer -3 (5, 107)\n",
      "Shape of delta matrix of Layer -2 (5, 26)\n",
      "Shape of delta matrix of Layer -1 (5, 10)\n",
      "3\n",
      "[[ 0.49783963  0.41480579  0.49313994  0.42858209  0.47504876  0.40137549\n",
      "   0.40563914  0.48396852  0.49997053  0.44940573]\n",
      " [-0.73810015 -0.60413857 -0.73692796 -0.62744988 -0.60919377 -0.59705684\n",
      "  -0.61483024 -0.65414487 -0.74991233 -0.73984385]\n",
      " [-1.2413817  -1.06157434 -1.22479541 -1.01682995 -1.01167316 -0.99211809\n",
      "  -0.98577854 -1.15854159 -1.24901063 -1.21345068]\n",
      " [-1.20994036 -1.16942206 -1.17044101 -1.13301912 -1.03684066 -0.99207811\n",
      "  -1.0038174  -1.18039116 -1.24995775 -1.14421523]\n",
      " [-0.24994152 -0.24431649 -0.21552221 -0.20574793 -0.20510274 -0.19822236\n",
      "  -0.19955841 -0.24741022 -0.24899234 -0.21655622]]\n"
     ]
    }
   ],
   "source": [
    "numberOfWeightOrBiasMatrices = 3\n",
    "delta_list = []     #deltas will be stored in order -3 , -2, -1 that is (for layer 1, layer 2, layer 3(output layer))\n",
    "for i in (range(numberOfWeightOrBiasMatrices)):\n",
    "    temp = delta_calc(i - numberOfWeightOrBiasMatrices)\n",
    "    delta_list.append(temp)\n",
    "    print(\"Shape of delta matrix of Layer\",i-numberOfWeightOrBiasMatrices,temp.shape)\n",
    "\n",
    "print(len(delta_list))      #no. of delta matrices added\n",
    "print(delta_list[2])"
   ]
  },
  {
   "cell_type": "code",
   "execution_count": 343,
   "id": "2f1abc3b",
   "metadata": {},
   "outputs": [
    {
     "name": "stdout",
     "output_type": "stream",
     "text": [
      "[ 2  4  6  8 10]\n"
     ]
    }
   ],
   "source": [
    "check = [[1,2,3,4,5], [1,2,3,4,5]]\n",
    "sum = np.sum(check, axis = 0)\n",
    "\n",
    "print(sum)"
   ]
  },
  {
   "cell_type": "code",
   "execution_count": 336,
   "id": "bf2b3429",
   "metadata": {},
   "outputs": [],
   "source": [
    "def dJdW(current_layernumber):         #input layer number in negatives\n",
    "    input_of_current_layer = np.transpose(model.layers[current_layernumber].data)\n",
    "    ans = np.dot(delta_calc(current_layernumber), input_of_current_layer )\n",
    "    return ans\n"
   ]
  },
  {
   "cell_type": "code",
   "execution_count": null,
   "id": "cef5e965",
   "metadata": {},
   "outputs": [],
   "source": []
  },
  {
   "cell_type": "code",
   "execution_count": 337,
   "id": "e54aa20f",
   "metadata": {},
   "outputs": [
    {
     "data": {
      "text/plain": [
       "array([[ 2.34229071,  2.69437662,  2.65313157,  2.62614855,  2.63391442],\n",
       "       [-3.45500844, -3.87492877, -3.83590449, -3.83073596, -3.87258711],\n",
       "       [-5.75506296, -6.49203445, -6.39816374, -6.37478509, -6.39755936],\n",
       "       [-5.91569915, -6.71122207, -6.60289481, -6.47311628, -6.48286601],\n",
       "       [-1.16604309, -1.33352498, -1.30434177, -1.27491029, -1.25615284]])"
      ]
     },
     "execution_count": 337,
     "metadata": {},
     "output_type": "execute_result"
    }
   ],
   "source": [
    "dJdW(-1)"
   ]
  },
  {
   "cell_type": "code",
   "execution_count": 351,
   "id": "4c505f6e",
   "metadata": {},
   "outputs": [],
   "source": [
    "def dJdB(currentlayernumber):       #input layer number in negatives\n",
    "    ans = np.sum(delta_calc(currentlayernumber), axis = 0)\n",
    "    return ans"
   ]
  },
  {
   "cell_type": "code",
   "execution_count": 356,
   "id": "8e44e2d7",
   "metadata": {},
   "outputs": [
    {
     "name": "stdout",
     "output_type": "stream",
     "text": [
      "[ 0.59652672  0.66214102  0.36173751  1.62630006  1.06536968  1.63841734\n",
      " -1.2415656   1.01320154 -0.91006385 -0.2513158  -2.02395219 -2.55362031\n",
      "  1.12229002 -0.27563072 -3.12038304 -0.27396123 -4.09944757 -2.06745125\n",
      " -1.80373803  1.93663732 -0.34316364 -0.81298095 -2.63691956  0.11253313\n",
      "  1.91787666  1.1654949 ]\n",
      "[-2.94152411 -2.66464567 -2.85454665 -2.55446479 -2.38776157 -2.37809992\n",
      " -2.39834544 -2.75651931 -2.99790253 -2.86466026]\n"
     ]
    }
   ],
   "source": [
    "print(dJdB(-2))\n",
    "print(dJdB(-1))\n",
    "#we can use a loop here"
   ]
  },
  {
   "cell_type": "code",
   "execution_count": null,
   "id": "f0684970",
   "metadata": {},
   "outputs": [],
   "source": []
  }
 ],
 "metadata": {
  "kernelspec": {
   "display_name": "base",
   "language": "python",
   "name": "python3"
  },
  "language_info": {
   "codemirror_mode": {
    "name": "ipython",
    "version": 3
   },
   "file_extension": ".py",
   "mimetype": "text/x-python",
   "name": "python",
   "nbconvert_exporter": "python",
   "pygments_lexer": "ipython3",
   "version": "3.12.7"
  }
 },
 "nbformat": 4,
 "nbformat_minor": 5
}
