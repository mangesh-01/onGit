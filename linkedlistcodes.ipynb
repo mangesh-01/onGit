{
  "nbformat": 4,
  "nbformat_minor": 0,
  "metadata": {
    "colab": {
      "provenance": [],
      "authorship_tag": "ABX9TyMQVHkET9OpgGzVg97g9HgJ",
      "include_colab_link": true
    },
    "kernelspec": {
      "name": "python3",
      "display_name": "Python 3"
    },
    "language_info": {
      "name": "python"
    }
  },
  "cells": [
    {
      "cell_type": "markdown",
      "metadata": {
        "id": "view-in-github",
        "colab_type": "text"
      },
      "source": [
        "<a href=\"https://colab.research.google.com/github/mangesh-01/onGit/blob/master/linkedlistcodes.ipynb\" target=\"_parent\"><img src=\"https://colab.research.google.com/assets/colab-badge.svg\" alt=\"Open In Colab\"/></a>"
      ]
    },
    {
      "cell_type": "code",
      "execution_count": null,
      "metadata": {
        "id": "I4vJqfCM8kz4"
      },
      "outputs": [],
      "source": []
    },
    {
      "cell_type": "markdown",
      "source": [
        "Insertion From Start\n"
      ],
      "metadata": {
        "id": "sCvLplQB82IK"
      }
    },
    {
      "cell_type": "code",
      "source": [
        "#include <stdio.h>\n",
        "#include <stdlib.h>\n",
        "\n",
        "// Define the structure for a node\n",
        "struct Node {\n",
        "    int data;\n",
        "    struct Node* next;\n",
        "};\n",
        "\n",
        "// Function to insert a node at the start of the linked list\n",
        "void insertAtStart(struct Node** start, int newData) {\n",
        "    // Allocate memory for the new node\n",
        "    struct Node* newNode = (struct Node*)malloc(sizeof(struct Node));\n",
        "\n",
        "    // Assign data to the new node\n",
        "    newNode->data = newData;\n",
        "\n",
        "    // Make the new node point to the current start\n",
        "    newNode->next = *start;\n",
        "\n",
        "    // Update the start to point to the new node\n",
        "    *start = newNode;\n",
        "}\n",
        "\n",
        "// Function to print the linked list\n",
        "void printList(struct Node* start) {\n",
        "    struct Node* temp = start;\n",
        "    while (temp != NULL) {\n",
        "        printf(\"%d -> \", temp->data);\n",
        "        temp = temp->next;\n",
        "    }\n",
        "    printf(\"NULL\\n\");\n",
        "}\n",
        "\n",
        "// Example usage\n",
        "int main() {\n",
        "    struct Node* start = NULL; // Initialize an empty list\n",
        "\n",
        "    // Insert elements at the start\n",
        "    insertAtStart(&start, 10);\n",
        "    insertAtStart(&start, 20);\n",
        "    insertAtStart(&start, 30);\n",
        "\n",
        "    // Print the linked list\n",
        "    printList(start);\n",
        "\n",
        "    return 0;\n",
        "}\n"
      ],
      "metadata": {
        "id": "XF29tib486mO"
      },
      "execution_count": null,
      "outputs": []
    },
    {
      "cell_type": "markdown",
      "source": [
        "iNSERT AT end"
      ],
      "metadata": {
        "id": "JAsqgmCH8_me"
      }
    },
    {
      "cell_type": "code",
      "source": [
        "#include <stdio.h>\n",
        "#include <stdlib.h>\n",
        "\n",
        "// Define the structure for a node\n",
        "struct Node {\n",
        "    int data;\n",
        "    struct Node* next;\n",
        "};\n",
        "\n",
        "// Function to insert a node at the end of the linked list\n",
        "void insertAtEnd(struct Node** start, int newData) {\n",
        "    // Allocate memory for the new node\n",
        "    struct Node* newNode = (struct Node*)malloc(sizeof(struct Node));\n",
        "    newNode->data = newData;\n",
        "    newNode->next = NULL;\n",
        "\n",
        "    // If the list is empty, make the new node the start\n",
        "    if (*start == NULL) {\n",
        "        *start = newNode;\n",
        "        return;\n",
        "    }\n",
        "\n",
        "    // Traverse to the last node\n",
        "    struct Node* temp = *start;\n",
        "    while (temp->next != NULL) {\n",
        "        temp = temp->next;\n",
        "    }\n",
        "\n",
        "    // Link the last node to the new node\n",
        "    temp->next = newNode;\n",
        "}\n"
      ],
      "metadata": {
        "id": "QRutJ4NF9C0Q"
      },
      "execution_count": null,
      "outputs": []
    },
    {
      "cell_type": "markdown",
      "source": [
        "iNSERT AT kTH pOSITION"
      ],
      "metadata": {
        "id": "JHJZ_zYA9H9n"
      }
    },
    {
      "cell_type": "code",
      "source": [
        "#include <stdio.h>\n",
        "#include <stdlib.h>\n",
        "\n",
        "// Define the structure for a node\n",
        "struct Node {\n",
        "    int data;\n",
        "    struct Node* next;\n",
        "};\n",
        "\n",
        "// Function to insert a node at position k in the linked list\n",
        "void insertAtKthPos(struct Node** start, int newData, int k) {\n",
        "    // Allocate memory for the new node\n",
        "    struct Node* newNode = (struct Node*)malloc(sizeof(struct Node));\n",
        "    newNode->data = newData;\n",
        "\n",
        "    // If inserting at the start (position 1)\n",
        "    if (k == 1) {\n",
        "        newNode->next = *start;\n",
        "        *start = newNode;\n",
        "        return;\n",
        "    }\n",
        "\n",
        "    // Traverse to the (k-1)th node\n",
        "    struct Node* temp = *start;\n",
        "    for (int i = 1; i < k - 1 && temp != NULL; i++) {\n",
        "        temp = temp->next;\n",
        "    }\n",
        "\n",
        "    // If the position is invalid (k is greater than the length of the list + 1)\n",
        "    if (temp == NULL) {\n",
        "        printf(\"Invalid position!\\n\");\n",
        "        free(newNode);\n",
        "        return;\n",
        "    }\n",
        "\n",
        "    // Insert the new node at position k\n",
        "    newNode->next = temp->next;\n",
        "    temp->next = newNode;\n",
        "}\n"
      ],
      "metadata": {
        "id": "WF1vTXts9LRB"
      },
      "execution_count": null,
      "outputs": []
    },
    {
      "cell_type": "markdown",
      "source": [
        "dELETION FROM sTART"
      ],
      "metadata": {
        "id": "_5Q48NY89S2O"
      }
    },
    {
      "cell_type": "code",
      "source": [
        "#include <stdio.h>\n",
        "#include <stdlib.h>\n",
        "\n",
        "// Define the structure for a node\n",
        "struct Node {\n",
        "    int data;\n",
        "    struct Node* next;\n",
        "};\n",
        "\n",
        "// Function to delete a node from the start of the linked list\n",
        "void deleteFromStart(struct Node** start) {\n",
        "    // Check if the list is empty\n",
        "    if (*start == NULL) {\n",
        "        printf(\"The list is empty. Nothing to delete.\\n\");\n",
        "        return;\n",
        "    }\n",
        "\n",
        "    // Store the current head node\n",
        "    struct Node* temp = *start;\n",
        "\n",
        "    // Update the head to point to the next node\n",
        "    *start = (*start)->next;\n",
        "\n",
        "    // Free the memory of the old head node\n",
        "    free(temp);\n",
        "\n",
        "    printf(\"Node deleted from the start.\\n\");\n",
        "}\n"
      ],
      "metadata": {
        "id": "JFboSpHV9Rqr"
      },
      "execution_count": null,
      "outputs": []
    },
    {
      "cell_type": "markdown",
      "source": [
        "dELETION fROM eND"
      ],
      "metadata": {
        "id": "pqXCGcpJ9aBC"
      }
    },
    {
      "cell_type": "code",
      "source": [
        "\n",
        "#include <stdio.h>\n",
        "#include <stdlib.h>\n",
        "\n",
        "// Define the structure for a node\n",
        "struct Node {\n",
        "    int data;\n",
        "    struct Node* next;\n",
        "};\n",
        "\n",
        "// Function to delete a node from the end of the linked list\n",
        "void deleteFromEnd(struct Node** start) {\n",
        "    // Check if the list is empty\n",
        "    if (*start == NULL) {\n",
        "        printf(\"The list is empty. Nothing to delete.\\n\");\n",
        "        return;\n",
        "    }\n",
        "\n",
        "    // If the list has only one node\n",
        "    if ((*start)->next == NULL) {\n",
        "        free(*start);\n",
        "        *start = NULL;\n",
        "        printf(\"Node deleted from the end.\\n\");\n",
        "        return;\n",
        "    }\n",
        "\n",
        "    // Traverse to the second last node\n",
        "    struct Node* temp = *start;\n",
        "    while (temp->next->next != NULL) {\n",
        "        temp = temp->next;\n",
        "    }\n",
        "\n",
        "    // Free the last node and update the second last node's next pointer\n",
        "    free(temp->next);\n",
        "    temp->next = NULL;\n",
        "\n",
        "    printf(\"Node deleted from the end.\\n\");\n",
        "}"
      ],
      "metadata": {
        "id": "V_gq2E4g9R4v"
      },
      "execution_count": null,
      "outputs": []
    },
    {
      "cell_type": "markdown",
      "source": [
        "dELETION fROM kTH pOSITION"
      ],
      "metadata": {
        "id": "-k8QDz969jxV"
      }
    },
    {
      "cell_type": "code",
      "source": [
        "\n",
        "#include <stdio.h>\n",
        "#include <stdlib.h>\n",
        "\n",
        "// Define the structure for a node\n",
        "struct Node {\n",
        "    int data;\n",
        "    struct Node* next;\n",
        "};\n",
        "\n",
        "// Function to delete a node from the kth position in the linked list\n",
        "void deleteFromKthPos(struct Node** start, int k) {\n",
        "    // Check if the list is empty\n",
        "    if (*start == NULL) {\n",
        "        printf(\"The list is empty. Nothing to delete.\\n\");\n",
        "        return;\n",
        "    }\n",
        "\n",
        "    // If deleting the first node (position 1)\n",
        "    if (k == 1) {\n",
        "        struct Node* temp = *start;\n",
        "        *start = (*start)->next;\n",
        "        free(temp);\n",
        "        printf(\"Node deleted from position %d.\\n\", k);\n",
        "        return;\n",
        "    }\n",
        "\n",
        "    // Traverse to the (k-1)th node\n",
        "    struct Node* temp = *start;\n",
        "    int i = 1;\n",
        "    while (i < k - 1 && temp != NULL) {\n",
        "        temp = temp->next;\n",
        "        i++;\n",
        "    }\n",
        "\n",
        "    // If the position is invalid (k is greater than the length of the list)\n",
        "    if (temp == NULL || temp->next == NULL) {\n",
        "        printf(\"Invalid position!\\n\");\n",
        "        return;\n",
        "    }\n",
        "\n",
        "    // Delete the kth node\n",
        "    struct Node* nodeToDelete = temp->next;\n",
        "    temp->next = nodeToDelete->next;\n",
        "    free(nodeToDelete);\n",
        "\n",
        "    printf(\"Node deleted from position %d.\\n\", k);\n",
        "}"
      ],
      "metadata": {
        "id": "LisVfesc9l2s"
      },
      "execution_count": null,
      "outputs": []
    }
  ]
}