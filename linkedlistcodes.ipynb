{
  "nbformat": 4,
  "nbformat_minor": 0,
  "metadata": {
    "colab": {
      "provenance": [],
      "authorship_tag": "ABX9TyOUKrpQxBDuR/QvPqxQpT6G",
      "include_colab_link": true
    },
    "kernelspec": {
      "name": "python3",
      "display_name": "Python 3"
    },
    "language_info": {
      "name": "python"
    }
  },
  "cells": [
    {
      "cell_type": "markdown",
      "metadata": {
        "id": "view-in-github",
        "colab_type": "text"
      },
      "source": [
        "<a href=\"https://colab.research.google.com/github/mangesh-01/onGit/blob/master/linkedlistcodes.ipynb\" target=\"_parent\"><img src=\"https://colab.research.google.com/assets/colab-badge.svg\" alt=\"Open In Colab\"/></a>"
      ]
    },
    {
      "cell_type": "code",
      "execution_count": null,
      "metadata": {
        "id": "I4vJqfCM8kz4"
      },
      "outputs": [],
      "source": []
    },
    {
      "cell_type": "markdown",
      "source": [
        "## Singly Linked List"
      ],
      "metadata": {
        "id": "ZA1EbWoX-GCE"
      }
    },
    {
      "cell_type": "markdown",
      "source": [
        "Insertion From Start\n"
      ],
      "metadata": {
        "id": "sCvLplQB82IK"
      }
    },
    {
      "cell_type": "code",
      "source": [
        "#include <stdio.h>\n",
        "#include <stdlib.h>\n",
        "\n",
        "// Define the structure for a node\n",
        "struct Node {\n",
        "    int data;\n",
        "    struct Node* next;\n",
        "};\n",
        "\n",
        "// Function to insert a node at the start of the linked list\n",
        "void insertAtStart(struct Node** start, int newData) {\n",
        "    // Allocate memory for the new node\n",
        "    struct Node* newNode = (struct Node*)malloc(sizeof(struct Node));\n",
        "\n",
        "    // Assign data to the new node\n",
        "    newNode->data = newData;\n",
        "\n",
        "    // Make the new node point to the current start\n",
        "    newNode->next = *start;\n",
        "\n",
        "    // Update the start to point to the new node\n",
        "    *start = newNode;\n",
        "}\n",
        "\n",
        "// Function to print the linked list\n",
        "void printList(struct Node* start) {\n",
        "    struct Node* temp = start;\n",
        "    while (temp != NULL) {\n",
        "        printf(\"%d -> \", temp->data);\n",
        "        temp = temp->next;\n",
        "    }\n",
        "    printf(\"NULL\\n\");\n",
        "}\n",
        "\n",
        "// Example usage\n",
        "int main() {\n",
        "    struct Node* start = NULL; // Initialize an empty list\n",
        "\n",
        "    // Insert elements at the start\n",
        "    insertAtStart(&start, 10);\n",
        "    insertAtStart(&start, 20);\n",
        "    insertAtStart(&start, 30);\n",
        "\n",
        "    // Print the linked list\n",
        "    printList(start);\n",
        "\n",
        "    return 0;\n",
        "}\n"
      ],
      "metadata": {
        "id": "XF29tib486mO"
      },
      "execution_count": null,
      "outputs": []
    },
    {
      "cell_type": "markdown",
      "source": [
        "iNSERT AT end"
      ],
      "metadata": {
        "id": "JAsqgmCH8_me"
      }
    },
    {
      "cell_type": "code",
      "source": [
        "#include <stdio.h>\n",
        "#include <stdlib.h>\n",
        "\n",
        "// Define the structure for a node\n",
        "struct Node {\n",
        "    int data;\n",
        "    struct Node* next;\n",
        "};\n",
        "\n",
        "// Function to insert a node at the end of the linked list\n",
        "void insertAtEnd(struct Node** start, int newData) {\n",
        "    // Allocate memory for the new node\n",
        "    struct Node* newNode = (struct Node*)malloc(sizeof(struct Node));\n",
        "    newNode->data = newData;\n",
        "    newNode->next = NULL;\n",
        "\n",
        "    // If the list is empty, make the new node the start\n",
        "    if (*start == NULL) {\n",
        "        *start = newNode;\n",
        "        return;\n",
        "    }\n",
        "\n",
        "    // Traverse to the last node\n",
        "    struct Node* temp = *start;\n",
        "    while (temp->next != NULL) {\n",
        "        temp = temp->next;\n",
        "    }\n",
        "\n",
        "    // Link the last node to the new node\n",
        "    temp->next = newNode;\n",
        "}\n"
      ],
      "metadata": {
        "id": "QRutJ4NF9C0Q"
      },
      "execution_count": null,
      "outputs": []
    },
    {
      "cell_type": "markdown",
      "source": [
        "iNSERT AT kTH pOSITION"
      ],
      "metadata": {
        "id": "JHJZ_zYA9H9n"
      }
    },
    {
      "cell_type": "code",
      "source": [
        "#include <stdio.h>\n",
        "#include <stdlib.h>\n",
        "\n",
        "// Define the structure for a node\n",
        "struct Node {\n",
        "    int data;\n",
        "    struct Node* next;\n",
        "};\n",
        "\n",
        "// Function to insert a node at position k in the linked list\n",
        "void insertAtKthPos(struct Node** start, int newData, int k) {\n",
        "    // Allocate memory for the new node\n",
        "    struct Node* newNode = (struct Node*)malloc(sizeof(struct Node));\n",
        "    newNode->data = newData;\n",
        "\n",
        "    // If inserting at the start (position 1)\n",
        "    if (k == 1) {\n",
        "        newNode->next = *start;\n",
        "        *start = newNode;\n",
        "        return;\n",
        "    }\n",
        "\n",
        "    // Traverse to the (k-1)th node\n",
        "    struct Node* temp = *start;\n",
        "    for (int i = 1; i < k - 1 && temp != NULL; i++) {\n",
        "        temp = temp->next;\n",
        "    }\n",
        "\n",
        "    // If the position is invalid (k is greater than the length of the list + 1)\n",
        "    if (temp == NULL) {\n",
        "        printf(\"Invalid position!\\n\");\n",
        "        free(newNode);\n",
        "        return;\n",
        "    }\n",
        "\n",
        "    // Insert the new node at position k\n",
        "    newNode->next = temp->next;\n",
        "    temp->next = newNode;\n",
        "}\n"
      ],
      "metadata": {
        "id": "WF1vTXts9LRB"
      },
      "execution_count": null,
      "outputs": []
    },
    {
      "cell_type": "markdown",
      "source": [
        "dELETION FROM sTART"
      ],
      "metadata": {
        "id": "_5Q48NY89S2O"
      }
    },
    {
      "cell_type": "code",
      "source": [
        "#include <stdio.h>\n",
        "#include <stdlib.h>\n",
        "\n",
        "// Define the structure for a node\n",
        "struct Node {\n",
        "    int data;\n",
        "    struct Node* next;\n",
        "};\n",
        "\n",
        "// Function to delete a node from the start of the linked list\n",
        "void deleteFromStart(struct Node** start) {\n",
        "    // Check if the list is empty\n",
        "    if (*start == NULL) {\n",
        "        printf(\"The list is empty. Nothing to delete.\\n\");\n",
        "        return;\n",
        "    }\n",
        "\n",
        "    // Store the current head node\n",
        "    struct Node* temp = *start;\n",
        "\n",
        "    // Update the head to point to the next node\n",
        "    *start = (*start)->next;\n",
        "\n",
        "    // Free the memory of the old head node\n",
        "    free(temp);\n",
        "\n",
        "    printf(\"Node deleted from the start.\\n\");\n",
        "}\n"
      ],
      "metadata": {
        "id": "JFboSpHV9Rqr"
      },
      "execution_count": null,
      "outputs": []
    },
    {
      "cell_type": "markdown",
      "source": [
        "dELETION fROM eND"
      ],
      "metadata": {
        "id": "pqXCGcpJ9aBC"
      }
    },
    {
      "cell_type": "code",
      "source": [
        "\n",
        "#include <stdio.h>\n",
        "#include <stdlib.h>\n",
        "\n",
        "// Define the structure for a node\n",
        "struct Node {\n",
        "    int data;\n",
        "    struct Node* next;\n",
        "};\n",
        "\n",
        "// Function to delete a node from the end of the linked list\n",
        "void deleteFromEnd(struct Node** start) {\n",
        "    // Check if the list is empty\n",
        "    if (*start == NULL) {\n",
        "        printf(\"The list is empty. Nothing to delete.\\n\");\n",
        "        return;\n",
        "    }\n",
        "\n",
        "    // If the list has only one node\n",
        "    if ((*start)->next == NULL) {\n",
        "        free(*start);\n",
        "        *start = NULL;\n",
        "        printf(\"Node deleted from the end.\\n\");\n",
        "        return;\n",
        "    }\n",
        "\n",
        "    // Traverse to the second last node\n",
        "    struct Node* temp = *start;\n",
        "    while (temp->next->next != NULL) {\n",
        "        temp = temp->next;\n",
        "    }\n",
        "\n",
        "    // Free the last node and update the second last node's next pointer\n",
        "    free(temp->next);\n",
        "    temp->next = NULL;\n",
        "\n",
        "    printf(\"Node deleted from the end.\\n\");\n",
        "}"
      ],
      "metadata": {
        "id": "V_gq2E4g9R4v"
      },
      "execution_count": null,
      "outputs": []
    },
    {
      "cell_type": "markdown",
      "source": [
        "dELETION fROM kTH pOSITION"
      ],
      "metadata": {
        "id": "-k8QDz969jxV"
      }
    },
    {
      "cell_type": "code",
      "source": [
        "\n",
        "#include <stdio.h>\n",
        "#include <stdlib.h>\n",
        "\n",
        "// Define the structure for a node\n",
        "struct Node {\n",
        "    int data;\n",
        "    struct Node* next;\n",
        "};\n",
        "\n",
        "// Function to delete a node from the kth position in the linked list\n",
        "void deleteFromKthPos(struct Node** start, int k) {\n",
        "    // Check if the list is empty\n",
        "    if (*start == NULL) {\n",
        "        printf(\"The list is empty. Nothing to delete.\\n\");\n",
        "        return;\n",
        "    }\n",
        "\n",
        "    // If deleting the first node (position 1)\n",
        "    if (k == 1) {\n",
        "        struct Node* temp = *start;\n",
        "        *start = (*start)->next;\n",
        "        free(temp);\n",
        "        printf(\"Node deleted from position %d.\\n\", k);\n",
        "        return;\n",
        "    }\n",
        "\n",
        "    // Traverse to the (k-1)th node\n",
        "    struct Node* temp = *start;\n",
        "    int i = 1;\n",
        "    while (i < k - 1 && temp != NULL) {\n",
        "        temp = temp->next;\n",
        "        i++;\n",
        "    }\n",
        "\n",
        "    // If the position is invalid (k is greater than the length of the list)\n",
        "    if (temp == NULL || temp->next == NULL) {\n",
        "        printf(\"Invalid position!\\n\");\n",
        "        return;\n",
        "    }\n",
        "\n",
        "    // Delete the kth node\n",
        "    struct Node* nodeToDelete = temp->next;\n",
        "    temp->next = nodeToDelete->next;\n",
        "    free(nodeToDelete);\n",
        "\n",
        "    printf(\"Node deleted from position %d.\\n\", k);\n",
        "}"
      ],
      "metadata": {
        "id": "LisVfesc9l2s"
      },
      "execution_count": null,
      "outputs": []
    },
    {
      "cell_type": "markdown",
      "source": [
        "## Doubly Linked List\n"
      ],
      "metadata": {
        "id": "YU2GpORy-Mqg"
      }
    },
    {
      "cell_type": "markdown",
      "source": [
        "\n",
        "\n",
        "Insertion at Start\n"
      ],
      "metadata": {
        "id": "wjEfUl80-Wml"
      }
    },
    {
      "cell_type": "code",
      "source": [
        "#include <stdio.h>\n",
        "#include <stdlib.h>\n",
        "\n",
        "// Define the structure for a node\n",
        "struct Node {\n",
        "    int data;\n",
        "    struct Node* prev;\n",
        "    struct Node* next;\n",
        "};\n",
        "\n",
        "// Function to insert a node at the start of the doubly linked list\n",
        "void insertAtStart(struct Node** head, int newData) {\n",
        "    // Allocate memory for the new node\n",
        "    struct Node* newNode = (struct Node*)malloc(sizeof(struct Node));\n",
        "\n",
        "    // Assign data to the new node\n",
        "    newNode->data = newData;\n",
        "    newNode->prev = NULL; // New node will be the first node, so prev is NULL\n",
        "    newNode->next = *head; // Next points to the current head\n",
        "\n",
        "    // If the list is not empty, update the previous head's prev pointer\n",
        "    if (*head != NULL) {\n",
        "        (*head)->prev = newNode;\n",
        "    }\n",
        "\n",
        "    // Update the head to point to the new node\n",
        "    *head = newNode;\n",
        "}"
      ],
      "metadata": {
        "id": "08jmMO_--ZIm"
      },
      "execution_count": null,
      "outputs": []
    },
    {
      "cell_type": "markdown",
      "source": [
        "Insertion at End"
      ],
      "metadata": {
        "id": "AwhMHxPC-cKo"
      }
    },
    {
      "cell_type": "code",
      "source": [
        "struct Node {\n",
        "    int data;\n",
        "    struct Node* prev;\n",
        "    struct Node* next;\n",
        "};\n",
        "\n",
        "// Function to insert a node at the end of the doubly linked list\n",
        "void insertAtEnd(struct Node** head, int newData) {\n",
        "    // Allocate memory for the new node\n",
        "    struct Node* newNode = (struct Node*)malloc(sizeof(struct Node));\n",
        "    newNode->data = newData;\n",
        "    newNode->next = NULL; // New node will be the last node, so next is NULL\n",
        "\n",
        "    // If the list is empty, make the new node the head\n",
        "    if (*head == NULL) {\n",
        "        newNode->prev = NULL;\n",
        "        *head = newNode;\n",
        "        return;\n",
        "    }\n",
        "\n",
        "    // Traverse to the last node\n",
        "    struct Node* temp = *head;\n",
        "    while (temp->next != NULL) {\n",
        "        temp = temp->next;\n",
        "    }\n",
        "\n",
        "    // Update the last node's next pointer and the new node's prev pointer\n",
        "    temp->next = newNode;\n",
        "    newNode->prev = temp;\n",
        "}\n"
      ],
      "metadata": {
        "id": "Vt4UJwwd-foN"
      },
      "execution_count": null,
      "outputs": []
    },
    {
      "cell_type": "markdown",
      "source": [
        "Insertion at kTH position"
      ],
      "metadata": {
        "id": "1hprZU8y-fCu"
      }
    },
    {
      "cell_type": "code",
      "source": [
        "// Function to insert a node at the kth position in the doubly linked list\n",
        "void insertAtKthPos(struct Node** head, int newData, int k) {\n",
        "    // Allocate memory for the new node\n",
        "    struct Node* newNode = (struct Node*)malloc(sizeof(struct Node));\n",
        "    newNode->data = newData;\n",
        "\n",
        "    // If inserting at the start (position 1)\n",
        "    if (k == 1) {\n",
        "        newNode->prev = NULL;\n",
        "        newNode->next = *head;\n",
        "        if (*head != NULL) {\n",
        "            (*head)->prev = newNode;\n",
        "        }\n",
        "        *head = newNode;\n",
        "        return;\n",
        "    }\n",
        "\n",
        "    // Traverse to the (k-1)th node\n",
        "    struct Node* temp = *head;\n",
        "    int i = 1;\n",
        "    while (i < k - 1 && temp != NULL) {\n",
        "        temp = temp->next;\n",
        "        i++;\n",
        "    }\n",
        "\n",
        "    // If the position is invalid (k is greater than the length of the list + 1)\n",
        "    if (temp == NULL) {\n",
        "        printf(\"Invalid position!\\n\");\n",
        "        free(newNode);\n",
        "        return;\n",
        "    }\n",
        "\n",
        "    // Insert the new node at the kth position\n",
        "    newNode->next = temp->next;\n",
        "    newNode->prev = temp;\n",
        "\n",
        "    if (temp->next != NULL) {\n",
        "        temp->next->prev = newNode;\n",
        "    }\n",
        "\n",
        "    temp->next = newNode;\n",
        "}\n"
      ],
      "metadata": {
        "id": "VB-NCvIa_mMn"
      },
      "execution_count": null,
      "outputs": []
    },
    {
      "cell_type": "markdown",
      "source": [
        "Deletion at start"
      ],
      "metadata": {
        "id": "PfENMF8z_nTu"
      }
    },
    {
      "cell_type": "code",
      "source": [
        "struct Node {\n",
        "    int data;\n",
        "    struct Node* prev;\n",
        "    struct Node* next;\n",
        "};\n",
        "\n",
        "// Function to delete a node from the start of the doubly linked list\n",
        "void deleteFromStart(struct Node** head) {\n",
        "    // Check if the list is empty\n",
        "    if (*head == NULL) {\n",
        "        printf(\"The list is empty. Nothing to delete.\\n\");\n",
        "        return;\n",
        "    }\n",
        "\n",
        "    // Store the current head node\n",
        "    struct Node* temp = *head;\n",
        "\n",
        "    // Update the head to point to the next node\n",
        "    *head = (*head)->next;\n",
        "\n",
        "    // If the list is not empty after deletion, update the new head's prev pointer\n",
        "    if (*head != NULL) {\n",
        "        (*head)->prev = NULL;\n",
        "    }\n",
        "\n",
        "    // Free the memory of the old head node\n",
        "    free(temp);\n",
        "\n",
        "    printf(\"Node deleted from the start.\\n\");\n",
        "}\n"
      ],
      "metadata": {
        "id": "tr4cnb5P-n66"
      },
      "execution_count": null,
      "outputs": []
    },
    {
      "cell_type": "markdown",
      "source": [
        "Deletion from end"
      ],
      "metadata": {
        "id": "1goX6UPI_4D2"
      }
    },
    {
      "cell_type": "code",
      "source": [
        "struct Node {\n",
        "    int data;\n",
        "    struct Node* prev;\n",
        "    struct Node* next;\n",
        "};\n",
        "\n",
        "// Function to delete a node from the end of the doubly linked list\n",
        "void deleteFromEnd(struct Node** head) {\n",
        "    // Check if the list is empty\n",
        "    if (*head == NULL) {\n",
        "        printf(\"The list is empty. Nothing to delete.\\n\");\n",
        "        return;\n",
        "    }\n",
        "\n",
        "    // If the list has only one node\n",
        "    if ((*head)->next == NULL) {\n",
        "        free(*head);\n",
        "        *head = NULL;\n",
        "        printf(\"Node deleted from the end.\\n\");\n",
        "        return;\n",
        "    }\n",
        "\n",
        "    // Traverse to the last node\n",
        "    struct Node* temp = *head;\n",
        "    while (temp->next != NULL) {\n",
        "        temp = temp->next;\n",
        "    }\n",
        "\n",
        "    // Update the second last node's next pointer to NULL\n",
        "    temp->prev->next = NULL;\n",
        "\n",
        "    // Free the memory of the last node\n",
        "    free(temp);\n",
        "\n",
        "    printf(\"Node deleted from the end.\\n\");\n",
        "}\n"
      ],
      "metadata": {
        "id": "NiGTLC0J_5XP"
      },
      "execution_count": null,
      "outputs": []
    },
    {
      "cell_type": "markdown",
      "source": [
        "Delete from kTH position"
      ],
      "metadata": {
        "id": "TxX5pfJVAIos"
      }
    },
    {
      "cell_type": "code",
      "source": [
        "struct Node {\n",
        "    int data;\n",
        "    struct Node* prev;\n",
        "    struct Node* next;\n",
        "};\n",
        "\n",
        "// Function to delete a node from the kth position in the doubly linked list\n",
        "void deleteFromKthPos(struct Node** head, int k) {\n",
        "    // Check if the list is empty\n",
        "    if (*head == NULL) {\n",
        "        printf(\"The list is empty. Nothing to delete.\\n\");\n",
        "        return;\n",
        "    }\n",
        "\n",
        "    // If deleting the first node (position 1)\n",
        "    if (k == 1) {\n",
        "        struct Node* temp = *head;\n",
        "        *head = (*head)->next;\n",
        "        if (*head != NULL) {\n",
        "            (*head)->prev = NULL;\n",
        "        }\n",
        "        free(temp);\n",
        "        printf(\"Node deleted from position %d.\\n\", k);\n",
        "        return;\n",
        "    }\n",
        "\n",
        "    // Traverse to the kth node\n",
        "    struct Node* temp = *head;\n",
        "    int i = 1;\n",
        "    while (i < k && temp != NULL) {\n",
        "        temp = temp->next;\n",
        "        i++;\n",
        "    }\n",
        "\n",
        "    // If the position is invalid (k is greater than the length of the list)\n",
        "    if (temp == NULL) {\n",
        "        printf(\"Invalid position!\\n\");\n",
        "        return;\n",
        "    }\n",
        "\n",
        "    // Update the pointers to remove the kth node\n",
        "    if (temp->prev != NULL) {\n",
        "        temp->prev->next = temp->next;\n",
        "    }\n",
        "    if (temp->next != NULL) {\n",
        "        temp->next->prev = temp->prev;\n",
        "    }\n",
        "\n",
        "    // Free the memory of the kth node\n",
        "    free(temp);\n",
        "\n",
        "    printf(\"Node deleted from position %d.\\n\", k);\n",
        "}\n"
      ],
      "metadata": {
        "id": "-IUVaLBoAKVV"
      },
      "execution_count": null,
      "outputs": []
    },
    {
      "cell_type": "markdown",
      "source": [
        "##Circular Linked List\n"
      ],
      "metadata": {
        "id": "Yg116SClAuLq"
      }
    },
    {
      "cell_type": "markdown",
      "source": [
        "Insert start"
      ],
      "metadata": {
        "id": "LM9Wq9e4Ay0R"
      }
    },
    {
      "cell_type": "code",
      "source": [
        "#include <stdio.h>\n",
        "#include <stdlib.h>\n",
        "\n",
        "// Define the structure for a node\n",
        "struct Node {\n",
        "    int data;\n",
        "    struct Node* next;\n",
        "};\n",
        "\n",
        "// Function to insert a node at the start of the circularly linked list\n",
        "void insertAtStart(struct Node** start, int newData) {\n",
        "    // Allocate memory for the new node\n",
        "    struct Node* newNode = (struct Node*)malloc(sizeof(struct Node));\n",
        "    newNode->data = newData;\n",
        "\n",
        "    // If the list is empty, make the new node point to itself and update the start\n",
        "    if (*start == NULL) {\n",
        "        newNode->next = newNode;\n",
        "        *start = newNode;\n",
        "        return;\n",
        "    }\n",
        "\n",
        "    // Find the last node in the circular linked list\n",
        "    struct Node* temp = *start;\n",
        "    while (temp->next != *start) {\n",
        "        temp = temp->next;\n",
        "    }\n",
        "\n",
        "    // Insert the new node at the start\n",
        "    newNode->next = *start;\n",
        "    temp->next = newNode;\n",
        "\n",
        "    // Update the start to the new node\n",
        "    *start = newNode;\n",
        "}\n",
        "\n",
        "// Function to print the circularly linked list\n",
        "void printList(struct Node* start) {\n",
        "    if (start == NULL) {\n",
        "        printf(\"The list is empty.\\n\");\n",
        "        return;\n",
        "    }\n",
        "\n",
        "    struct Node* temp = start;\n",
        "    do {\n",
        "        printf(\"%d -> \", temp->data);\n",
        "        temp = temp->next;\n",
        "    } while (temp != start);\n",
        "    printf(\"(start)\\n\");\n",
        "}\n",
        "\n",
        "// Example usage\n",
        "int main() {\n",
        "    struct Node* start = NULL; // Initialize an empty circular linked list\n",
        "\n",
        "    // Insert elements at the start\n",
        "    insertAtStart(&start, 10);\n",
        "    insertAtStart(&start, 20);\n",
        "    insertAtStart(&start, 30);\n",
        "\n",
        "    // Print the circularly linked list\n",
        "    printf(\"Circular Linked List: \");\n",
        "    printList(start);\n",
        "\n",
        "    return 0;\n",
        "}"
      ],
      "metadata": {
        "id": "62AQxDSbAwQ6"
      },
      "execution_count": null,
      "outputs": []
    },
    {
      "cell_type": "markdown",
      "source": [
        "Insert end"
      ],
      "metadata": {
        "id": "EnXF2jszBlCV"
      }
    },
    {
      "cell_type": "code",
      "source": [
        "struct Node {\n",
        "    int data;\n",
        "    struct Node* next;\n",
        "};\n",
        "\n",
        "// Function to insert a node at the end of the circularly linked list\n",
        "void insertAtEnd(struct Node** start, int newData) {\n",
        "    // Allocate memory for the new node\n",
        "    struct Node* newNode = (struct Node*)malloc(sizeof(struct Node));\n",
        "    newNode->data = newData;\n",
        "\n",
        "    // If the list is empty, make the new node point to itself and update the start\n",
        "    if (*start == NULL) {\n",
        "        newNode->next = newNode;\n",
        "        *start = newNode;\n",
        "        return;\n",
        "    }\n",
        "\n",
        "    // Find the last node in the circular linked list\n",
        "    struct Node* temp = *start;\n",
        "    while (temp->next != *start) {\n",
        "        temp = temp->next;\n",
        "    }\n",
        "\n",
        "    // Insert the new node at the end\n",
        "    temp->next = newNode;\n",
        "    newNode->next = *start;\n",
        "}\n"
      ],
      "metadata": {
        "id": "j2cx1H1EBl96"
      },
      "execution_count": null,
      "outputs": []
    },
    {
      "cell_type": "markdown",
      "source": [
        "Insert at kTH position"
      ],
      "metadata": {
        "id": "huMgaaEQBwYI"
      }
    },
    {
      "cell_type": "code",
      "source": [
        "struct Node {\n",
        "    int data;\n",
        "    struct Node* next;\n",
        "};\n",
        "\n",
        "// Function to insert a node at the kth position in the circularly linked list\n",
        "void insertAtKthPos(struct Node** start, int newData, int k) {\n",
        "    // Allocate memory for the new node\n",
        "    struct Node* newNode = (struct Node*)malloc(sizeof(struct Node));\n",
        "    newNode->data = newData;\n",
        "\n",
        "    // If inserting at the start (position 1)\n",
        "    if (k == 1) {\n",
        "        if (*start == NULL) {\n",
        "            // If the list is empty, make the new node point to itself\n",
        "            newNode->next = newNode;\n",
        "            *start = newNode;\n",
        "        } else {\n",
        "            // Find the last node\n",
        "            struct Node* temp = *start;\n",
        "            while (temp->next != *start) {\n",
        "                temp = temp->next;\n",
        "            }\n",
        "            // Insert the new node at the start\n",
        "            newNode->next = *start;\n",
        "            temp->next = newNode;\n",
        "            *start = newNode;\n",
        "        }\n",
        "        return;\n",
        "    }\n",
        "\n",
        "    // Traverse to the (k-1)th node\n",
        "    struct Node* temp = *start;\n",
        "    int i = 1;\n",
        "    while (i < k - 1 && temp->next != *start) {\n",
        "        temp = temp->next;\n",
        "        i++;\n",
        "    }\n",
        "\n",
        "    // If the position is invalid (k is greater than the length of the list + 1)\n",
        "    if (i < k - 1) {\n",
        "        printf(\"Invalid position!\\n\");\n",
        "        free(newNode);\n",
        "        return;\n",
        "    }\n",
        "\n",
        "    // Insert the new node at the kth position\n",
        "    newNode->next = temp->next;\n",
        "    temp->next = newNode;\n",
        "}\n"
      ],
      "metadata": {
        "id": "AeLAeViFByMc"
      },
      "execution_count": null,
      "outputs": []
    },
    {
      "cell_type": "markdown",
      "source": [
        "Deletion Start"
      ],
      "metadata": {
        "id": "1Wqq62RWB_HG"
      }
    },
    {
      "cell_type": "code",
      "source": [
        "struct Node {\n",
        "    int data;\n",
        "    struct Node* next;\n",
        "};\n",
        "\n",
        "// Function to delete a node from the start of the circularly linked list\n",
        "void deleteFromStart(struct Node** start) {\n",
        "    // Check if the list is empty\n",
        "    if (*start == NULL) {\n",
        "        printf(\"The list is empty. Nothing to delete.\\n\");\n",
        "        return;\n",
        "    }\n",
        "\n",
        "    // If the list has only one node\n",
        "    if ((*start)->next == *start) {\n",
        "        free(*start);\n",
        "        *start = NULL;\n",
        "        printf(\"Node deleted from the start.\\n\");\n",
        "        return;\n",
        "    }\n",
        "\n",
        "    // Find the last node in the circular linked list\n",
        "    struct Node* temp = *start;\n",
        "    while (temp->next != *start) {\n",
        "        temp = temp->next;\n",
        "    }\n",
        "\n",
        "    // Update the last node's next pointer to the second node\n",
        "    struct Node* toDelete = *start;\n",
        "    temp->next = (*start)->next;\n",
        "    *start = (*start)->next;\n",
        "\n",
        "    // Free the memory of the old start node\n",
        "    free(toDelete);\n",
        "\n",
        "    printf(\"Node deleted from the start.\\n\");\n",
        "}\n",
        "\n"
      ],
      "metadata": {
        "id": "oIcHlr-LCASt"
      },
      "execution_count": null,
      "outputs": []
    },
    {
      "cell_type": "markdown",
      "source": [
        "Delete ENd"
      ],
      "metadata": {
        "id": "QWw5qwrtCQzW"
      }
    },
    {
      "cell_type": "code",
      "source": [
        "void deleteFromEnd(struct Node** start) {\n",
        "    // Check if the list is empty\n",
        "    if (*start == NULL) {\n",
        "        printf(\"The list is empty. Nothing to delete.\\n\");\n",
        "        return;\n",
        "    }\n",
        "\n",
        "    // If the list has only one node\n",
        "    if ((*start)->next == *start) {\n",
        "        free(*start);\n",
        "        *start = NULL;\n",
        "        printf(\"Node deleted from the end.\\n\");\n",
        "        return;\n",
        "    }\n",
        "\n",
        "    // Traverse to the second last node\n",
        "    struct Node* temp = *start;\n",
        "    while (temp->next->next != *start) {\n",
        "        temp = temp->next;\n",
        "    }\n",
        "\n",
        "    // Update the second last node's next pointer to point to the start\n",
        "    struct Node* toDelete = temp->next;\n",
        "    temp->next = *start;\n",
        "\n",
        "    // Free the memory of the last node\n",
        "    free(toDelete);\n",
        "\n",
        "    printf(\"Node deleted from the end.\\n\");\n",
        "}\n"
      ],
      "metadata": {
        "id": "a4-X20QECSYa"
      },
      "execution_count": null,
      "outputs": []
    },
    {
      "cell_type": "markdown",
      "source": [
        "Delete from kTH pos"
      ],
      "metadata": {
        "id": "2LuxUV1ECh0e"
      }
    },
    {
      "cell_type": "code",
      "source": [
        "void deleteFromKthPos(struct Node** start, int k) {\n",
        "    // Check if the list is empty\n",
        "    if (*start == NULL) {\n",
        "        printf(\"The list is empty. Nothing to delete.\\n\");\n",
        "        return;\n",
        "    }\n",
        "\n",
        "    // If deleting the first node (position 1)\n",
        "    if (k == 1) {\n",
        "        struct Node* temp = *start;\n",
        "\n",
        "        // If the list has only one node\n",
        "        if ((*start)->next == *start) {\n",
        "            free(*start);\n",
        "            *start = NULL;\n",
        "            printf(\"Node deleted from position %d.\\n\", k);\n",
        "            return;\n",
        "        }\n",
        "\n",
        "        // Find the last node\n",
        "        struct Node* last = *start;\n",
        "        while (last->next != *start) {\n",
        "            last = last->next;\n",
        "        }\n",
        "\n",
        "        // Update the last node's next pointer to the second node\n",
        "        last->next = (*start)->next;\n",
        "        *start = (*start)->next;\n",
        "\n",
        "        // Free the memory of the old start node\n",
        "        free(temp);\n",
        "        printf(\"Node deleted from position %d.\\n\", k);\n",
        "        return;\n",
        "    }\n",
        "\n",
        "    // Traverse to the (k-1)th node\n",
        "    struct Node* temp = *start;\n",
        "    int i = 1;\n",
        "    while (i < k - 1 && temp->next != *start) {\n",
        "        temp = temp->next;\n",
        "        i++;\n",
        "    }\n",
        "\n",
        "    // If the position is invalid (k is greater than the length of the list)\n",
        "    if (temp->next == *start || i < k - 1) {\n",
        "        printf(\"Invalid position!\\n\");\n",
        "        return;\n",
        "    }\n",
        "\n",
        "    // Delete the kth node\n",
        "    struct Node* toDelete = temp->next;\n",
        "    temp->next = toDelete->next;\n",
        "\n",
        "    // Free the memory of the kth node\n",
        "    free(toDelete);\n",
        "\n",
        "    printf(\"Node deleted from position %d.\\n\", k);\n",
        "}\n"
      ],
      "metadata": {
        "id": "SvZeGFh9CjZf"
      },
      "execution_count": null,
      "outputs": []
    }
  ]
}