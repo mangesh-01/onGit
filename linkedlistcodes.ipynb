{
  "nbformat": 4,
  "nbformat_minor": 0,
  "metadata": {
    "colab": {
      "provenance": [],
      "authorship_tag": "ABX9TyOR6jJUWUYKP/8ZM/9t2d3k",
      "include_colab_link": true
    },
    "kernelspec": {
      "name": "python3",
      "display_name": "Python 3"
    },
    "language_info": {
      "name": "python"
    }
  },
  "cells": [
    {
      "cell_type": "markdown",
      "metadata": {
        "id": "view-in-github",
        "colab_type": "text"
      },
      "source": [
        "<a href=\"https://colab.research.google.com/github/mangesh-01/onGit/blob/master/linkedlistcodes.ipynb\" target=\"_parent\"><img src=\"https://colab.research.google.com/assets/colab-badge.svg\" alt=\"Open In Colab\"/></a>"
      ]
    },
    {
      "cell_type": "code",
      "execution_count": null,
      "metadata": {
        "id": "I4vJqfCM8kz4"
      },
      "outputs": [],
      "source": []
    },
    {
      "cell_type": "markdown",
      "source": [
        "## Singly Linked List"
      ],
      "metadata": {
        "id": "ZA1EbWoX-GCE"
      }
    },
    {
      "cell_type": "markdown",
      "source": [
        "Insertion From Start\n"
      ],
      "metadata": {
        "id": "sCvLplQB82IK"
      }
    },
    {
      "cell_type": "code",
      "source": [
        "#include <stdio.h>\n",
        "#include <stdlib.h>\n",
        "\n",
        "// Define the structure for a node\n",
        "struct Node {\n",
        "    int data;\n",
        "    struct Node* next;\n",
        "};\n",
        "\n",
        "// Function to insert a node at the start of the linked list\n",
        "void insertAtStart(struct Node** start, int newData) {\n",
        "    // Allocate memory for the new node\n",
        "    struct Node* newNode = (struct Node*)malloc(sizeof(struct Node));\n",
        "\n",
        "    // Assign data to the new node\n",
        "    newNode->data = newData;\n",
        "\n",
        "    // Make the new node point to the current start\n",
        "    newNode->next = *start;\n",
        "\n",
        "    // Update the start to point to the new node\n",
        "    *start = newNode;\n",
        "}\n",
        "\n",
        "// Function to print the linked list\n",
        "void printList(struct Node* start) {\n",
        "    struct Node* temp = start;\n",
        "    while (temp != NULL) {\n",
        "        printf(\"%d -> \", temp->data);\n",
        "        temp = temp->next;\n",
        "    }\n",
        "    printf(\"NULL\\n\");\n",
        "}\n",
        "\n",
        "// Example usage\n",
        "int main() {\n",
        "    struct Node* start = NULL; // Initialize an empty list\n",
        "\n",
        "    // Insert elements at the start\n",
        "    insertAtStart(&start, 10);\n",
        "    insertAtStart(&start, 20);\n",
        "    insertAtStart(&start, 30);\n",
        "\n",
        "    // Print the linked list\n",
        "    printList(start);\n",
        "\n",
        "    return 0;\n",
        "}\n"
      ],
      "metadata": {
        "id": "XF29tib486mO"
      },
      "execution_count": null,
      "outputs": []
    },
    {
      "cell_type": "markdown",
      "source": [
        "iNSERT AT end"
      ],
      "metadata": {
        "id": "JAsqgmCH8_me"
      }
    },
    {
      "cell_type": "code",
      "source": [
        "#include <stdio.h>\n",
        "#include <stdlib.h>\n",
        "\n",
        "// Define the structure for a node\n",
        "struct Node {\n",
        "    int data;\n",
        "    struct Node* next;\n",
        "};\n",
        "\n",
        "// Function to insert a node at the end of the linked list\n",
        "void insertAtEnd(struct Node** start, int newData) {\n",
        "    // Allocate memory for the new node\n",
        "    struct Node* newNode = (struct Node*)malloc(sizeof(struct Node));\n",
        "    newNode->data = newData;\n",
        "    newNode->next = NULL;\n",
        "\n",
        "    // If the list is empty, make the new node the start\n",
        "    if (*start == NULL) {\n",
        "        *start = newNode;\n",
        "        return;\n",
        "    }\n",
        "\n",
        "    // Traverse to the last node\n",
        "    struct Node* temp = *start;\n",
        "    while (temp->next != NULL) {\n",
        "        temp = temp->next;\n",
        "    }\n",
        "\n",
        "    // Link the last node to the new node\n",
        "    temp->next = newNode;\n",
        "}\n"
      ],
      "metadata": {
        "id": "QRutJ4NF9C0Q"
      },
      "execution_count": null,
      "outputs": []
    },
    {
      "cell_type": "markdown",
      "source": [
        "iNSERT AT kTH pOSITION"
      ],
      "metadata": {
        "id": "JHJZ_zYA9H9n"
      }
    },
    {
      "cell_type": "code",
      "source": [
        "#include <stdio.h>\n",
        "#include <stdlib.h>\n",
        "\n",
        "// Define the structure for a node\n",
        "struct Node {\n",
        "    int data;\n",
        "    struct Node* next;\n",
        "};\n",
        "\n",
        "// Function to insert a node at position k in the linked list\n",
        "void insertAtKthPos(struct Node** start, int newData, int k) {\n",
        "    // Allocate memory for the new node\n",
        "    struct Node* newNode = (struct Node*)malloc(sizeof(struct Node));\n",
        "    newNode->data = newData;\n",
        "\n",
        "    // If inserting at the start (position 1)\n",
        "    if (k == 1) {\n",
        "        newNode->next = *start;\n",
        "        *start = newNode;\n",
        "        return;\n",
        "    }\n",
        "\n",
        "    // Traverse to the (k-1)th node\n",
        "    struct Node* temp = *start;\n",
        "    for (int i = 1; i < k - 1 && temp != NULL; i++) {\n",
        "        temp = temp->next;\n",
        "    }\n",
        "\n",
        "    // If the position is invalid (k is greater than the length of the list + 1)\n",
        "    if (temp == NULL) {\n",
        "        printf(\"Invalid position!\\n\");\n",
        "        free(newNode);\n",
        "        return;\n",
        "    }\n",
        "\n",
        "    // Insert the new node at position k\n",
        "    newNode->next = temp->next;\n",
        "    temp->next = newNode;\n",
        "}\n"
      ],
      "metadata": {
        "id": "WF1vTXts9LRB"
      },
      "execution_count": null,
      "outputs": []
    },
    {
      "cell_type": "markdown",
      "source": [
        "dELETION FROM sTART"
      ],
      "metadata": {
        "id": "_5Q48NY89S2O"
      }
    },
    {
      "cell_type": "code",
      "source": [
        "#include <stdio.h>\n",
        "#include <stdlib.h>\n",
        "\n",
        "// Define the structure for a node\n",
        "struct Node {\n",
        "    int data;\n",
        "    struct Node* next;\n",
        "};\n",
        "\n",
        "// Function to delete a node from the start of the linked list\n",
        "void deleteFromStart(struct Node** start) {\n",
        "    // Check if the list is empty\n",
        "    if (*start == NULL) {\n",
        "        printf(\"The list is empty. Nothing to delete.\\n\");\n",
        "        return;\n",
        "    }\n",
        "\n",
        "    // Store the current head node\n",
        "    struct Node* temp = *start;\n",
        "\n",
        "    // Update the head to point to the next node\n",
        "    *start = (*start)->next;\n",
        "\n",
        "    // Free the memory of the old head node\n",
        "    free(temp);\n",
        "\n",
        "    printf(\"Node deleted from the start.\\n\");\n",
        "}\n"
      ],
      "metadata": {
        "id": "JFboSpHV9Rqr"
      },
      "execution_count": null,
      "outputs": []
    },
    {
      "cell_type": "markdown",
      "source": [
        "dELETION fROM eND"
      ],
      "metadata": {
        "id": "pqXCGcpJ9aBC"
      }
    },
    {
      "cell_type": "code",
      "source": [
        "\n",
        "#include <stdio.h>\n",
        "#include <stdlib.h>\n",
        "\n",
        "// Define the structure for a node\n",
        "struct Node {\n",
        "    int data;\n",
        "    struct Node* next;\n",
        "};\n",
        "\n",
        "// Function to delete a node from the end of the linked list\n",
        "void deleteFromEnd(struct Node** start) {\n",
        "    // Check if the list is empty\n",
        "    if (*start == NULL) {\n",
        "        printf(\"The list is empty. Nothing to delete.\\n\");\n",
        "        return;\n",
        "    }\n",
        "\n",
        "    // If the list has only one node\n",
        "    if ((*start)->next == NULL) {\n",
        "        free(*start);\n",
        "        *start = NULL;\n",
        "        printf(\"Node deleted from the end.\\n\");\n",
        "        return;\n",
        "    }\n",
        "\n",
        "    // Traverse to the second last node\n",
        "    struct Node* temp = *start;\n",
        "    while (temp->next->next != NULL) {\n",
        "        temp = temp->next;\n",
        "    }\n",
        "\n",
        "    // Free the last node and update the second last node's next pointer\n",
        "    free(temp->next);\n",
        "    temp->next = NULL;\n",
        "\n",
        "    printf(\"Node deleted from the end.\\n\");\n",
        "}"
      ],
      "metadata": {
        "id": "V_gq2E4g9R4v"
      },
      "execution_count": null,
      "outputs": []
    },
    {
      "cell_type": "markdown",
      "source": [
        "dELETION fROM kTH pOSITION"
      ],
      "metadata": {
        "id": "-k8QDz969jxV"
      }
    },
    {
      "cell_type": "code",
      "source": [
        "\n",
        "#include <stdio.h>\n",
        "#include <stdlib.h>\n",
        "\n",
        "// Define the structure for a node\n",
        "struct Node {\n",
        "    int data;\n",
        "    struct Node* next;\n",
        "};\n",
        "\n",
        "// Function to delete a node from the kth position in the linked list\n",
        "void deleteFromKthPos(struct Node** start, int k) {\n",
        "    // Check if the list is empty\n",
        "    if (*start == NULL) {\n",
        "        printf(\"The list is empty. Nothing to delete.\\n\");\n",
        "        return;\n",
        "    }\n",
        "\n",
        "    // If deleting the first node (position 1)\n",
        "    if (k == 1) {\n",
        "        struct Node* temp = *start;\n",
        "        *start = (*start)->next;\n",
        "        free(temp);\n",
        "        printf(\"Node deleted from position %d.\\n\", k);\n",
        "        return;\n",
        "    }\n",
        "\n",
        "    // Traverse to the (k-1)th node\n",
        "    struct Node* temp = *start;\n",
        "    int i = 1;\n",
        "    while (i < k - 1 && temp != NULL) {\n",
        "        temp = temp->next;\n",
        "        i++;\n",
        "    }\n",
        "\n",
        "    // If the position is invalid (k is greater than the length of the list)\n",
        "    if (temp == NULL || temp->next == NULL) {\n",
        "        printf(\"Invalid position!\\n\");\n",
        "        return;\n",
        "    }\n",
        "\n",
        "    // Delete the kth node\n",
        "    struct Node* nodeToDelete = temp->next;\n",
        "    temp->next = nodeToDelete->next;\n",
        "    free(nodeToDelete);\n",
        "\n",
        "    printf(\"Node deleted from position %d.\\n\", k);\n",
        "}"
      ],
      "metadata": {
        "id": "LisVfesc9l2s"
      },
      "execution_count": null,
      "outputs": []
    },
    {
      "cell_type": "markdown",
      "source": [
        "## Doubly Linked List\n"
      ],
      "metadata": {
        "id": "YU2GpORy-Mqg"
      }
    },
    {
      "cell_type": "markdown",
      "source": [
        "\n",
        "\n",
        "Insertion at Start\n"
      ],
      "metadata": {
        "id": "wjEfUl80-Wml"
      }
    },
    {
      "cell_type": "code",
      "source": [
        "#include <stdio.h>\n",
        "#include <stdlib.h>\n",
        "\n",
        "// Define the structure for a node\n",
        "struct Node {\n",
        "    int data;\n",
        "    struct Node* prev;\n",
        "    struct Node* next;\n",
        "};\n",
        "\n",
        "// Function to insert a node at the start of the doubly linked list\n",
        "void insertAtStart(struct Node** head, int newData) {\n",
        "    // Allocate memory for the new node\n",
        "    struct Node* newNode = (struct Node*)malloc(sizeof(struct Node));\n",
        "\n",
        "    // Assign data to the new node\n",
        "    newNode->data = newData;\n",
        "    newNode->prev = NULL; // New node will be the first node, so prev is NULL\n",
        "    newNode->next = *head; // Next points to the current head\n",
        "\n",
        "    // If the list is not empty, update the previous head's prev pointer\n",
        "    if (*head != NULL) {\n",
        "        (*head)->prev = newNode;\n",
        "    }\n",
        "\n",
        "    // Update the head to point to the new node\n",
        "    *head = newNode;\n",
        "}"
      ],
      "metadata": {
        "id": "08jmMO_--ZIm"
      },
      "execution_count": null,
      "outputs": []
    },
    {
      "cell_type": "markdown",
      "source": [
        "Insertion at End"
      ],
      "metadata": {
        "id": "AwhMHxPC-cKo"
      }
    },
    {
      "cell_type": "code",
      "source": [
        "struct Node {\n",
        "    int data;\n",
        "    struct Node* prev;\n",
        "    struct Node* next;\n",
        "};\n",
        "\n",
        "// Function to insert a node at the end of the doubly linked list\n",
        "void insertAtEnd(struct Node** head, int newData) {\n",
        "    // Allocate memory for the new node\n",
        "    struct Node* newNode = (struct Node*)malloc(sizeof(struct Node));\n",
        "    newNode->data = newData;\n",
        "    newNode->next = NULL; // New node will be the last node, so next is NULL\n",
        "\n",
        "    // If the list is empty, make the new node the head\n",
        "    if (*head == NULL) {\n",
        "        newNode->prev = NULL;\n",
        "        *head = newNode;\n",
        "        return;\n",
        "    }\n",
        "\n",
        "    // Traverse to the last node\n",
        "    struct Node* temp = *head;\n",
        "    while (temp->next != NULL) {\n",
        "        temp = temp->next;\n",
        "    }\n",
        "\n",
        "    // Update the last node's next pointer and the new node's prev pointer\n",
        "    temp->next = newNode;\n",
        "    newNode->prev = temp;\n",
        "}\n"
      ],
      "metadata": {
        "id": "Vt4UJwwd-foN"
      },
      "execution_count": null,
      "outputs": []
    },
    {
      "cell_type": "markdown",
      "source": [
        "Insertion at kTH position"
      ],
      "metadata": {
        "id": "1hprZU8y-fCu"
      }
    },
    {
      "cell_type": "code",
      "source": [
        "// Function to insert a node at the kth position in the doubly linked list\n",
        "void insertAtKthPos(struct Node** head, int newData, int k) {\n",
        "    // Allocate memory for the new node\n",
        "    struct Node* newNode = (struct Node*)malloc(sizeof(struct Node));\n",
        "    newNode->data = newData;\n",
        "\n",
        "    // If inserting at the start (position 1)\n",
        "    if (k == 1) {\n",
        "        newNode->prev = NULL;\n",
        "        newNode->next = *head;\n",
        "        if (*head != NULL) {\n",
        "            (*head)->prev = newNode;\n",
        "        }\n",
        "        *head = newNode;\n",
        "        return;\n",
        "    }\n",
        "\n",
        "    // Traverse to the (k-1)th node\n",
        "    struct Node* temp = *head;\n",
        "    int i = 1;\n",
        "    while (i < k - 1 && temp != NULL) {\n",
        "        temp = temp->next;\n",
        "        i++;\n",
        "    }\n",
        "\n",
        "    // If the position is invalid (k is greater than the length of the list + 1)\n",
        "    if (temp == NULL) {\n",
        "        printf(\"Invalid position!\\n\");\n",
        "        free(newNode);\n",
        "        return;\n",
        "    }\n",
        "\n",
        "    // Insert the new node at the kth position\n",
        "    newNode->next = temp->next;\n",
        "    newNode->prev = temp;\n",
        "\n",
        "    if (temp->next != NULL) {\n",
        "        temp->next->prev = newNode;\n",
        "    }\n",
        "\n",
        "    temp->next = newNode;\n",
        "}\n"
      ],
      "metadata": {
        "id": "VB-NCvIa_mMn"
      },
      "execution_count": null,
      "outputs": []
    },
    {
      "cell_type": "markdown",
      "source": [
        "Deletion at start"
      ],
      "metadata": {
        "id": "PfENMF8z_nTu"
      }
    },
    {
      "cell_type": "code",
      "source": [
        "struct Node {\n",
        "    int data;\n",
        "    struct Node* prev;\n",
        "    struct Node* next;\n",
        "};\n",
        "\n",
        "// Function to delete a node from the start of the doubly linked list\n",
        "void deleteFromStart(struct Node** head) {\n",
        "    // Check if the list is empty\n",
        "    if (*head == NULL) {\n",
        "        printf(\"The list is empty. Nothing to delete.\\n\");\n",
        "        return;\n",
        "    }\n",
        "\n",
        "    // Store the current head node\n",
        "    struct Node* temp = *head;\n",
        "\n",
        "    // Update the head to point to the next node\n",
        "    *head = (*head)->next;\n",
        "\n",
        "    // If the list is not empty after deletion, update the new head's prev pointer\n",
        "    if (*head != NULL) {\n",
        "        (*head)->prev = NULL;\n",
        "    }\n",
        "\n",
        "    // Free the memory of the old head node\n",
        "    free(temp);\n",
        "\n",
        "    printf(\"Node deleted from the start.\\n\");\n",
        "}\n"
      ],
      "metadata": {
        "id": "tr4cnb5P-n66"
      },
      "execution_count": null,
      "outputs": []
    },
    {
      "cell_type": "markdown",
      "source": [
        "Deletion from end"
      ],
      "metadata": {
        "id": "1goX6UPI_4D2"
      }
    },
    {
      "cell_type": "code",
      "source": [
        "struct Node {\n",
        "    int data;\n",
        "    struct Node* prev;\n",
        "    struct Node* next;\n",
        "};\n",
        "\n",
        "// Function to delete a node from the end of the doubly linked list\n",
        "void deleteFromEnd(struct Node** head) {\n",
        "    // Check if the list is empty\n",
        "    if (*head == NULL) {\n",
        "        printf(\"The list is empty. Nothing to delete.\\n\");\n",
        "        return;\n",
        "    }\n",
        "\n",
        "    // If the list has only one node\n",
        "    if ((*head)->next == NULL) {\n",
        "        free(*head);\n",
        "        *head = NULL;\n",
        "        printf(\"Node deleted from the end.\\n\");\n",
        "        return;\n",
        "    }\n",
        "\n",
        "    // Traverse to the last node\n",
        "    struct Node* temp = *head;\n",
        "    while (temp->next != NULL) {\n",
        "        temp = temp->next;\n",
        "    }\n",
        "\n",
        "    // Update the second last node's next pointer to NULL\n",
        "    temp->prev->next = NULL;\n",
        "\n",
        "    // Free the memory of the last node\n",
        "    free(temp);\n",
        "\n",
        "    printf(\"Node deleted from the end.\\n\");\n",
        "}\n"
      ],
      "metadata": {
        "id": "NiGTLC0J_5XP"
      },
      "execution_count": null,
      "outputs": []
    },
    {
      "cell_type": "markdown",
      "source": [
        "Delete from kTH position"
      ],
      "metadata": {
        "id": "TxX5pfJVAIos"
      }
    },
    {
      "cell_type": "code",
      "source": [
        "struct Node {\n",
        "    int data;\n",
        "    struct Node* prev;\n",
        "    struct Node* next;\n",
        "};\n",
        "\n",
        "// Function to delete a node from the kth position in the doubly linked list\n",
        "void deleteFromKthPos(struct Node** head, int k) {\n",
        "    // Check if the list is empty\n",
        "    if (*head == NULL) {\n",
        "        printf(\"The list is empty. Nothing to delete.\\n\");\n",
        "        return;\n",
        "    }\n",
        "\n",
        "    // If deleting the first node (position 1)\n",
        "    if (k == 1) {\n",
        "        struct Node* temp = *head;\n",
        "        *head = (*head)->next;\n",
        "        if (*head != NULL) {\n",
        "            (*head)->prev = NULL;\n",
        "        }\n",
        "        free(temp);\n",
        "        printf(\"Node deleted from position %d.\\n\", k);\n",
        "        return;\n",
        "    }\n",
        "\n",
        "    // Traverse to the kth node\n",
        "    struct Node* temp = *head;\n",
        "    int i = 1;\n",
        "    while (i < k && temp != NULL) {\n",
        "        temp = temp->next;\n",
        "        i++;\n",
        "    }\n",
        "\n",
        "    // If the position is invalid (k is greater than the length of the list)\n",
        "    if (temp == NULL) {\n",
        "        printf(\"Invalid position!\\n\");\n",
        "        return;\n",
        "    }\n",
        "\n",
        "    // Update the pointers to remove the kth node\n",
        "    if (temp->prev != NULL) {\n",
        "        temp->prev->next = temp->next;\n",
        "    }\n",
        "    if (temp->next != NULL) {\n",
        "        temp->next->prev = temp->prev;\n",
        "    }\n",
        "\n",
        "    // Free the memory of the kth node\n",
        "    free(temp);\n",
        "\n",
        "    printf(\"Node deleted from position %d.\\n\", k);\n",
        "}\n"
      ],
      "metadata": {
        "id": "-IUVaLBoAKVV"
      },
      "execution_count": null,
      "outputs": []
    },
    {
      "cell_type": "markdown",
      "source": [
        "##Circular Linked List\n"
      ],
      "metadata": {
        "id": "Yg116SClAuLq"
      }
    },
    {
      "cell_type": "markdown",
      "source": [
        "Insert start"
      ],
      "metadata": {
        "id": "LM9Wq9e4Ay0R"
      }
    },
    {
      "cell_type": "code",
      "source": [
        "#include <stdio.h>\n",
        "#include <stdlib.h>\n",
        "\n",
        "// Define the structure for a node\n",
        "struct Node {\n",
        "    int data;\n",
        "    struct Node* next;\n",
        "};\n",
        "\n",
        "// Function to insert a node at the start of the circularly linked list\n",
        "void insertAtStart(struct Node** start, int newData) {\n",
        "    // Allocate memory for the new node\n",
        "    struct Node* newNode = (struct Node*)malloc(sizeof(struct Node));\n",
        "    newNode->data = newData;\n",
        "\n",
        "    // If the list is empty, make the new node point to itself and update the start\n",
        "    if (*start == NULL) {\n",
        "        newNode->next = newNode;\n",
        "        *start = newNode;\n",
        "        return;\n",
        "    }\n",
        "\n",
        "    // Find the last node in the circular linked list\n",
        "    struct Node* temp = *start;\n",
        "    while (temp->next != *start) {\n",
        "        temp = temp->next;\n",
        "    }\n",
        "\n",
        "    // Insert the new node at the start\n",
        "    newNode->next = *start;\n",
        "    temp->next = newNode;\n",
        "\n",
        "    // Update the start to the new node\n",
        "    *start = newNode;\n",
        "}\n",
        "\n",
        "// Function to print the circularly linked list\n",
        "void printList(struct Node* start) {\n",
        "    if (start == NULL) {\n",
        "        printf(\"The list is empty.\\n\");\n",
        "        return;\n",
        "    }\n",
        "\n",
        "    struct Node* temp = start;\n",
        "    do {\n",
        "        printf(\"%d -> \", temp->data);\n",
        "        temp = temp->next;\n",
        "    } while (temp != start);\n",
        "    printf(\"(start)\\n\");\n",
        "}\n",
        "\n",
        "// Example usage\n",
        "int main() {\n",
        "    struct Node* start = NULL; // Initialize an empty circular linked list\n",
        "\n",
        "    // Insert elements at the start\n",
        "    insertAtStart(&start, 10);\n",
        "    insertAtStart(&start, 20);\n",
        "    insertAtStart(&start, 30);\n",
        "\n",
        "    // Print the circularly linked list\n",
        "    printf(\"Circular Linked List: \");\n",
        "    printList(start);\n",
        "\n",
        "    return 0;\n",
        "}"
      ],
      "metadata": {
        "id": "62AQxDSbAwQ6"
      },
      "execution_count": null,
      "outputs": []
    },
    {
      "cell_type": "markdown",
      "source": [
        "Insert end"
      ],
      "metadata": {
        "id": "EnXF2jszBlCV"
      }
    },
    {
      "cell_type": "code",
      "source": [
        "struct Node {\n",
        "    int data;\n",
        "    struct Node* next;\n",
        "};\n",
        "\n",
        "// Function to insert a node at the end of the circularly linked list\n",
        "void insertAtEnd(struct Node** start, int newData) {\n",
        "    // Allocate memory for the new node\n",
        "    struct Node* newNode = (struct Node*)malloc(sizeof(struct Node));\n",
        "    newNode->data = newData;\n",
        "\n",
        "    // If the list is empty, make the new node point to itself and update the start\n",
        "    if (*start == NULL) {\n",
        "        newNode->next = newNode;\n",
        "        *start = newNode;\n",
        "        return;\n",
        "    }\n",
        "\n",
        "    // Find the last node in the circular linked list\n",
        "    struct Node* temp = *start;\n",
        "    while (temp->next != *start) {\n",
        "        temp = temp->next;\n",
        "    }\n",
        "\n",
        "    // Insert the new node at the end\n",
        "    temp->next = newNode;\n",
        "    newNode->next = *start;\n",
        "}\n"
      ],
      "metadata": {
        "id": "j2cx1H1EBl96"
      },
      "execution_count": null,
      "outputs": []
    },
    {
      "cell_type": "markdown",
      "source": [
        "Insert at kTH position"
      ],
      "metadata": {
        "id": "huMgaaEQBwYI"
      }
    },
    {
      "cell_type": "code",
      "source": [
        "struct Node {\n",
        "    int data;\n",
        "    struct Node* next;\n",
        "};\n",
        "\n",
        "// Function to insert a node at the kth position in the circularly linked list\n",
        "void insertAtKthPos(struct Node** start, int newData, int k) {\n",
        "    // Allocate memory for the new node\n",
        "    struct Node* newNode = (struct Node*)malloc(sizeof(struct Node));\n",
        "    newNode->data = newData;\n",
        "\n",
        "    // If inserting at the start (position 1)\n",
        "    if (k == 1) {\n",
        "        if (*start == NULL) {\n",
        "            // If the list is empty, make the new node point to itself\n",
        "            newNode->next = newNode;\n",
        "            *start = newNode;\n",
        "        } else {\n",
        "            // Find the last node\n",
        "            struct Node* temp = *start;\n",
        "            while (temp->next != *start) {\n",
        "                temp = temp->next;\n",
        "            }\n",
        "            // Insert the new node at the start\n",
        "            newNode->next = *start;\n",
        "            temp->next = newNode;\n",
        "            *start = newNode;\n",
        "        }\n",
        "        return;\n",
        "    }\n",
        "\n",
        "    // Traverse to the (k-1)th node\n",
        "    struct Node* temp = *start;\n",
        "    int i = 1;\n",
        "    while (i < k - 1 && temp->next != *start) {\n",
        "        temp = temp->next;\n",
        "        i++;\n",
        "    }\n",
        "\n",
        "    // If the position is invalid (k is greater than the length of the list + 1)\n",
        "    if (i < k - 1) {\n",
        "        printf(\"Invalid position!\\n\");\n",
        "        free(newNode);\n",
        "        return;\n",
        "    }\n",
        "\n",
        "    // Insert the new node at the kth position\n",
        "    newNode->next = temp->next;\n",
        "    temp->next = newNode;\n",
        "}\n"
      ],
      "metadata": {
        "id": "AeLAeViFByMc"
      },
      "execution_count": null,
      "outputs": []
    },
    {
      "cell_type": "markdown",
      "source": [
        "Deletion Start"
      ],
      "metadata": {
        "id": "1Wqq62RWB_HG"
      }
    },
    {
      "cell_type": "code",
      "source": [
        "struct Node {\n",
        "    int data;\n",
        "    struct Node* next;\n",
        "};\n",
        "\n",
        "// Function to delete a node from the start of the circularly linked list\n",
        "void deleteFromStart(struct Node** start) {\n",
        "    // Check if the list is empty\n",
        "    if (*start == NULL) {\n",
        "        printf(\"The list is empty. Nothing to delete.\\n\");\n",
        "        return;\n",
        "    }\n",
        "\n",
        "    // If the list has only one node\n",
        "    if ((*start)->next == *start) {\n",
        "        free(*start);\n",
        "        *start = NULL;\n",
        "        printf(\"Node deleted from the start.\\n\");\n",
        "        return;\n",
        "    }\n",
        "\n",
        "    // Find the last node in the circular linked list\n",
        "    struct Node* temp = *start;\n",
        "    while (temp->next != *start) {\n",
        "        temp = temp->next;\n",
        "    }\n",
        "\n",
        "    // Update the last node's next pointer to the second node\n",
        "    struct Node* toDelete = *start;\n",
        "    temp->next = (*start)->next;\n",
        "    *start = (*start)->next;\n",
        "\n",
        "    // Free the memory of the old start node\n",
        "    free(toDelete);\n",
        "\n",
        "    printf(\"Node deleted from the start.\\n\");\n",
        "}\n",
        "\n"
      ],
      "metadata": {
        "id": "oIcHlr-LCASt"
      },
      "execution_count": null,
      "outputs": []
    },
    {
      "cell_type": "markdown",
      "source": [
        "Delete ENd"
      ],
      "metadata": {
        "id": "QWw5qwrtCQzW"
      }
    },
    {
      "cell_type": "code",
      "source": [
        "void deleteFromEnd(struct Node** start) {\n",
        "    // Check if the list is empty\n",
        "    if (*start == NULL) {\n",
        "        printf(\"The list is empty. Nothing to delete.\\n\");\n",
        "        return;\n",
        "    }\n",
        "\n",
        "    // If the list has only one node\n",
        "    if ((*start)->next == *start) {\n",
        "        free(*start);\n",
        "        *start = NULL;\n",
        "        printf(\"Node deleted from the end.\\n\");\n",
        "        return;\n",
        "    }\n",
        "\n",
        "    // Traverse to the second last node\n",
        "    struct Node* temp = *start;\n",
        "    while (temp->next->next != *start) {\n",
        "        temp = temp->next;\n",
        "    }\n",
        "\n",
        "    // Update the second last node's next pointer to point to the start\n",
        "    struct Node* toDelete = temp->next;\n",
        "    temp->next = *start;\n",
        "\n",
        "    // Free the memory of the last node\n",
        "    free(toDelete);\n",
        "\n",
        "    printf(\"Node deleted from the end.\\n\");\n",
        "}\n"
      ],
      "metadata": {
        "id": "a4-X20QECSYa"
      },
      "execution_count": null,
      "outputs": []
    },
    {
      "cell_type": "markdown",
      "source": [
        "Delete from kTH pos"
      ],
      "metadata": {
        "id": "2LuxUV1ECh0e"
      }
    },
    {
      "cell_type": "code",
      "source": [
        "void deleteFromKthPos(struct Node** start, int k) {\n",
        "    // Check if the list is empty\n",
        "    if (*start == NULL) {\n",
        "        printf(\"The list is empty. Nothing to delete.\\n\");\n",
        "        return;\n",
        "    }\n",
        "\n",
        "    // If deleting the first node (position 1)\n",
        "    if (k == 1) {\n",
        "        struct Node* temp = *start;\n",
        "\n",
        "        // If the list has only one node\n",
        "        if ((*start)->next == *start) {\n",
        "            free(*start);\n",
        "            *start = NULL;\n",
        "            printf(\"Node deleted from position %d.\\n\", k);\n",
        "            return;\n",
        "        }\n",
        "\n",
        "        // Find the last node\n",
        "        struct Node* last = *start;\n",
        "        while (last->next != *start) {\n",
        "            last = last->next;\n",
        "        }\n",
        "\n",
        "        // Update the last node's next pointer to the second node\n",
        "        last->next = (*start)->next;\n",
        "        *start = (*start)->next;\n",
        "\n",
        "        // Free the memory of the old start node\n",
        "        free(temp);\n",
        "        printf(\"Node deleted from position %d.\\n\", k);\n",
        "        return;\n",
        "    }\n",
        "\n",
        "    // Traverse to the (k-1)th node\n",
        "    struct Node* temp = *start;\n",
        "    int i = 1;\n",
        "    while (i < k - 1 && temp->next != *start) {\n",
        "        temp = temp->next;\n",
        "        i++;\n",
        "    }\n",
        "\n",
        "    // If the position is invalid (k is greater than the length of the list)\n",
        "    if (temp->next == *start || i < k - 1) {\n",
        "        printf(\"Invalid position!\\n\");\n",
        "        return;\n",
        "    }\n",
        "\n",
        "    // Delete the kth node\n",
        "    struct Node* toDelete = temp->next;\n",
        "    temp->next = toDelete->next;\n",
        "\n",
        "    // Free the memory of the kth node\n",
        "    free(toDelete);\n",
        "\n",
        "    printf(\"Node deleted from position %d.\\n\", k);\n",
        "}\n"
      ],
      "metadata": {
        "id": "SvZeGFh9CjZf"
      },
      "execution_count": null,
      "outputs": []
    },
    {
      "cell_type": "markdown",
      "source": [
        "##Sorting"
      ],
      "metadata": {
        "id": "Aw8LemgBDJSx"
      }
    },
    {
      "cell_type": "code",
      "source": [],
      "metadata": {
        "id": "bRkW3aZNDNAP"
      },
      "execution_count": null,
      "outputs": []
    },
    {
      "cell_type": "markdown",
      "source": [
        "Insertion Sort"
      ],
      "metadata": {
        "id": "qk76iYnyDPel"
      }
    },
    {
      "cell_type": "code",
      "source": [
        "#include <stdio.h>\n",
        "\n",
        "// Function to perform insertion sort\n",
        "void insertionSort(int arr[], int n) {\n",
        "    for (int i = 1; i < n; i++) {\n",
        "        int key = arr[i];\n",
        "        int j = i - 1;\n",
        "\n",
        "        // Move elements of arr[0..i-1] that are greater than key\n",
        "        // to one position ahead of their current position\n",
        "        while (j >= 0 && arr[j] > key) {\n",
        "            arr[j + 1] = arr[j];\n",
        "            j--;\n",
        "        }\n",
        "        arr[j + 1] = key;\n",
        "    }\n",
        "}\n",
        "\n",
        "// Function to print the array\n",
        "void printArray(int arr[], int n) {\n",
        "    for (int i = 0; i < n; i++) {\n",
        "        printf(\"%d \", arr[i]);\n",
        "    }\n",
        "    printf(\"\\n\");\n",
        "}\n"
      ],
      "metadata": {
        "id": "h-axDeThDQxv"
      },
      "execution_count": null,
      "outputs": []
    },
    {
      "cell_type": "markdown",
      "source": [
        "Selection Sort\n"
      ],
      "metadata": {
        "id": "VQMNFAGXDfc6"
      }
    },
    {
      "cell_type": "code",
      "source": [
        "\n",
        "// Function to perform selection sort\n",
        "void selectionSort(int arr[], int n) {\n",
        "    for (int i = 0; i < n - 1; i++) {\n",
        "        // Find the minimum element in the unsorted part of the array\n",
        "        int minIndex = i;\n",
        "        for (int j = i + 1; j < n; j++) {\n",
        "            if (arr[j] < arr[minIndex]) {\n",
        "                minIndex = j;\n",
        "            }\n",
        "        }\n",
        "\n",
        "        // Swap the found minimum element with the first element of the unsorted part\n",
        "        int temp = arr[minIndex];\n",
        "        arr[minIndex] = arr[i];\n",
        "        arr[i] = temp;\n",
        "    }\n",
        "}\n"
      ],
      "metadata": {
        "id": "9R3cjQOaDkJa"
      },
      "execution_count": null,
      "outputs": []
    },
    {
      "cell_type": "markdown",
      "source": [
        "Bubble Sort"
      ],
      "metadata": {
        "id": "suOMPbhaD5Q0"
      }
    },
    {
      "cell_type": "code",
      "source": [
        "// Function to perform bubble sort\n",
        "void bubbleSort(int arr[], int n) {\n",
        "    for (int i = 0; i < n - 1; i++) {\n",
        "        // Last i elements are already sorted\n",
        "        for (int j = 0; j < n - i - 1; j++) {\n",
        "            if (arr[j] > arr[j + 1]) {\n",
        "                // Swap arr[j] and arr[j + 1]\n",
        "                int temp = arr[j];\n",
        "                arr[j] = arr[j + 1];\n",
        "                arr[j + 1] = temp;\n",
        "            }\n",
        "        }\n",
        "    }\n",
        "}"
      ],
      "metadata": {
        "id": "ZCcHx6LhDynt"
      },
      "execution_count": null,
      "outputs": []
    },
    {
      "cell_type": "markdown",
      "source": [
        "Quick Sort"
      ],
      "metadata": {
        "id": "XnvsUc6fGj9T"
      }
    },
    {
      "cell_type": "code",
      "source": [
        "\n",
        "// Function to swap two elements\n",
        "void swap(int* a, int* b) {\n",
        "    int temp = *a;\n",
        "    *a = *b;\n",
        "    *b = temp;\n",
        "}\n",
        "\n",
        "// Partition function\n",
        "int partition(int arr[], int low, int high) {\n",
        "    int pivot = arr[high]; // Choose the last element as the pivot\n",
        "    int i = low - 1;       // Index of the smaller element\n",
        "\n",
        "    for (int j = low; j < high; j++) {\n",
        "        if (arr[j] < pivot) {\n",
        "            i++;\n",
        "            swap(&arr[i], &arr[j]);\n",
        "        }\n",
        "    }\n",
        "    swap(&arr[i + 1], &arr[high]);\n",
        "    return i + 1;\n",
        "}\n",
        "\n",
        "// Quick sort function\n",
        "void quickSort(int arr[], int low, int high) {\n",
        "    if (low < high) {\n",
        "        int pi = partition(arr, low, high); // Partition index\n",
        "\n",
        "        // Recursively sort elements before and after partition\n",
        "        quickSort(arr, low, pi - 1);\n",
        "        quickSort(arr, pi + 1, high);\n",
        "    }\n",
        "}\n"
      ],
      "metadata": {
        "id": "I0_G_LlW66cO"
      },
      "execution_count": null,
      "outputs": []
    },
    {
      "cell_type": "markdown",
      "source": [
        "OR Quick SOrt-"
      ],
      "metadata": {
        "id": "bOFotnQ57Y1j"
      }
    },
    {
      "cell_type": "code",
      "source": [
        "// Function to swap two elements\n",
        "void swap(int* a, int* b) {\n",
        "    int temp = *a;\n",
        "    *a = *b;\n",
        "    *b = temp;\n",
        "}\n",
        "\n",
        "// Quick sort function with integrated partition logic\n",
        "void quickSort(int arr[], int low, int high) {\n",
        "    if (low < high) {\n",
        "        int pivot = arr[high]; // Choose the last element as the pivot\n",
        "        int i = low - 1;       // Index of the smaller element\n",
        "\n",
        "        // Partition the array\n",
        "        for (int j = low; j < high; j++) {\n",
        "            if (arr[j] < pivot) {\n",
        "                i++;\n",
        "                swap(&arr[i], &arr[j]);\n",
        "            }\n",
        "        }\n",
        "        swap(&arr[i + 1], &arr[high]); // Place the pivot in its correct position\n",
        "        int pi = i + 1;                // Partition index\n",
        "\n",
        "        // Recursively sort elements before and after partition\n",
        "        quickSort(arr, low, pi - 1);\n",
        "        quickSort(arr, pi + 1, high);\n",
        "    }\n",
        "}\n",
        "\n"
      ],
      "metadata": {
        "id": "s-yz8PCL7aSL"
      },
      "execution_count": null,
      "outputs": []
    },
    {
      "cell_type": "code",
      "source": [],
      "metadata": {
        "id": "pA6D5_wl7jKj"
      },
      "execution_count": null,
      "outputs": []
    },
    {
      "cell_type": "markdown",
      "source": [
        "Merge Sort"
      ],
      "metadata": {
        "id": "yud3Ss617kTw"
      }
    },
    {
      "cell_type": "code",
      "source": [
        "void mergeSort(int arr[], int left, int right) {\n",
        "    if (left < right) {\n",
        "        int mid = left + (right - left) / 2; // Find the middle point\n",
        "\n",
        "        // Recursively sort the two halves\n",
        "        mergeSort(arr, left, mid);\n",
        "        mergeSort(arr, mid + 1, right);\n",
        "\n",
        "        // Merge the two halves\n",
        "        int n1 = mid - left + 1; // Size of the left subarray\n",
        "        int n2 = right - mid;    // Size of the right subarray\n",
        "\n",
        "        // Create temporary arrays\n",
        "        int L[n1], R[n2];\n",
        "\n",
        "        // Copy data to temporary arrays\n",
        "        for (int i = 0; i < n1; i++) {\n",
        "            L[i] = arr[left + i];\n",
        "        }\n",
        "        for (int j = 0; j < n2; j++) {\n",
        "            R[j] = arr[mid + 1 + j];\n",
        "        }\n",
        "\n",
        "        // Merge the temporary arrays back into the original array\n",
        "        int i = 0, j = 0, k = left;\n",
        "        while (i < n1 && j < n2) {\n",
        "            if (L[i] <= R[j]) {\n",
        "                arr[k] = L[i];\n",
        "                i++;\n",
        "            } else {\n",
        "                arr[k] = R[j];\n",
        "                j++;\n",
        "            }\n",
        "            k++;\n",
        "        }\n",
        "\n",
        "        // Copy any remaining elements of L[]\n",
        "        while (i < n1) {\n",
        "            arr[k] = L[i];\n",
        "            i++;\n",
        "            k++;\n",
        "        }\n",
        "\n",
        "        // Copy any remaining elements of R[]\n",
        "        while (j < n2) {\n",
        "            arr[k] = R[j];\n",
        "            j++;\n",
        "            k++;\n",
        "        }\n",
        "    }\n",
        "}\n"
      ],
      "metadata": {
        "id": "5RwwzrDB7mGd"
      },
      "execution_count": null,
      "outputs": []
    }
  ]
}