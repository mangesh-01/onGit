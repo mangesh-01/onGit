{
 "cells": [
  {
   "cell_type": "code",
   "execution_count": 3,
   "id": "2f2d743e",
   "metadata": {},
   "outputs": [
    {
     "name": "stdout",
     "output_type": "stream",
     "text": [
      "Path to dataset files: C:\\Users\\ma\\.cache\\kagglehub\\datasets\\oddrationale\\mnist-in-csv\\versions\\2\n"
     ]
    }
   ],
   "source": [
    "import numpy as np\n",
    "import kagglehub\n",
    "import os\n",
    "from PIL import Image\n",
    "from IPython.display import display\n",
    "\n",
    "# Download MNIST CSV dataset\n",
    "path = kagglehub.dataset_download(\"oddrationale/mnist-in-csv\")\n",
    "print(\"Path to dataset files:\", path)\n"
   ]
  },
  {
   "cell_type": "code",
   "execution_count": null,
   "id": "bffb4faa",
   "metadata": {},
   "outputs": [],
   "source": [
    "\n",
    "# Identify CSV files\n",
    "csv_files = [f for f in os.listdir(path) if f.endswith('.csv')]\n",
    "if not csv_files:\n",
    "    raise FileNotFoundError(f\"No CSV files found in {path}\")\n",
    "\n",
    "csv_path = os.path.join(path, csv_files[0])\n",
    "\n",
    "# Load data\n",
    "data = np.genfromtxt(csv_path, delimiter=',', skip_header=1)\n",
    "labels = data[:, 0].astype(int)\n",
    "pixels = data[:, 1:].astype(np.uint8)\n",
    "scaled_pixels = pixels / 255.0\n",
    "\n",
    "\n",
    "class Layer:\n",
    "    def __init__(self, number, size, inputs=1):\n",
    "        self.number = number\n",
    "        self.size = size\n",
    "        self.data = np.zeros((inputs, size), dtype=np.float32)\n",
    "\n",
    "class Weight:\n",
    "    def __init__(self, prev, next):\n",
    "        self.value = np.random.randn(prev.size, next.size).astype(np.float32)\n",
    "\n",
    "class Bias:\n",
    "    def __init__(self, next):\n",
    "        self.value = np.random.randn(1, next.size).astype(np.float32)\n",
    "\n",
    "class Neural:\n",
    "    def __init__(self, activation):\n",
    "        self.activation = activation\n",
    "        self.layers = []\n",
    "        self.weights = []\n",
    "        self.biases = []\n",
    "\n",
    "    def add_layer(self, layer):\n",
    "        self.layers.append(layer)\n",
    "        if len(self.layers) > 1:\n",
    "            self.weights.append(Weight(self.layers[len(self.layers)-2], self.layers[len(self.layers)-1]))\n",
    "            self.biases.append(Bias(self.layers[len(self.layers)-1]))\n",
    "\n",
    "    def forward(self):\n",
    "        for i in range(1, len(self.layers)):\n",
    "            prev_data = self.layers[i - 1].data     \n",
    "            w = self.weights[i - 1].value            \n",
    "            b = self.biases[i - 1].value            \n",
    "            z = np.dot(prev_data, w) + b            \n",
    "            self.layers[i].data = self.activation(z)\n",
    "\n",
    "    @property\n",
    "    def output(self):\n",
    "        return self.layers[-1].data\n",
    "\n",
    "def sigmoid(x):\n",
    "    return 1 / (1 + np.exp(-x))\n",
    "\n",
    "# cost function = (predicted-actual)^2 \n",
    "def costFunction(predicted, actual):\n",
    "    return np.sum((predicted - actual) ** 2)\n",
    "\n"
   ]
  },
  {
   "cell_type": "code",
   "execution_count": 15,
   "id": "f59b6fce",
   "metadata": {},
   "outputs": [
    {
     "data": {
      "image/jpeg": "[encoded data removed]",
      "image/png": "[encoded data removed]",
      "text/plain": [
       "<PIL.Image.Image image mode=L size=28x28>"
      ]
     },
     "metadata": {},
     "output_type": "display_data"
    },
    {
     "data": {
      "image/jpeg": "[encoded data removed]",
      "image/png": "[encoded data removed]",
      "text/plain": [
       "<PIL.Image.Image image mode=L size=28x28>"
      ]
     },
     "metadata": {},
     "output_type": "display_data"
    },
    {
     "data": {
      "image/jpeg": "[encoded data removed]",
      "image/png": "[encoded data removed]",
      "text/plain": [
       "<PIL.Image.Image image mode=L size=28x28>"
      ]
     },
     "metadata": {},
     "output_type": "display_data"
    },
    {
     "data": {
      "image/jpeg": "[encoded data removed]",
      "image/png": "[encoded data removed]",
      "text/plain": [
       "<PIL.Image.Image image mode=L size=28x28>"
      ]
     },
     "metadata": {},
     "output_type": "display_data"
    },
    {
     "data": {
      "image/jpeg": "[encoded data removed]",
      "image/png": "[encoded data removed]",
      "text/plain": [
       "<PIL.Image.Image image mode=L size=28x28>"
      ]
     },
     "metadata": {},
     "output_type": "display_data"
    },
    {
     "name": "stdout",
     "output_type": "stream",
     "text": [
      "[[0. 0. 0. 0. 0. 0. 0. 1. 0. 0.]\n",
      " [0. 0. 1. 0. 0. 0. 0. 0. 0. 0.]\n",
      " [0. 1. 0. 0. 0. 0. 0. 0. 0. 0.]\n",
      " [1. 0. 0. 0. 0. 0. 0. 0. 0. 0.]\n",
      " [0. 0. 0. 0. 1. 0. 0. 0. 0. 0.]]\n"
     ]
    }
   ],
   "source": [
    "input_taken = 5\n",
    "indices = list(range(input_taken))\n",
    "\n",
    "input_data = scaled_pixels[indices] \n",
    "\n",
    "actual = np.zeros((input_taken, 10), dtype=np.float32)\n",
    "for i in range(len(indices)):\n",
    "    idx = indices[i]\n",
    "    label = labels[idx]\n",
    "    actual[i, label] = 1\n",
    "    display(Image.fromarray(pixels[idx].reshape(28,28), mode = 'L'))\n",
    "\n",
    "\n",
    "print(actual)\n"
   ]
  },
  {
   "cell_type": "code",
   "execution_count": 18,
   "id": "c9b5c17d",
   "metadata": {},
   "outputs": [
    {
     "name": "stdout",
     "output_type": "stream",
     "text": [
      "Predicted Labels: [4 4 4 4 4]\n",
      "True Labels     : [7 2 1 0 4]\n",
      "[[0.82280676 0.04305381 0.03015486 0.2442052  0.99749513 0.30531814\n",
      "  0.07816139 0.96169761 0.72455942 0.33569808]\n",
      " [0.99559736 0.16306018 0.58997987 0.72785294 0.99878518 0.98395283\n",
      "  0.36222928 0.61302063 0.92518356 0.96492216]\n",
      " [0.94067073 0.01741994 0.15857719 0.47176207 0.99874375 0.88241846\n",
      "  0.33743436 0.89672073 0.86643822 0.33289913]\n",
      " [0.97707188 0.03860646 0.48321408 0.23905905 0.98904502 0.98512746\n",
      "  0.29384941 0.74176616 0.49925619 0.70790269]\n",
      " [0.99161329 0.26063154 0.05096999 0.30698229 0.99863174 0.99683426\n",
      "  0.85172075 0.98767413 0.72415343 0.2579037 ]]\n",
      "Cost: 22.16391710850425\n"
     ]
    }
   ],
   "source": [
    "\n",
    "model = Neural(sigmoid)\n",
    "\n",
    "input_layer = Layer(1, 784, inputs=input_taken)\n",
    "input_layer.data = input_data\n",
    "\n",
    "model.add_layer(input_layer)\n",
    "model.add_layer(Layer(2, 107, inputs=input_taken))\n",
    "model.add_layer(Layer(3, 26, inputs=input_taken))\n",
    "model.add_layer(Layer(4, 10, inputs=input_taken))\n",
    "\n",
    "model.forward()\n",
    "\n",
    "result = np.argmax(model.output, axis=1)\n",
    "true_labels = labels[indices]\n",
    "\n",
    "print(\"Predicted Labels:\", result)\n",
    "print(\"True Labels     :\", true_labels)\n",
    "print(model.output)\n",
    "\n",
    "cost = costFunction(model.output,actual)\n",
    "print(\"Cost:\", cost)\n"
   ]
  }
 ],
 "metadata": {
  "kernelspec": {
   "display_name": "base",
   "language": "python",
   "name": "python3"
  },
  "language_info": {
   "codemirror_mode": {
    "name": "ipython",
    "version": 3
   },
   "file_extension": ".py",
   "mimetype": "text/x-python",
   "name": "python",
   "nbconvert_exporter": "python",
   "pygments_lexer": "ipython3",
   "version": "3.12.7"
  }
 },
 "nbformat": 4,
 "nbformat_minor": 5
}
