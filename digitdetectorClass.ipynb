{
 "cells": [
  {
   "cell_type": "code",
   "id": "initial_id",
   "metadata": {
    "collapsed": true,
    "ExecuteTime": {
     "end_time": "2025-06-24T15:37:29.341507Z",
     "start_time": "2025-06-24T15:37:23.380621Z"
    }
   },
   "source": [
    "import kagglehub\n",
    "from seaborn.external.husl import dot_product\n",
    "\n",
    "# Download latest version\n",
    "path = kagglehub.dataset_download(\"oddrationale/mnist-in-csv\")\n",
    "\n",
    "print(\"Path to dataset files:\", path)"
   ],
   "outputs": [
    {
     "name": "stdout",
     "output_type": "stream",
     "text": [
      "Path to dataset files: C:\\Users\\ma\\.cache\\kagglehub\\datasets\\oddrationale\\mnist-in-csv\\versions\\2\n"
     ]
    }
   ],
   "execution_count": 22
  },
  {
   "metadata": {
    "ExecuteTime": {
     "end_time": "2025-06-24T15:37:58.245907Z",
     "start_time": "2025-06-24T15:37:29.417301Z"
    }
   },
   "cell_type": "code",
   "source": [
    "\n",
    "\n",
    "import os\n",
    "import numpy as np\n",
    "from PIL import Image\n",
    "from IPython.display import display\n",
    "\n",
    "# 1. Identify the CSV file in the downloaded dataset folder\n",
    "csv_files = [f for f in os.listdir(path) if f.endswith('.csv')]\n",
    "if not csv_files:\n",
    "    raise FileNotFoundError(f\"No CSV files found in {path}\")\n",
    "csv_path = os.path.join(path, csv_files[0])\n",
    "\n",
    "# 2. Load the CSV (skip header row)\n",
    "data = np.genfromtxt(csv_path, delimiter=',', skip_header=1)\n",
    "labels = data[:, 0].astype(int)\n",
    "pixels = data[:, 1:].astype(np.uint8)\n",
    "\n",
    "# 3. Ask user for an index and validate\n",
    "max_idx = len(labels) - 1\n",
    "idx = int(input(f\"Enter image index (0 to {max_idx}): \"))\n",
    "if not (0 <= idx <= max_idx):\n",
    "    raise ValueError(f\"Index out of range. Must be between 0 and {max_idx}.\")\n",
    "\n",
    "# 4. Reshape pixel data and display\n",
    "img_arr = pixels[idx].reshape(28, 28)\n",
    "img = Image.fromarray(img_arr, mode='L')\n",
    "display(img)\n",
    "\n",
    "\n",
    "print(\"Label:\", labels[idx])"
   ],
   "id": "f2226c95dfd3e10e",
   "outputs": [
    {
     "data": {
      "text/plain": [
       "<PIL.Image.Image image mode=L size=28x28>"
      ],
      "image/png": "[encoded data removed]",
      "image/jpeg": "[encoded data removed]"
     },
     "metadata": {},
     "output_type": "display_data"
    },
    {
     "name": "stdout",
     "output_type": "stream",
     "text": [
      "Label: 1\n"
     ]
    }
   ],
   "execution_count": 23
  },
  {
   "metadata": {
    "ExecuteTime": {
     "end_time": "2025-06-24T16:36:16.179654Z",
     "start_time": "2025-06-24T16:36:16.117304Z"
    }
   },
   "cell_type": "code",
   "source": [
    "class Matrix:\n",
    "    def __init__(self,row, column):\n",
    "        self.row = row\n",
    "        self.column = column\n",
    "\n",
    "    def dot(self, other):\n",
    "        if not isinstance(other, Matrix):\n",
    "            raise TypeError(\"Operand must be of type Matrix\")\n",
    "\n",
    "        result = np.dot(self.name, other.name)\n",
    "        # Create a new emptyMatrix with result shape\n",
    "        result_matrix = emptyMatrix(result.shape[0], result.shape[1])\n",
    "        result_matrix.name = result\n",
    "        return result_matrix\n",
    "\n",
    "\n",
    "\n",
    "class randomMatrix(Matrix):\n",
    "    def __init__(self,  row, column, name = \"random_matrix\"):\n",
    "        super().__init__( row, column)\n",
    "\n",
    "        self.name = np.array(np.random.rand(self.row,self.column) ,dtype=np.float32)\n",
    "\n",
    "    # def printthematrix(self):\n",
    "    #     print(self.name)\n",
    "\n",
    "class emptyMatrix(Matrix):\n",
    "    def __init__(self, row, column, name = \"empty_matrix\"):\n",
    "        super().__init__(row, column)\n",
    "\n",
    "        self.name = np.array(np.empty((self.row,self.column),dtype=np.float32))\n",
    "\n",
    "    # def printthematrix(self):\n",
    "    #     print(self.name)\n",
    "\n",
    "\n",
    "\n",
    "def sigmoid(x):\n",
    "    return 1 / (1 + np.exp(-x))\n"
   ],
   "id": "af00f417178a108f",
   "outputs": [],
   "execution_count": 66
  },
  {
   "metadata": {
    "ExecuteTime": {
     "end_time": "2025-06-24T16:36:32.739998Z",
     "start_time": "2025-06-24T16:36:32.603977Z"
    }
   },
   "cell_type": "code",
   "source": [
    "scaledpixel = pixels / 255.0\n",
    "\n",
    "layer1 = scaledpixel[idx].reshape(1, 784)\n",
    "layer1_matrix = emptyMatrix(1, 784)\n",
    "layer1_matrix.name = layer1.astype(np.float32)\n",
    "layer2 = emptyMatrix(1,107)\n",
    "layer3 = emptyMatrix(1,26)\n",
    "layer4 =  emptyMatrix(1,10)\n",
    "\n",
    "w_l1_l2 = randomMatrix(784,107)\n",
    "w_l2_l3 = randomMatrix(107,26)\n",
    "w_l3_l4 = randomMatrix(26,10)\n",
    "\n",
    "b_l2 = randomMatrix(1,107)\n",
    "b_l3 = randomMatrix(1,26)\n",
    "b_l4 = randomMatrix(1,10)\n",
    "\n",
    "array1 = emptyMatrix(1,107)\n",
    "array2 = emptyMatrix(1,26)\n",
    "array3 = emptyMatrix(1,10)\n"
   ],
   "id": "cd78d2f71b89c5bb",
   "outputs": [],
   "execution_count": 68
  },
  {
   "metadata": {
    "ExecuteTime": {
     "end_time": "2025-06-24T16:40:40.092934Z",
     "start_time": "2025-06-24T16:40:40.070870Z"
    }
   },
   "cell_type": "code",
   "source": [
    "array1 = layer1_matrix.dot(w_l1_l2)\n",
    "array1.name += b_l2.name\n",
    "\n",
    "array2 = layer2.dot(w_l2_l3)\n",
    "array2.name += b_l3.name\n",
    "\n",
    "array3 = layer3.dot(w_l3_l4)\n",
    "array3.name += b_l4.name\n",
    "\n",
    "sigmoid_1 = emptyMatrix(1,107)\n",
    "sigmoid_2 = emptyMatrix(1,26)\n",
    "sigmoid_3 = emptyMatrix(1,10)"
   ],
   "id": "6a1d2c86dac75c2e",
   "outputs": [],
   "execution_count": 78
  },
  {
   "metadata": {
    "ExecuteTime": {
     "end_time": "2025-06-24T16:37:00.340221Z",
     "start_time": "2025-06-24T16:37:00.309672Z"
    }
   },
   "cell_type": "code",
   "source": [
    "def sigmoid(x):\n",
    "    return 1 / (1 + np.exp(-x))"
   ],
   "id": "321c17778bf5bb61",
   "outputs": [],
   "execution_count": 71
  },
  {
   "metadata": {
    "ExecuteTime": {
     "end_time": "2025-06-24T16:41:28.494821Z",
     "start_time": "2025-06-24T16:41:28.475645Z"
    }
   },
   "cell_type": "code",
   "source": [
    "sigmoid_1 = sigmoid(array1.name)\n",
    "sigmoid_2 = sigmoid(array2.name)\n",
    "sigmoid_3 = sigmoid(array3.name)"
   ],
   "id": "a28ad451783d5e0a",
   "outputs": [],
   "execution_count": 79
  },
  {
   "metadata": {
    "ExecuteTime": {
     "end_time": "2025-06-24T16:41:43.777890Z",
     "start_time": "2025-06-24T16:41:43.646701Z"
    }
   },
   "cell_type": "code",
   "source": [
    "ans =np.argmax(sigmoid_3)\n",
    "\n",
    "print(\"answer is\", ans)"
   ],
   "id": "cc8a6e98e25f9e2c",
   "outputs": [
    {
     "name": "stdout",
     "output_type": "stream",
     "text": [
      "answer is 0\n"
     ]
    }
   ],
   "execution_count": 80
  }
 ],
 "metadata": {
  "kernelspec": {
   "display_name": "Python 3",
   "language": "python",
   "name": "python3"
  },
  "language_info": {
   "codemirror_mode": {
    "name": "ipython",
    "version": 2
   },
   "file_extension": ".py",
   "mimetype": "text/x-python",
   "name": "python",
   "nbconvert_exporter": "python",
   "pygments_lexer": "ipython2",
   "version": "2.7.6"
  }
 },
 "nbformat": 4,
 "nbformat_minor": 5
}
