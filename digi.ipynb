{
 "cells": [
  {
   "cell_type": "code",
   "execution_count": 146,
   "id": "2f2d743e",
   "metadata": {},
   "outputs": [
    {
     "name": "stdout",
     "output_type": "stream",
     "text": [
      "Path to dataset files: C:\\Users\\ma\\.cache\\kagglehub\\datasets\\oddrationale\\mnist-in-csv\\versions\\2\n"
     ]
    }
   ],
   "source": [
    "import numpy as np\n",
    "import kagglehub\n",
    "import os\n",
    "from PIL import Image\n",
    "from IPython.display import display\n",
    "\n",
    "# Download MNIST CSV dataset\n",
    "path = kagglehub.dataset_download(\"oddrationale/mnist-in-csv\")\n",
    "print(\"Path to dataset files:\", path)\n"
   ]
  },
  {
   "cell_type": "code",
   "execution_count": 178,
   "id": "bffb4faa",
   "metadata": {},
   "outputs": [],
   "source": [
    "\n",
    "# Identify CSV files\n",
    "csv_files = [f for f in os.listdir(path) if f.endswith('.csv')]\n",
    "if not csv_files:\n",
    "    raise FileNotFoundError(f\"No CSV files found in {path}\")\n",
    "\n",
    "csv_path = os.path.join(path, csv_files[0])\n",
    "\n",
    "# Load data\n",
    "data = np.genfromtxt(csv_path, delimiter=',', skip_header=1)\n",
    "labels = data[:, 0].astype(int)\n",
    "pixels = data[:, 1:].astype(np.uint8)\n",
    "scaled_pixels = pixels / 255.0\n",
    "\n",
    "\n",
    "class Layer:\n",
    "    def __init__(self, number, size, inputs=1):\n",
    "        self.number = number\n",
    "        self.size = size\n",
    "        self.data = np.zeros((inputs, size), dtype=np.float64)\n",
    "\n",
    "class Weight:\n",
    "    def __init__(self, prev, next):\n",
    "        self.value = (np.random.randn(prev.size, next.size).astype(np.float64))\n",
    "\n",
    "class Bias:\n",
    "    def __init__(self, next):\n",
    "        self.value = np.random.randn(1, next.size).astype(np.float64)\n",
    "\n",
    "class Neural:\n",
    "    def __init__(self, activation):\n",
    "        self.activation = activation\n",
    "        self.layers = []\n",
    "        self.weights = []\n",
    "        self.biases = []\n",
    "\n",
    "    def add_layer(self, layer):\n",
    "        self.layers.append(layer)\n",
    "        if len(self.layers) > 1:\n",
    "            self.weights.append(Weight(self.layers[len(self.layers)-2], self.layers[len(self.layers)-1]))\n",
    "            self.biases.append(Bias(self.layers[len(self.layers)-1]))\n",
    "\n",
    "    def forward(self):\n",
    "        self.z_values = []\n",
    "        for i in range(1, len(self.layers)):\n",
    "            prev_data = self.layers[i - 1].data     \n",
    "            w = self.weights[i - 1].value            \n",
    "            b = self.biases[i - 1].value            \n",
    "            z = np.dot(prev_data, w) + b\n",
    "            self.z_values.append(z)\n",
    "            self.layers[i].data = self.activation(z)\n",
    "\n",
    "    @property\n",
    "    def output(self):\n",
    "        return self.layers[len(self.layers)-1].data\n",
    "\n",
    "def sigmoid(x):\n",
    "    x = np.clip(x, -500, 500)\n",
    "    return 1 / (1 + np.exp(-x))\n",
    "\n",
    "# cost function = (predicted-real)^2 \n",
    "def costFunction(predicted, real):\n",
    "    return np.sum((predicted - real) ** 2)\n",
    "\n"
   ]
  },
  {
   "cell_type": "code",
   "execution_count": 179,
   "id": "f59b6fce",
   "metadata": {},
   "outputs": [],
   "source": [
    "input_taken = 5\n",
    "indices = list(range(input_taken))\n",
    "\n",
    "input_data = scaled_pixels[indices] \n",
    "\n",
    "actual = np.zeros((input_taken, 10), dtype=np.float64)\n",
    "for i in range(len(indices)):\n",
    "    idx = indices[i]\n",
    "    label = labels[idx]\n",
    "    actual[i, label] = 1\n",
    "    # display(Image.fromarray(pixels[idx].reshape(28,28), mode = 'L'))\n",
    "\n",
    "\n",
    "# print(actual)\n"
   ]
  },
  {
   "cell_type": "code",
   "execution_count": 180,
   "id": "c9b5c17d",
   "metadata": {},
   "outputs": [
    {
     "name": "stdout",
     "output_type": "stream",
     "text": [
      "Predicted Labels: [3 1 3 3 3]\n",
      "True Labels     : [7 2 1 0 4]\n",
      "Cost: 21.595649892891544\n",
      "(5, 10)\n",
      "[[2.08568811e-03 9.31446173e-01 9.94029030e-01 9.99994690e-01\n",
      "  9.54012386e-01 7.37855520e-03 6.09315716e-01 4.38983423e-01\n",
      "  9.77917770e-03 9.38870341e-01]\n",
      " [2.15044685e-03 9.99834592e-01 9.62779608e-01 9.99742803e-01\n",
      "  5.91627130e-01 2.28578053e-01 8.63682947e-01 7.56609880e-01\n",
      "  9.69827028e-04 9.38732486e-01]\n",
      " [1.06186249e-02 9.92856864e-01 9.97624487e-01 9.99963580e-01\n",
      "  2.64365074e-01 1.21391458e-01 6.92822763e-01 1.17827710e-01\n",
      "  5.92633555e-04 6.52975061e-01]\n",
      " [8.17665515e-04 8.49720277e-01 9.94997966e-01 9.99992398e-01\n",
      "  2.91080419e-01 1.62087894e-01 7.69915844e-01 1.09852141e-01\n",
      "  9.85096515e-04 9.17577452e-01]\n",
      " [7.39161300e-02 9.76175713e-01 8.72409155e-01 9.99417776e-01\n",
      "  7.86616711e-01 1.06159349e-02 3.50713804e-01 3.85249027e-01\n",
      "  2.69064871e-02 5.96017479e-01]]\n"
     ]
    }
   ],
   "source": [
    "\n",
    "model = Neural(sigmoid)\n",
    "\n",
    "input_layer = Layer(1, 784, inputs=input_taken)\n",
    "input_layer.data = input_data\n",
    "\n",
    "model.add_layer(input_layer)\n",
    "model.add_layer(Layer(2, 107, inputs=input_taken))\n",
    "model.add_layer(Layer(3, 26, inputs=input_taken))\n",
    "model.add_layer(Layer(4, 10, inputs=input_taken))\n",
    "\n",
    "model.forward()\n",
    "\n",
    "result = np.argmax(model.output, axis=1)\n",
    "true_labels = labels[indices]\n",
    "\n",
    "print(\"Predicted Labels:\", result)\n",
    "print(\"True Labels     :\", true_labels)\n",
    "\n",
    "cost = costFunction(model.output,actual)\n",
    "print(\"Cost:\", cost)\n",
    "\n",
    "print((model.output).shape)\n",
    "print(model.output)\n"
   ]
  },
  {
   "cell_type": "code",
   "execution_count": 181,
   "id": "6de04f81",
   "metadata": {},
   "outputs": [],
   "source": [
    "# print(actual) actual is one hot encoded matrix\n",
    "#real is parameter of various functions"
   ]
  },
  {
   "cell_type": "code",
   "execution_count": 182,
   "id": "f3bcc23e",
   "metadata": {},
   "outputs": [],
   "source": [
    "def sigmoid_prime(x):\n",
    "    s = sigmoid(x)\n",
    "    return s * (1 - s)"
   ]
  },
  {
   "cell_type": "code",
   "execution_count": 183,
   "id": "6c9a68b6",
   "metadata": {},
   "outputs": [
    {
     "name": "stdout",
     "output_type": "stream",
     "text": [
      "[7 2 1 0 4]\n",
      "[3 1 3 3 3]\n"
     ]
    }
   ],
   "source": [
    "print(true_labels)\n",
    "print(result)\n",
    "# print(scaled_pixels)\n",
    "# print(model.output)\n"
   ]
  },
  {
   "cell_type": "code",
   "execution_count": 184,
   "id": "37f05c44",
   "metadata": {},
   "outputs": [
    {
     "name": "stdout",
     "output_type": "stream",
     "text": [
      "[7 2 1 0 4]\n"
     ]
    }
   ],
   "source": [
    "arra = np.array(true_labels)\n",
    "print(arra)\n",
    "# print(actual)"
   ]
  },
  {
   "cell_type": "code",
   "execution_count": 202,
   "id": "f2f08fd1",
   "metadata": {},
   "outputs": [],
   "source": [
    "def delta_lastlayer(real, predicted, deactivated_matrix):\n",
    "    number = input_taken\n",
    "    difference = real - predicted\n",
    "    # a = np.array(difference)   \n",
    "    # a = a.reshape(-1, 1)           \n",
    "    # repeated = np.repeat(a, 10, axis=1) \n",
    "    # print(f\"{real} - {predicted} = {difference}\")\n",
    "    ans = (difference) * sigmoid_prime(deactivated_matrix)\n",
    "    return ans\n",
    "\n"
   ]
  },
  {
   "cell_type": "code",
   "execution_count": 203,
   "id": "723255d8",
   "metadata": {},
   "outputs": [
    {
     "data": {
      "text/plain": [
       "(5, 10)"
      ]
     },
     "execution_count": 203,
     "metadata": {},
     "output_type": "execute_result"
    }
   ],
   "source": [
    "sigmoid_prime(model.z_values[-1]).shape"
   ]
  },
  {
   "cell_type": "code",
   "execution_count": 204,
   "id": "88200f4b",
   "metadata": {},
   "outputs": [],
   "source": [
    "# arrrr = delta_lastlayer(arra, result, model.z_values[-1])\n",
    "arrrr = delta_lastlayer(actual, model.output, model.z_values[-1])"
   ]
  },
  {
   "cell_type": "code",
   "execution_count": 188,
   "id": "31f50e0a",
   "metadata": {},
   "outputs": [],
   "source": [
    "def delta_calc(current_layer_number ):   #give current layer in backward terms like -1-2-3 and so on\n",
    "    if (current_layer_number == -1):\n",
    "        return arrrr\n",
    "    else:\n",
    "        answer = np.dot(delta_calc(current_layer_number + 1), np.transpose(model.weights[current_layer_number + 1].value)) * sigmoid_prime(model.layers[current_layer_number].data)\n",
    "        # print(answer)\n",
    "        return answer"
   ]
  },
  {
   "cell_type": "code",
   "execution_count": 189,
   "id": "4bcf9564",
   "metadata": {},
   "outputs": [
    {
     "name": "stdout",
     "output_type": "stream",
     "text": [
      "Shape of delta matrix of Layer -3 (5, 107)\n",
      "Shape of delta matrix of Layer -2 (5, 26)\n",
      "Shape of delta matrix of Layer -1 (5, 10)\n",
      "3\n"
     ]
    }
   ],
   "source": [
    "numberOfWeightOrBiasMatrices = 3\n",
    "delta_list = []     #deltas will be stored in order -3 , -2, -1 that is (for layer 1, layer 2, layer 3(output layer))\n",
    "for i in (range(numberOfWeightOrBiasMatrices)):\n",
    "    temp = delta_calc(i - numberOfWeightOrBiasMatrices)\n",
    "    delta_list.append(temp)\n",
    "    print(\"Shape of delta matrix of Layer\",i-numberOfWeightOrBiasMatrices,temp.shape)\n",
    "\n",
    "print(len(delta_list))      #no. of delta matrices added\n"
   ]
  },
  {
   "cell_type": "code",
   "execution_count": 205,
   "id": "bf2b3429",
   "metadata": {},
   "outputs": [],
   "source": [
    "def dJdW(current_layernumber):         #input layer number in negatives\n",
    "    input_of_current_layer = np.transpose(model.layers[current_layernumber-1].data)\n",
    "    ans = np.dot(input_of_current_layer, delta_calc(current_layernumber) )\n",
    "    return ans\n"
   ]
  },
  {
   "cell_type": "code",
   "execution_count": 206,
   "id": "4c505f6e",
   "metadata": {},
   "outputs": [],
   "source": [
    "def dJdB(currentlayernumber):       #input layer number in negatives\n",
    "    ans = np.sum(delta_calc(currentlayernumber), axis = 0)\n",
    "    return ans"
   ]
  },
  {
   "cell_type": "code",
   "execution_count": 207,
   "id": "936a922f",
   "metadata": {},
   "outputs": [],
   "source": [
    "learning_rate = 1\n"
   ]
  },
  {
   "cell_type": "code",
   "execution_count": null,
   "id": "f0684970",
   "metadata": {},
   "outputs": [],
   "source": [
    "# def update_parameters(learning_rate):\n",
    "#     for i in range(len(model.weights)):\n",
    "#         w_grad = dJdW(-(len(model.weights)-i))\n",
    "#         b_grad = dJdB(-(len(model.biases)-i))\n",
    "#         model.weights[i].value -= learning_rate * w_grad\n",
    "#         model.biases[i].value  -= learning_rate * b_grad\n"
   ]
  },
  {
   "cell_type": "code",
   "execution_count": null,
   "id": "e742d090",
   "metadata": {},
   "outputs": [
    {
     "name": "stdout",
     "output_type": "stream",
     "text": [
      "Epoch 0, Cost: 21.595649892891544\n",
      "Epoch 100, Cost: 39.39911291183949\n",
      "Epoch 200, Cost: 39.99982730815431\n",
      "Epoch 300, Cost: 40.001661402984155\n",
      "Epoch 400, Cost: 40.02653982887857\n",
      "Epoch 500, Cost: 40.31136431378264\n",
      "Epoch 600, Cost: 41.7085899975422\n",
      "Epoch 700, Cost: 43.66544935281328\n",
      "Epoch 800, Cost: 44.62556131780675\n",
      "Epoch 900, Cost: 44.90751555815546\n"
     ]
    }
   ],
   "source": [
    "epochs = 1000\n",
    "\n",
    "# for epoch in range(epochs):\n",
    "#     model.forward()  # forward pass\n",
    "#     cost = costFunction(model.output, actual)\n",
    "    \n",
    "#     # Calculate deltas again\n",
    "#     delta_list.clear()\n",
    "#     for i in range(numberOfWeightOrBiasMatrices):\n",
    "#         temp = delta_calc(i - numberOfWeightOrBiasMatrices)\n",
    "#         delta_list.append(temp)\n",
    "\n",
    "#     update_parameters(learning_rate)\n",
    "    \n",
    "#     if epoch % 100 == 0:\n",
    "#         print(f\"Epoch {epoch}, Cost: {cost}\")\n"
   ]
  },
  {
   "cell_type": "code",
   "execution_count": 232,
   "id": "2b237023",
   "metadata": {},
   "outputs": [
    {
     "name": "stdout",
     "output_type": "stream",
     "text": [
      "(26, 10)\n"
     ]
    }
   ],
   "source": [
    "new_weights = np.array((model.weights[-1].value) - (dJdW(-1)))\n",
    "# model.weights[-1].value.shape\n",
    "print(new_weights.shape)"
   ]
  },
  {
   "cell_type": "code",
   "execution_count": null,
   "id": "61d56b80",
   "metadata": {},
   "outputs": [
    {
     "name": "stdout",
     "output_type": "stream",
     "text": [
      "(1, 10)\n"
     ]
    }
   ],
   "source": [
    "new_biases = np.array((model.biases[-1].value) - (dJdB(-1)))\n",
    "\n",
    "print(new_biases.shape)"
   ]
  }
 ],
 "metadata": {
  "kernelspec": {
   "display_name": "base",
   "language": "python",
   "name": "python3"
  },
  "language_info": {
   "codemirror_mode": {
    "name": "ipython",
    "version": 3
   },
   "file_extension": ".py",
   "mimetype": "text/x-python",
   "name": "python",
   "nbconvert_exporter": "python",
   "pygments_lexer": "ipython3",
   "version": "3.12.7"
  }
 },
 "nbformat": 4,
 "nbformat_minor": 5
}
